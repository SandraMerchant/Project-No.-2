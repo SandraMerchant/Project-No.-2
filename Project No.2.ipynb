{
 "cells": [
  {
   "cell_type": "code",
   "execution_count": 116,
   "id": "ff25199f",
   "metadata": {},
   "outputs": [],
   "source": [
    "import pandas as pd\n",
    "import seaborn as sns\n",
    "import numpy as np\n",
    "import seaborn as sns\n",
    "import matplotlib.pyplot as plt\n",
    "%matplotlib inline\n",
    "sns.set(color_codes=True)\n",
    "from scipy import stats"
   ]
  },
  {
   "cell_type": "markdown",
   "id": "eab20e6c",
   "metadata": {},
   "source": [
    "## Exploratory Data Analysis"
   ]
  },
  {
   "cell_type": "code",
   "execution_count": 117,
   "id": "be7a5637",
   "metadata": {},
   "outputs": [],
   "source": [
    "Exp_and_Imp = pd.read_csv('import_and_export.csv')"
   ]
  },
  {
   "cell_type": "code",
   "execution_count": 149,
   "id": "f3e201cb",
   "metadata": {},
   "outputs": [
    {
     "data": {
      "text/html": [
       "<div>\n",
       "<style scoped>\n",
       "    .dataframe tbody tr th:only-of-type {\n",
       "        vertical-align: middle;\n",
       "    }\n",
       "\n",
       "    .dataframe tbody tr th {\n",
       "        vertical-align: top;\n",
       "    }\n",
       "\n",
       "    .dataframe thead th {\n",
       "        text-align: right;\n",
       "    }\n",
       "</style>\n",
       "<table border=\"1\" class=\"dataframe\">\n",
       "  <thead>\n",
       "    <tr style=\"text-align: right;\">\n",
       "      <th></th>\n",
       "      <th>Country</th>\n",
       "      <th>category</th>\n",
       "      <th>flow</th>\n",
       "      <th>measure</th>\n",
       "      <th>Unit</th>\n",
       "      <th>Year</th>\n",
       "      <th>Value</th>\n",
       "    </tr>\n",
       "  </thead>\n",
       "  <tbody>\n",
       "    <tr>\n",
       "      <th>0</th>\n",
       "      <td>Ireland</td>\n",
       "      <td>Construction</td>\n",
       "      <td>Exports</td>\n",
       "      <td>US Dollars at current prices in millions</td>\n",
       "      <td>Millions of U.S. dollars</td>\n",
       "      <td>2012</td>\n",
       "      <td>69.379</td>\n",
       "    </tr>\n",
       "    <tr>\n",
       "      <th>1</th>\n",
       "      <td>Ireland</td>\n",
       "      <td>Construction</td>\n",
       "      <td>Exports</td>\n",
       "      <td>US Dollars at current prices in millions</td>\n",
       "      <td>Millions of U.S. dollars</td>\n",
       "      <td>2013</td>\n",
       "      <td>67.734</td>\n",
       "    </tr>\n",
       "    <tr>\n",
       "      <th>2</th>\n",
       "      <td>Ireland</td>\n",
       "      <td>Construction</td>\n",
       "      <td>Exports</td>\n",
       "      <td>US Dollars at current prices in millions</td>\n",
       "      <td>Millions of U.S. dollars</td>\n",
       "      <td>2014</td>\n",
       "      <td>79.710</td>\n",
       "    </tr>\n",
       "    <tr>\n",
       "      <th>3</th>\n",
       "      <td>Ireland</td>\n",
       "      <td>Construction</td>\n",
       "      <td>Exports</td>\n",
       "      <td>US Dollars at current prices in millions</td>\n",
       "      <td>Millions of U.S. dollars</td>\n",
       "      <td>2015</td>\n",
       "      <td>77.666</td>\n",
       "    </tr>\n",
       "    <tr>\n",
       "      <th>4</th>\n",
       "      <td>Ireland</td>\n",
       "      <td>Construction</td>\n",
       "      <td>Exports</td>\n",
       "      <td>US Dollars at current prices in millions</td>\n",
       "      <td>Millions of U.S. dollars</td>\n",
       "      <td>2016</td>\n",
       "      <td>76.376</td>\n",
       "    </tr>\n",
       "  </tbody>\n",
       "</table>\n",
       "</div>"
      ],
      "text/plain": [
       "   Country      category     flow                                   measure  \\\n",
       "0  Ireland  Construction  Exports  US Dollars at current prices in millions   \n",
       "1  Ireland  Construction  Exports  US Dollars at current prices in millions   \n",
       "2  Ireland  Construction  Exports  US Dollars at current prices in millions   \n",
       "3  Ireland  Construction  Exports  US Dollars at current prices in millions   \n",
       "4  Ireland  Construction  Exports  US Dollars at current prices in millions   \n",
       "\n",
       "                       Unit  Year   Value  \n",
       "0  Millions of U.S. dollars  2012  69.379  \n",
       "1  Millions of U.S. dollars  2013  67.734  \n",
       "2  Millions of U.S. dollars  2014  79.710  \n",
       "3  Millions of U.S. dollars  2015  77.666  \n",
       "4  Millions of U.S. dollars  2016  76.376  "
      ]
     },
     "execution_count": 149,
     "metadata": {},
     "output_type": "execute_result"
    }
   ],
   "source": [
    "Exp_and_Imp.head()"
   ]
  },
  {
   "cell_type": "code",
   "execution_count": 119,
   "id": "0d8646dc",
   "metadata": {},
   "outputs": [
    {
     "name": "stdout",
     "output_type": "stream",
     "text": [
      "<class 'pandas.core.frame.DataFrame'>\n",
      "RangeIndex: 60 entries, 0 to 59\n",
      "Data columns (total 7 columns):\n",
      " #   Column    Non-Null Count  Dtype  \n",
      "---  ------    --------------  -----  \n",
      " 0   location  60 non-null     object \n",
      " 1   category  60 non-null     object \n",
      " 2   flow      60 non-null     object \n",
      " 3   measure   60 non-null     object \n",
      " 4   Unit      60 non-null     object \n",
      " 5   Date      60 non-null     int64  \n",
      " 6   Value     60 non-null     float64\n",
      "dtypes: float64(1), int64(1), object(5)\n",
      "memory usage: 3.4+ KB\n"
     ]
    }
   ],
   "source": [
    "Exp_and_Imp.info()"
   ]
  },
  {
   "cell_type": "code",
   "execution_count": 120,
   "id": "12acc3b6",
   "metadata": {},
   "outputs": [
    {
     "data": {
      "text/plain": [
       "location     object\n",
       "category     object\n",
       "flow         object\n",
       "measure      object\n",
       "Unit         object\n",
       "Date          int64\n",
       "Value       float64\n",
       "dtype: object"
      ]
     },
     "execution_count": 120,
     "metadata": {},
     "output_type": "execute_result"
    }
   ],
   "source": [
    "Exp_and_Imp.dtypes"
   ]
  },
  {
   "cell_type": "code",
   "execution_count": 121,
   "id": "35d87b51",
   "metadata": {},
   "outputs": [
    {
     "data": {
      "text/html": [
       "<div>\n",
       "<style scoped>\n",
       "    .dataframe tbody tr th:only-of-type {\n",
       "        vertical-align: middle;\n",
       "    }\n",
       "\n",
       "    .dataframe tbody tr th {\n",
       "        vertical-align: top;\n",
       "    }\n",
       "\n",
       "    .dataframe thead th {\n",
       "        text-align: right;\n",
       "    }\n",
       "</style>\n",
       "<table border=\"1\" class=\"dataframe\">\n",
       "  <thead>\n",
       "    <tr style=\"text-align: right;\">\n",
       "      <th></th>\n",
       "      <th>Country</th>\n",
       "      <th>category</th>\n",
       "      <th>flow</th>\n",
       "      <th>measure</th>\n",
       "      <th>Unit</th>\n",
       "      <th>Year</th>\n",
       "      <th>Value</th>\n",
       "    </tr>\n",
       "  </thead>\n",
       "  <tbody>\n",
       "    <tr>\n",
       "      <th>0</th>\n",
       "      <td>Ireland</td>\n",
       "      <td>Construction</td>\n",
       "      <td>Exports</td>\n",
       "      <td>US Dollars at current prices in millions</td>\n",
       "      <td>Millions of U.S. dollars</td>\n",
       "      <td>2012</td>\n",
       "      <td>69.379</td>\n",
       "    </tr>\n",
       "    <tr>\n",
       "      <th>1</th>\n",
       "      <td>Ireland</td>\n",
       "      <td>Construction</td>\n",
       "      <td>Exports</td>\n",
       "      <td>US Dollars at current prices in millions</td>\n",
       "      <td>Millions of U.S. dollars</td>\n",
       "      <td>2013</td>\n",
       "      <td>67.734</td>\n",
       "    </tr>\n",
       "    <tr>\n",
       "      <th>2</th>\n",
       "      <td>Ireland</td>\n",
       "      <td>Construction</td>\n",
       "      <td>Exports</td>\n",
       "      <td>US Dollars at current prices in millions</td>\n",
       "      <td>Millions of U.S. dollars</td>\n",
       "      <td>2014</td>\n",
       "      <td>79.710</td>\n",
       "    </tr>\n",
       "    <tr>\n",
       "      <th>3</th>\n",
       "      <td>Ireland</td>\n",
       "      <td>Construction</td>\n",
       "      <td>Exports</td>\n",
       "      <td>US Dollars at current prices in millions</td>\n",
       "      <td>Millions of U.S. dollars</td>\n",
       "      <td>2015</td>\n",
       "      <td>77.666</td>\n",
       "    </tr>\n",
       "    <tr>\n",
       "      <th>4</th>\n",
       "      <td>Ireland</td>\n",
       "      <td>Construction</td>\n",
       "      <td>Exports</td>\n",
       "      <td>US Dollars at current prices in millions</td>\n",
       "      <td>Millions of U.S. dollars</td>\n",
       "      <td>2016</td>\n",
       "      <td>76.376</td>\n",
       "    </tr>\n",
       "  </tbody>\n",
       "</table>\n",
       "</div>"
      ],
      "text/plain": [
       "   Country      category     flow                                   measure  \\\n",
       "0  Ireland  Construction  Exports  US Dollars at current prices in millions   \n",
       "1  Ireland  Construction  Exports  US Dollars at current prices in millions   \n",
       "2  Ireland  Construction  Exports  US Dollars at current prices in millions   \n",
       "3  Ireland  Construction  Exports  US Dollars at current prices in millions   \n",
       "4  Ireland  Construction  Exports  US Dollars at current prices in millions   \n",
       "\n",
       "                       Unit  Year   Value  \n",
       "0  Millions of U.S. dollars  2012  69.379  \n",
       "1  Millions of U.S. dollars  2013  67.734  \n",
       "2  Millions of U.S. dollars  2014  79.710  \n",
       "3  Millions of U.S. dollars  2015  77.666  \n",
       "4  Millions of U.S. dollars  2016  76.376  "
      ]
     },
     "execution_count": 121,
     "metadata": {},
     "output_type": "execute_result"
    }
   ],
   "source": [
    "# Renaming the column names \n",
    "\n",
    "Exp_and_Imp = Exp_and_Imp.rename(columns={\"Date\":\"Year\",\"location\":\"Country\"})\n",
    "Exp_and_Imp.head()\n"
   ]
  },
  {
   "cell_type": "code",
   "execution_count": 122,
   "id": "c7c7403e",
   "metadata": {},
   "outputs": [
    {
     "data": {
      "text/plain": [
       "(60, 7)"
      ]
     },
     "execution_count": 122,
     "metadata": {},
     "output_type": "execute_result"
    }
   ],
   "source": [
    "Exp_and_Imp.shape "
   ]
  },
  {
   "cell_type": "code",
   "execution_count": 123,
   "id": "8f24787a",
   "metadata": {},
   "outputs": [
    {
     "name": "stdout",
     "output_type": "stream",
     "text": [
      "number of duplicate rows:  (0, 7)\n"
     ]
    }
   ],
   "source": [
    "duplicate_rows_df= Exp_and_Imp[Exp_and_Imp.duplicated()] \n",
    "print(\"number of duplicate rows: \", duplicate_rows_df.shape)"
   ]
  },
  {
   "cell_type": "code",
   "execution_count": 124,
   "id": "61b18d4f",
   "metadata": {},
   "outputs": [
    {
     "name": "stdout",
     "output_type": "stream",
     "text": [
      "Country     0\n",
      "category    0\n",
      "flow        0\n",
      "measure     0\n",
      "Unit        0\n",
      "Year        0\n",
      "Value       0\n",
      "dtype: int64\n"
     ]
    }
   ],
   "source": [
    "print(Exp_and_Imp.isnull().sum()) \n"
   ]
  },
  {
   "cell_type": "markdown",
   "id": "b1338686",
   "metadata": {},
   "source": [
    "## Descriptive Statistics"
   ]
  },
  {
   "cell_type": "code",
   "execution_count": 125,
   "id": "a831ca24",
   "metadata": {},
   "outputs": [
    {
     "data": {
      "text/html": [
       "<div>\n",
       "<style scoped>\n",
       "    .dataframe tbody tr th:only-of-type {\n",
       "        vertical-align: middle;\n",
       "    }\n",
       "\n",
       "    .dataframe tbody tr th {\n",
       "        vertical-align: top;\n",
       "    }\n",
       "\n",
       "    .dataframe thead th {\n",
       "        text-align: right;\n",
       "    }\n",
       "</style>\n",
       "<table border=\"1\" class=\"dataframe\">\n",
       "  <thead>\n",
       "    <tr style=\"text-align: right;\">\n",
       "      <th></th>\n",
       "      <th>Year</th>\n",
       "      <th>Value</th>\n",
       "    </tr>\n",
       "  </thead>\n",
       "  <tbody>\n",
       "    <tr>\n",
       "      <th>count</th>\n",
       "      <td>60.00000</td>\n",
       "      <td>60.000000</td>\n",
       "    </tr>\n",
       "    <tr>\n",
       "      <th>mean</th>\n",
       "      <td>2016.50000</td>\n",
       "      <td>2180.134800</td>\n",
       "    </tr>\n",
       "    <tr>\n",
       "      <th>std</th>\n",
       "      <td>2.89652</td>\n",
       "      <td>1461.661048</td>\n",
       "    </tr>\n",
       "    <tr>\n",
       "      <th>min</th>\n",
       "      <td>2012.00000</td>\n",
       "      <td>67.734000</td>\n",
       "    </tr>\n",
       "    <tr>\n",
       "      <th>25%</th>\n",
       "      <td>2014.00000</td>\n",
       "      <td>979.252250</td>\n",
       "    </tr>\n",
       "    <tr>\n",
       "      <th>50%</th>\n",
       "      <td>2016.50000</td>\n",
       "      <td>2315.629000</td>\n",
       "    </tr>\n",
       "    <tr>\n",
       "      <th>75%</th>\n",
       "      <td>2019.00000</td>\n",
       "      <td>3161.097500</td>\n",
       "    </tr>\n",
       "    <tr>\n",
       "      <th>max</th>\n",
       "      <td>2021.00000</td>\n",
       "      <td>5437.156000</td>\n",
       "    </tr>\n",
       "  </tbody>\n",
       "</table>\n",
       "</div>"
      ],
      "text/plain": [
       "             Year        Value\n",
       "count    60.00000    60.000000\n",
       "mean   2016.50000  2180.134800\n",
       "std       2.89652  1461.661048\n",
       "min    2012.00000    67.734000\n",
       "25%    2014.00000   979.252250\n",
       "50%    2016.50000  2315.629000\n",
       "75%    2019.00000  3161.097500\n",
       "max    2021.00000  5437.156000"
      ]
     },
     "execution_count": 125,
     "metadata": {},
     "output_type": "execute_result"
    }
   ],
   "source": [
    "Exp_and_Imp.describe() # Why does it looks like this ??"
   ]
  },
  {
   "cell_type": "code",
   "execution_count": 126,
   "id": "03adf629",
   "metadata": {},
   "outputs": [
    {
     "data": {
      "text/html": [
       "<div>\n",
       "<style scoped>\n",
       "    .dataframe tbody tr th:only-of-type {\n",
       "        vertical-align: middle;\n",
       "    }\n",
       "\n",
       "    .dataframe tbody tr th {\n",
       "        vertical-align: top;\n",
       "    }\n",
       "\n",
       "    .dataframe thead th {\n",
       "        text-align: right;\n",
       "    }\n",
       "</style>\n",
       "<table border=\"1\" class=\"dataframe\">\n",
       "  <thead>\n",
       "    <tr style=\"text-align: right;\">\n",
       "      <th></th>\n",
       "      <th>Country</th>\n",
       "      <th>category</th>\n",
       "      <th>flow</th>\n",
       "      <th>measure</th>\n",
       "      <th>Unit</th>\n",
       "    </tr>\n",
       "  </thead>\n",
       "  <tbody>\n",
       "    <tr>\n",
       "      <th>count</th>\n",
       "      <td>60</td>\n",
       "      <td>60</td>\n",
       "      <td>60</td>\n",
       "      <td>60</td>\n",
       "      <td>60</td>\n",
       "    </tr>\n",
       "    <tr>\n",
       "      <th>unique</th>\n",
       "      <td>3</td>\n",
       "      <td>1</td>\n",
       "      <td>2</td>\n",
       "      <td>1</td>\n",
       "      <td>1</td>\n",
       "    </tr>\n",
       "    <tr>\n",
       "      <th>top</th>\n",
       "      <td>Ireland</td>\n",
       "      <td>Construction</td>\n",
       "      <td>Exports</td>\n",
       "      <td>US Dollars at current prices in millions</td>\n",
       "      <td>Millions of U.S. dollars</td>\n",
       "    </tr>\n",
       "    <tr>\n",
       "      <th>freq</th>\n",
       "      <td>20</td>\n",
       "      <td>60</td>\n",
       "      <td>30</td>\n",
       "      <td>60</td>\n",
       "      <td>60</td>\n",
       "    </tr>\n",
       "  </tbody>\n",
       "</table>\n",
       "</div>"
      ],
      "text/plain": [
       "        Country      category     flow  \\\n",
       "count        60            60       60   \n",
       "unique        3             1        2   \n",
       "top     Ireland  Construction  Exports   \n",
       "freq         20            60       30   \n",
       "\n",
       "                                         measure                      Unit  \n",
       "count                                         60                        60  \n",
       "unique                                         1                         1  \n",
       "top     US Dollars at current prices in millions  Millions of U.S. dollars  \n",
       "freq                                          60                        60  "
      ]
     },
     "execution_count": 126,
     "metadata": {},
     "output_type": "execute_result"
    }
   ],
   "source": [
    "# Summary of my categorical data \n",
    "Exp_and_Imp.describe(include=object) "
   ]
  },
  {
   "cell_type": "code",
   "execution_count": 127,
   "id": "507042d3",
   "metadata": {},
   "outputs": [
    {
     "name": "stdout",
     "output_type": "stream",
     "text": [
      "0            France\n",
      "1           Ireland\n",
      "2    United Kingdom\n",
      "Name: Country, dtype: object\n"
     ]
    }
   ],
   "source": [
    "# mode of the categorical feature\n",
    "mode = Exp_and_Imp['Country'].mode()\n",
    "print(mode)"
   ]
  },
  {
   "cell_type": "code",
   "execution_count": 128,
   "id": "c5f8d319",
   "metadata": {},
   "outputs": [
    {
     "name": "stdout",
     "output_type": "stream",
     "text": [
      "2315.629\n"
     ]
    }
   ],
   "source": [
    "# mode of the categorical feature\n",
    "median = Exp_and_Imp['Value'].median()\n",
    "print(median)"
   ]
  },
  {
   "cell_type": "code",
   "execution_count": 129,
   "id": "cb03613f",
   "metadata": {},
   "outputs": [
    {
     "ename": "NameError",
     "evalue": "name 'std_dev' is not defined",
     "output_type": "error",
     "traceback": [
      "\u001b[1;31m---------------------------------------------------------------------------\u001b[0m",
      "\u001b[1;31mNameError\u001b[0m                                 Traceback (most recent call last)",
      "Cell \u001b[1;32mIn[129], line 3\u001b[0m\n\u001b[0;32m      1\u001b[0m \u001b[38;5;66;03m# Display of a histogram graph of the dispersion of a specific column \u001b[39;00m\n\u001b[0;32m      2\u001b[0m Exp_and_Imp[\u001b[38;5;124m'\u001b[39m\u001b[38;5;124mValue\u001b[39m\u001b[38;5;124m'\u001b[39m]\u001b[38;5;241m.\u001b[39mplot(kind\u001b[38;5;241m=\u001b[39m\u001b[38;5;124m'\u001b[39m\u001b[38;5;124mbar\u001b[39m\u001b[38;5;124m'\u001b[39m)\n\u001b[1;32m----> 3\u001b[0m plt\u001b[38;5;241m.\u001b[39maxvline(x\u001b[38;5;241m=\u001b[39m\u001b[43mstd_dev\u001b[49m, color\u001b[38;5;241m=\u001b[39m\u001b[38;5;124m'\u001b[39m\u001b[38;5;124mr\u001b[39m\u001b[38;5;124m'\u001b[39m, linestyle\u001b[38;5;241m=\u001b[39m\u001b[38;5;124m'\u001b[39m\u001b[38;5;124m'\u001b[39m)\n\u001b[0;32m      5\u001b[0m \u001b[38;5;66;03m# set the plot title and labels\u001b[39;00m\n\u001b[0;32m      6\u001b[0m plt\u001b[38;5;241m.\u001b[39mtitle(\u001b[38;5;124m\"\u001b[39m\u001b[38;5;124mHistogram with Standard Deviation\u001b[39m\u001b[38;5;124m\"\u001b[39m)\n",
      "\u001b[1;31mNameError\u001b[0m: name 'std_dev' is not defined"
     ]
    },
    {
     "data": {
      "image/png": "[encoded data removed]",
      "text/plain": [
       "<Figure size 640x480 with 1 Axes>"
      ]
     },
     "metadata": {},
     "output_type": "display_data"
    }
   ],
   "source": [
    "# Display of a histogram graph of the dispersion of a specific column \n",
    "Exp_and_Imp['Value'].plot(kind='bar')\n",
    "plt.axvline(x=std_dev, color='r', linestyle='')\n",
    "\n",
    "# set the plot title and labels\n",
    "plt.title(\"Histogram with Standard Deviation\")\n",
    "plt.xlabel(\"Value\")\n",
    "plt.ylabel(\"Frecuency\")\n",
    "\n",
    "# display the plot\n",
    "plt.show()"
   ]
  },
  {
   "cell_type": "code",
   "execution_count": 135,
   "id": "43cac36f",
   "metadata": {},
   "outputs": [
    {
     "data": {
      "text/plain": [
       "Text(0.5, 1.0, 'Box plot Value')"
      ]
     },
     "execution_count": 135,
     "metadata": {},
     "output_type": "execute_result"
    },
    {
     "data": {
      "image/png": "[encoded data removed]",
      "text/plain": [
       "<Figure size 640x480 with 1 Axes>"
      ]
     },
     "metadata": {},
     "output_type": "display_data"
    }
   ],
   "source": [
    "# Boxplot by Group\n",
    "sns.boxplot(x = 'Country', y ='Value',\n",
    "            data=Exp_and_Imp, hue = 'Country')\n",
    "plt.title('Box plot Value',\n",
    "          fontsize=15)"
   ]
  },
  {
   "cell_type": "code",
   "execution_count": 136,
   "id": "99b625e1",
   "metadata": {},
   "outputs": [],
   "source": [
    "# Filter the data to only include imports and exports\n",
    "data = Exp_and_Imp[Exp_and_Imp['flow'].isin(['Imports', 'Exports'])]"
   ]
  },
  {
   "cell_type": "code",
   "execution_count": 137,
   "id": "20ed3b43",
   "metadata": {
    "scrolled": true
   },
   "outputs": [
    {
     "data": {
      "text/plain": [
       "<AxesSubplot:ylabel='Year'>"
      ]
     },
     "execution_count": 137,
     "metadata": {},
     "output_type": "execute_result"
    },
    {
     "data": {
      "image/png": "[encoded data removed]",
      "text/plain": [
       "<Figure size 640x480 with 1 Axes>"
      ]
     },
     "metadata": {},
     "output_type": "display_data"
    }
   ],
   "source": [
    "# Pivot the data to create a new DataFrame with years as columns and flows as rows\n",
    "pivot_data = data.pivot_table(index='Year', columns= ['flow'], values='Value')\n",
    "pivot_data['Total'] = pivot_data['Imports'] + pivot_data['Exports'] \n",
    "pivot_data['Imports %'] = pivot_data['Imports'] / pivot_data['Total'] * 100\n",
    "pivot_data['Exports %'] = pivot_data['Exports'] / pivot_data['Total'] * 100\n",
    "\n",
    "pivot_data = data.pivot_table(index='Year', columns='flow', values='Value')\n",
    "pivot_data['Total'] = pivot_data['Imports'] + pivot_data['Exports']\n",
    "pivot_data['Imports %'] = pivot_data['Imports'] / pivot_data['Total'] * 100\n",
    "pivot_data['Exports %'] = pivot_data['Exports'] / pivot_data['Total'] * 100\n",
    "\n",
    "# Create a horizontal stacked bar chart\n",
    "pivot_data[['Imports %', 'Exports %']].plot(kind='barh', stacked=True)"
   ]
  },
  {
   "cell_type": "markdown",
   "id": "b87214ad",
   "metadata": {},
   "source": [
    "## Normal distribution "
   ]
  },
  {
   "cell_type": "code",
   "execution_count": 130,
   "id": "f881b3d0",
   "metadata": {},
   "outputs": [],
   "source": [
    "import pandas as pd\n",
    "from scipy.stats import shapiro, norm\n",
    "import matplotlib.pyplot as plt\n",
    "\n"
   ]
  },
  {
   "cell_type": "code",
   "execution_count": 131,
   "id": "0c04e6d9",
   "metadata": {},
   "outputs": [
    {
     "name": "stdout",
     "output_type": "stream",
     "text": [
      "Shapiro-Wilk Test: Statistics=0.956, p=0.029\n",
      "The data does not come from a normal distribution\n"
     ]
    }
   ],
   "source": [
    "values = Exp_and_Imp['Value']\n",
    "\n",
    "# check if the data comes from a normal distribution using the Shapiro-Wilk test\n",
    "stat, p = shapiro(values)\n",
    "print('Shapiro-Wilk Test: Statistics=%.3f, p=%.3f' % (stat, p))\n",
    "alpha = 0.05\n",
    "if p > alpha:\n",
    "    print('The data comes from a normal distribution')\n",
    "else:\n",
    "    print('The data does not come from a normal distribution')\n"
   ]
  },
  {
   "cell_type": "code",
   "execution_count": 132,
   "id": "d6089287",
   "metadata": {},
   "outputs": [
    {
     "name": "stdout",
     "output_type": "stream",
     "text": [
      "Mean: 2180.13, Standard Deviation: 1449.43\n"
     ]
    }
   ],
   "source": [
    "# generate a normal distribution with the same mean and standard deviation as the data\n",
    "mu, std = norm.fit(values)\n",
    "print('Mean: %.2f, Standard Deviation: %.2f' % (mu, std))"
   ]
  },
  {
   "cell_type": "code",
   "execution_count": 133,
   "id": "969779a8",
   "metadata": {},
   "outputs": [
    {
     "data": {
      "image/png": "[encoded data removed]",
      "text/plain": [
       "<Figure size 640x480 with 1 Axes>"
      ]
     },
     "metadata": {},
     "output_type": "display_data"
    }
   ],
   "source": [
    "# plot the histogram of the data and the probability density function of the normal distribution\n",
    "plt.hist(values, bins=20, density=True, alpha=0.6)\n",
    "xmin, xmax = plt.xlim()\n",
    "x = np.linspace(xmin, xmax, 100)\n",
    "p = norm.pdf(x, mu, std)\n",
    "plt.plot(x, p, 'k', linewidth=2)\n",
    "plt.xlabel('Value')\n",
    "plt.ylabel('Density')\n",
    "plt.show()"
   ]
  },
  {
   "cell_type": "markdown",
   "id": "74d7674a",
   "metadata": {},
   "source": [
    "## Non parametric "
   ]
  },
  {
   "cell_type": "code",
   "execution_count": 138,
   "id": "19ee4dae",
   "metadata": {},
   "outputs": [],
   "source": [
    "from scipy.stats import wilcoxon\n",
    "import pandas as pd"
   ]
  },
  {
   "cell_type": "code",
   "execution_count": 145,
   "id": "759b61f5",
   "metadata": {},
   "outputs": [
    {
     "name": "stdout",
     "output_type": "stream",
     "text": [
      "France\n",
      "2017-2018: p = 0.5\n",
      "2018-2019: p = 1.0\n",
      "2019-2020: p = 0.5\n",
      "2020-2021: p = 1.0\n",
      "\n",
      "\n",
      "Ireland\n",
      "2017-2018: p = 0.5\n",
      "2018-2019: p = 0.5\n",
      "2019-2020: p = 0.5\n",
      "2020-2021: p = 0.5\n",
      "\n",
      "\n",
      "United Kingdom\n",
      "2017-2018: p = 0.5\n",
      "2018-2019: p = 0.5\n",
      "2019-2020: p = 0.5\n",
      "2020-2021: p = 1.0\n",
      "\n",
      "\n"
     ]
    }
   ],
   "source": [
    "\n",
    "# Group the data by country\n",
    "grouped_data = data.groupby(\"Country\")\n",
    "\n",
    "# Perform the Wilcoxon signed-rank test for each country\n",
    "for country, group in grouped_data:\n",
    "    # Extract the construction export values for each year\n",
    "    values_2017 = group[group[\"Year\"] == 2017][\"Value\"]\n",
    "    values_2018 = group[group[\"Year\"] == 2018][\"Value\"]\n",
    "    values_2019 = group[group[\"Year\"] == 2019][\"Value\"]\n",
    "    values_2020 = group[group[\"Year\"] == 2020][\"Value\"]\n",
    "    values_2021 = group[group[\"Year\"] == 2021][\"Value\"]\n",
    "    \n",
    "    # Perform the Wilcoxon signed-rank test for each pair of years\n",
    "    _, p_value_2017_2018 = wilcoxon(values_2017, values_2018)\n",
    "    _, p_value_2018_2019 = wilcoxon(values_2018, values_2019)\n",
    "    _, p_value_2019_2020 = wilcoxon(values_2019, values_2020)\n",
    "    _, p_value_2020_2021 = wilcoxon(values_2020, values_2021)\n",
    "    \n",
    "    # Print the p-values for each pair of years\n",
    "    print(country)\n",
    "    print(\"2017-2018: p =\", p_value_2017_2018)\n",
    "    print(\"2018-2019: p =\", p_value_2018_2019)\n",
    "    print(\"2019-2020: p =\", p_value_2019_2020)\n",
    "    print(\"2020-2021: p =\", p_value_2020_2021)\n",
    "    print(\"\\n\")\n"
   ]
  },
  {
   "cell_type": "markdown",
   "id": "f1521e9e",
   "metadata": {},
   "source": [
    "## Result of Wilcoxon"
   ]
  },
  {
   "cell_type": "code",
   "execution_count": 147,
   "id": "581f4993",
   "metadata": {},
   "outputs": [
    {
     "data": {
      "image/png": "[encoded data removed]",
      "text/plain": [
       "<Figure size 640x480 with 1 Axes>"
      ]
     },
     "metadata": {},
     "output_type": "display_data"
    }
   ],
   "source": [
    "import matplotlib.pyplot as plt\n",
    "\n",
    "# Define x-axis values (years)\n",
    "years = [2017, 2018, 2019, 2020]\n",
    "\n",
    "# Set the x-axis ticks to display as whole numbers\n",
    "plt.xticks(years, [int(year) for year in years])\n",
    "\n",
    "# Define y-axis values for each country\n",
    "france = [0.5, 1.0, 0.5, 1.0]\n",
    "ireland = [0.5, 0.5, 0.5, 0.5]\n",
    "uk = [0.5, 0.5, 0.5, 1.0]\n",
    "\n",
    "# Create the line graph\n",
    "plt.plot(years, france, label='France')\n",
    "plt.plot(years, ireland, label='Ireland')\n",
    "plt.plot(years, uk, label='United Kingdom')\n",
    "\n",
    "# Add labels and legend\n",
    "plt.xlabel('Year')\n",
    "plt.ylabel('p-value')\n",
    "plt.title('Wilcoxon Test Results')\n",
    "plt.legend()\n",
    "\n",
    "# Show the graph\n",
    "plt.show()\n"
   ]
  },
  {
   "cell_type": "code",
   "execution_count": null,
   "id": "4c49e20c",
   "metadata": {},
   "outputs": [],
   "source": []
  }
 ],
 "metadata": {
  "kernelspec": {
   "display_name": "Python 3 (ipykernel)",
   "language": "python",
   "name": "python3"
  },
  "language_info": {
   "codemirror_mode": {
    "name": "ipython",
    "version": 3
   },
   "file_extension": ".py",
   "mimetype": "text/x-python",
   "name": "python",
   "nbconvert_exporter": "python",
   "pygments_lexer": "ipython3",
   "version": "3.9.13"
  }
 },
 "nbformat": 4,
 "nbformat_minor": 5
}
