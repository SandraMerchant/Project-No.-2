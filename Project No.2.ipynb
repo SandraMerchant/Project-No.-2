{
 "cells": [
  {
   "cell_type": "code",
   "execution_count": 105,
   "id": "ff25199f",
   "metadata": {},
   "outputs": [],
   "source": [
    "import pandas as pd\n",
    "import seaborn as sns\n",
    "import numpy as np\n",
    "import seaborn as sns\n",
    "import matplotlib.pyplot as plt\n",
    "%matplotlib inline\n",
    "sns.set(color_codes=True)"
   ]
  },
  {
   "cell_type": "markdown",
   "id": "eab20e6c",
   "metadata": {},
   "source": [
    "## Exploratory Data Analysis"
   ]
  },
  {
   "cell_type": "code",
   "execution_count": 106,
   "id": "be7a5637",
   "metadata": {},
   "outputs": [],
   "source": [
    "Exp_and_Imp = pd.read_csv('import_and_export.csv')"
   ]
  },
  {
   "cell_type": "code",
   "execution_count": 107,
   "id": "f3e201cb",
   "metadata": {},
   "outputs": [
    {
     "data": {
      "text/html": [
       "<div>\n",
       "<style scoped>\n",
       "    .dataframe tbody tr th:only-of-type {\n",
       "        vertical-align: middle;\n",
       "    }\n",
       "\n",
       "    .dataframe tbody tr th {\n",
       "        vertical-align: top;\n",
       "    }\n",
       "\n",
       "    .dataframe thead th {\n",
       "        text-align: right;\n",
       "    }\n",
       "</style>\n",
       "<table border=\"1\" class=\"dataframe\">\n",
       "  <thead>\n",
       "    <tr style=\"text-align: right;\">\n",
       "      <th></th>\n",
       "      <th>location</th>\n",
       "      <th>category</th>\n",
       "      <th>flow</th>\n",
       "      <th>measure</th>\n",
       "      <th>Unit</th>\n",
       "      <th>Date</th>\n",
       "      <th>Value</th>\n",
       "    </tr>\n",
       "  </thead>\n",
       "  <tbody>\n",
       "    <tr>\n",
       "      <th>0</th>\n",
       "      <td>Ireland</td>\n",
       "      <td>Construction</td>\n",
       "      <td>Exports</td>\n",
       "      <td>US Dollars at current prices in millions</td>\n",
       "      <td>Millions of U.S. dollars</td>\n",
       "      <td>2012</td>\n",
       "      <td>69.379</td>\n",
       "    </tr>\n",
       "    <tr>\n",
       "      <th>1</th>\n",
       "      <td>Ireland</td>\n",
       "      <td>Construction</td>\n",
       "      <td>Exports</td>\n",
       "      <td>US Dollars at current prices in millions</td>\n",
       "      <td>Millions of U.S. dollars</td>\n",
       "      <td>2013</td>\n",
       "      <td>67.734</td>\n",
       "    </tr>\n",
       "    <tr>\n",
       "      <th>2</th>\n",
       "      <td>Ireland</td>\n",
       "      <td>Construction</td>\n",
       "      <td>Exports</td>\n",
       "      <td>US Dollars at current prices in millions</td>\n",
       "      <td>Millions of U.S. dollars</td>\n",
       "      <td>2014</td>\n",
       "      <td>79.710</td>\n",
       "    </tr>\n",
       "    <tr>\n",
       "      <th>3</th>\n",
       "      <td>Ireland</td>\n",
       "      <td>Construction</td>\n",
       "      <td>Exports</td>\n",
       "      <td>US Dollars at current prices in millions</td>\n",
       "      <td>Millions of U.S. dollars</td>\n",
       "      <td>2015</td>\n",
       "      <td>77.666</td>\n",
       "    </tr>\n",
       "    <tr>\n",
       "      <th>4</th>\n",
       "      <td>Ireland</td>\n",
       "      <td>Construction</td>\n",
       "      <td>Exports</td>\n",
       "      <td>US Dollars at current prices in millions</td>\n",
       "      <td>Millions of U.S. dollars</td>\n",
       "      <td>2016</td>\n",
       "      <td>76.376</td>\n",
       "    </tr>\n",
       "  </tbody>\n",
       "</table>\n",
       "</div>"
      ],
      "text/plain": [
       "  location      category     flow                                   measure  \\\n",
       "0  Ireland  Construction  Exports  US Dollars at current prices in millions   \n",
       "1  Ireland  Construction  Exports  US Dollars at current prices in millions   \n",
       "2  Ireland  Construction  Exports  US Dollars at current prices in millions   \n",
       "3  Ireland  Construction  Exports  US Dollars at current prices in millions   \n",
       "4  Ireland  Construction  Exports  US Dollars at current prices in millions   \n",
       "\n",
       "                       Unit  Date   Value  \n",
       "0  Millions of U.S. dollars  2012  69.379  \n",
       "1  Millions of U.S. dollars  2013  67.734  \n",
       "2  Millions of U.S. dollars  2014  79.710  \n",
       "3  Millions of U.S. dollars  2015  77.666  \n",
       "4  Millions of U.S. dollars  2016  76.376  "
      ]
     },
     "execution_count": 107,
     "metadata": {},
     "output_type": "execute_result"
    }
   ],
   "source": [
    "Exp_and_Imp.head()"
   ]
  },
  {
   "cell_type": "code",
   "execution_count": 125,
   "id": "12acc3b6",
   "metadata": {},
   "outputs": [
    {
     "data": {
      "text/plain": [
       "Country      object\n",
       "category     object\n",
       "flow         object\n",
       "measure      object\n",
       "Unit         object\n",
       "Year          int64\n",
       "Value       float64\n",
       "dtype: object"
      ]
     },
     "execution_count": 125,
     "metadata": {},
     "output_type": "execute_result"
    }
   ],
   "source": [
    "Exp_and_Imp.dtypes"
   ]
  },
  {
   "cell_type": "code",
   "execution_count": 126,
   "id": "35d87b51",
   "metadata": {},
   "outputs": [
    {
     "data": {
      "text/html": [
       "<div>\n",
       "<style scoped>\n",
       "    .dataframe tbody tr th:only-of-type {\n",
       "        vertical-align: middle;\n",
       "    }\n",
       "\n",
       "    .dataframe tbody tr th {\n",
       "        vertical-align: top;\n",
       "    }\n",
       "\n",
       "    .dataframe thead th {\n",
       "        text-align: right;\n",
       "    }\n",
       "</style>\n",
       "<table border=\"1\" class=\"dataframe\">\n",
       "  <thead>\n",
       "    <tr style=\"text-align: right;\">\n",
       "      <th></th>\n",
       "      <th>Country</th>\n",
       "      <th>category</th>\n",
       "      <th>flow</th>\n",
       "      <th>measure</th>\n",
       "      <th>Unit</th>\n",
       "      <th>Year</th>\n",
       "      <th>Value</th>\n",
       "    </tr>\n",
       "  </thead>\n",
       "  <tbody>\n",
       "    <tr>\n",
       "      <th>0</th>\n",
       "      <td>Ireland</td>\n",
       "      <td>Construction</td>\n",
       "      <td>Exports</td>\n",
       "      <td>US Dollars at current prices in millions</td>\n",
       "      <td>Millions of U.S. dollars</td>\n",
       "      <td>2012</td>\n",
       "      <td>69.379</td>\n",
       "    </tr>\n",
       "    <tr>\n",
       "      <th>1</th>\n",
       "      <td>Ireland</td>\n",
       "      <td>Construction</td>\n",
       "      <td>Exports</td>\n",
       "      <td>US Dollars at current prices in millions</td>\n",
       "      <td>Millions of U.S. dollars</td>\n",
       "      <td>2013</td>\n",
       "      <td>67.734</td>\n",
       "    </tr>\n",
       "    <tr>\n",
       "      <th>2</th>\n",
       "      <td>Ireland</td>\n",
       "      <td>Construction</td>\n",
       "      <td>Exports</td>\n",
       "      <td>US Dollars at current prices in millions</td>\n",
       "      <td>Millions of U.S. dollars</td>\n",
       "      <td>2014</td>\n",
       "      <td>79.710</td>\n",
       "    </tr>\n",
       "    <tr>\n",
       "      <th>3</th>\n",
       "      <td>Ireland</td>\n",
       "      <td>Construction</td>\n",
       "      <td>Exports</td>\n",
       "      <td>US Dollars at current prices in millions</td>\n",
       "      <td>Millions of U.S. dollars</td>\n",
       "      <td>2015</td>\n",
       "      <td>77.666</td>\n",
       "    </tr>\n",
       "    <tr>\n",
       "      <th>4</th>\n",
       "      <td>Ireland</td>\n",
       "      <td>Construction</td>\n",
       "      <td>Exports</td>\n",
       "      <td>US Dollars at current prices in millions</td>\n",
       "      <td>Millions of U.S. dollars</td>\n",
       "      <td>2016</td>\n",
       "      <td>76.376</td>\n",
       "    </tr>\n",
       "  </tbody>\n",
       "</table>\n",
       "</div>"
      ],
      "text/plain": [
       "   Country      category     flow                                   measure  \\\n",
       "0  Ireland  Construction  Exports  US Dollars at current prices in millions   \n",
       "1  Ireland  Construction  Exports  US Dollars at current prices in millions   \n",
       "2  Ireland  Construction  Exports  US Dollars at current prices in millions   \n",
       "3  Ireland  Construction  Exports  US Dollars at current prices in millions   \n",
       "4  Ireland  Construction  Exports  US Dollars at current prices in millions   \n",
       "\n",
       "                       Unit  Year   Value  \n",
       "0  Millions of U.S. dollars  2012  69.379  \n",
       "1  Millions of U.S. dollars  2013  67.734  \n",
       "2  Millions of U.S. dollars  2014  79.710  \n",
       "3  Millions of U.S. dollars  2015  77.666  \n",
       "4  Millions of U.S. dollars  2016  76.376  "
      ]
     },
     "execution_count": 126,
     "metadata": {},
     "output_type": "execute_result"
    }
   ],
   "source": [
    "# Renaming the column names \n",
    "\n",
    "Exp_and_Imp = Exp_and_Imp.rename(columns={\"Date\":\"Year\",\"location\":\"Country\"})\n",
    "Exp_and_Imp.head()\n"
   ]
  },
  {
   "cell_type": "code",
   "execution_count": 117,
   "id": "c7c7403e",
   "metadata": {},
   "outputs": [
    {
     "data": {
      "text/plain": [
       "(60, 7)"
      ]
     },
     "execution_count": 117,
     "metadata": {},
     "output_type": "execute_result"
    }
   ],
   "source": [
    "Exp_and_Imp.shape "
   ]
  },
  {
   "cell_type": "code",
   "execution_count": 111,
   "id": "8f24787a",
   "metadata": {},
   "outputs": [
    {
     "name": "stdout",
     "output_type": "stream",
     "text": [
      "number of duplicate rows:  (0, 7)\n"
     ]
    }
   ],
   "source": [
    "duplicate_rows_df= Exp_and_Imp[Exp_and_Imp.duplicated()] \n",
    "print(\"number of duplicate rows: \", duplicate_rows_df.shape)"
   ]
  },
  {
   "cell_type": "code",
   "execution_count": 118,
   "id": "61b18d4f",
   "metadata": {},
   "outputs": [
    {
     "name": "stdout",
     "output_type": "stream",
     "text": [
      "Country     0\n",
      "category    0\n",
      "flow        0\n",
      "measure     0\n",
      "Unit        0\n",
      "Year        0\n",
      "Value       0\n",
      "dtype: int64\n"
     ]
    }
   ],
   "source": [
    "print(Exp_and_Imp.isnull().sum()) \n"
   ]
  },
  {
   "cell_type": "code",
   "execution_count": 119,
   "id": "f819d656",
   "metadata": {
    "scrolled": true
   },
   "outputs": [
    {
     "data": {
      "text/plain": [
       "<AxesSubplot:xlabel='Value'>"
      ]
     },
     "execution_count": 119,
     "metadata": {},
     "output_type": "execute_result"
    },
    {
     "data": {
      "image/png": "[encoded data removed]",
      "text/plain": [
       "<Figure size 640x480 with 1 Axes>"
      ]
     },
     "metadata": {},
     "output_type": "display_data"
    }
   ],
   "source": [
    "sns.boxplot(x=Exp_and_Imp['Value']) "
   ]
  },
  {
   "cell_type": "markdown",
   "id": "b1338686",
   "metadata": {},
   "source": [
    "## Descriptive Statistics"
   ]
  },
  {
   "cell_type": "code",
   "execution_count": 131,
   "id": "a831ca24",
   "metadata": {},
   "outputs": [
    {
     "data": {
      "text/html": [
       "<div>\n",
       "<style scoped>\n",
       "    .dataframe tbody tr th:only-of-type {\n",
       "        vertical-align: middle;\n",
       "    }\n",
       "\n",
       "    .dataframe tbody tr th {\n",
       "        vertical-align: top;\n",
       "    }\n",
       "\n",
       "    .dataframe thead th {\n",
       "        text-align: right;\n",
       "    }\n",
       "</style>\n",
       "<table border=\"1\" class=\"dataframe\">\n",
       "  <thead>\n",
       "    <tr style=\"text-align: right;\">\n",
       "      <th></th>\n",
       "      <th>Year</th>\n",
       "      <th>Value</th>\n",
       "    </tr>\n",
       "  </thead>\n",
       "  <tbody>\n",
       "    <tr>\n",
       "      <th>count</th>\n",
       "      <td>60.00000</td>\n",
       "      <td>60.000000</td>\n",
       "    </tr>\n",
       "    <tr>\n",
       "      <th>mean</th>\n",
       "      <td>2016.50000</td>\n",
       "      <td>2180.134800</td>\n",
       "    </tr>\n",
       "    <tr>\n",
       "      <th>std</th>\n",
       "      <td>2.89652</td>\n",
       "      <td>1461.661048</td>\n",
       "    </tr>\n",
       "    <tr>\n",
       "      <th>min</th>\n",
       "      <td>2012.00000</td>\n",
       "      <td>67.734000</td>\n",
       "    </tr>\n",
       "    <tr>\n",
       "      <th>25%</th>\n",
       "      <td>2014.00000</td>\n",
       "      <td>979.252250</td>\n",
       "    </tr>\n",
       "    <tr>\n",
       "      <th>50%</th>\n",
       "      <td>2016.50000</td>\n",
       "      <td>2315.629000</td>\n",
       "    </tr>\n",
       "    <tr>\n",
       "      <th>75%</th>\n",
       "      <td>2019.00000</td>\n",
       "      <td>3161.097500</td>\n",
       "    </tr>\n",
       "    <tr>\n",
       "      <th>max</th>\n",
       "      <td>2021.00000</td>\n",
       "      <td>5437.156000</td>\n",
       "    </tr>\n",
       "  </tbody>\n",
       "</table>\n",
       "</div>"
      ],
      "text/plain": [
       "             Year        Value\n",
       "count    60.00000    60.000000\n",
       "mean   2016.50000  2180.134800\n",
       "std       2.89652  1461.661048\n",
       "min    2012.00000    67.734000\n",
       "25%    2014.00000   979.252250\n",
       "50%    2016.50000  2315.629000\n",
       "75%    2019.00000  3161.097500\n",
       "max    2021.00000  5437.156000"
      ]
     },
     "execution_count": 131,
     "metadata": {},
     "output_type": "execute_result"
    }
   ],
   "source": [
    "Exp_and_Imp.describe() # Why does it looks like this "
   ]
  },
  {
   "cell_type": "code",
   "execution_count": 177,
   "id": "99b625e1",
   "metadata": {},
   "outputs": [],
   "source": [
    "# Filter the data to only include imports and exports\n",
    "data = Exp_and_Imp[Exp_and_Imp['flow'].isin(['Imports', 'Exports'])]"
   ]
  },
  {
   "cell_type": "code",
   "execution_count": 182,
   "id": "20ed3b43",
   "metadata": {},
   "outputs": [
    {
     "data": {
      "text/plain": [
       "<AxesSubplot:ylabel='Year'>"
      ]
     },
     "execution_count": 182,
     "metadata": {},
     "output_type": "execute_result"
    },
    {
     "data": {
      "image/png": "[encoded data removed]",
      "text/plain": [
       "<Figure size 640x480 with 1 Axes>"
      ]
     },
     "metadata": {},
     "output_type": "display_data"
    }
   ],
   "source": [
    "# Pivot the data to create a new DataFrame with years as columns and flows as rows\n",
    "pivot_data = data.pivot_table(index='Year', columns='flow', values='Value')\n",
    "pivot_data['Total'] = pivot_data['Imports'] + pivot_data['Exports']\n",
    "pivot_data['Imports %'] = pivot_data['Imports'] / pivot_data['Total'] * 100\n",
    "pivot_data['Exports %'] = pivot_data['Exports'] / pivot_data['Total'] * 100\n",
    "\n",
    "# Create a horizontal stacked bar chart\n",
    "pivot_data[['Imports %', 'Exports %']].plot(kind='barh', stacked=True)"
   ]
  },
  {
   "cell_type": "code",
   "execution_count": null,
   "id": "490ed134",
   "metadata": {},
   "outputs": [],
   "source": []
  }
 ],
 "metadata": {
  "kernelspec": {
   "display_name": "Python 3 (ipykernel)",
   "language": "python",
   "name": "python3"
  },
  "language_info": {
   "codemirror_mode": {
    "name": "ipython",
    "version": 3
   },
   "file_extension": ".py",
   "mimetype": "text/x-python",
   "name": "python",
   "nbconvert_exporter": "python",
   "pygments_lexer": "ipython3",
   "version": "3.9.13"
  }
 },
 "nbformat": 4,
 "nbformat_minor": 5
}
