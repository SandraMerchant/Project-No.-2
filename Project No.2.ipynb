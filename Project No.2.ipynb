{
 "cells": [
  {
   "cell_type": "code",
   "execution_count": 48,
   "id": "ff25199f",
   "metadata": {},
   "outputs": [],
   "source": [
    "import pandas as pd\n",
    "import seaborn as sns\n",
    "import numpy as np\n",
    "import matplotlib.pyplot as plt\n",
    "%matplotlib inline\n",
    "sns.set(color_codes=True)\n",
    "from scipy.stats import f_oneway\n",
    "from statsmodels.stats.multicomp import pairwise_tukeyhsd\n",
    "from scipy.stats import kruskal\n",
    "from sklearn.preprocessing import StandardScaler\n",
    "from scipy.stats import ttest_1samp\n",
    "from scipy.stats import shapiro, norm\n",
    "from scipy.stats import wilcoxon\n",
    "import plotly.express as px \n",
    "\n"
   ]
  },
  {
   "cell_type": "markdown",
   "id": "eab20e6c",
   "metadata": {},
   "source": [
    "## Exploratory Data Analysis"
   ]
  },
  {
   "cell_type": "code",
   "execution_count": 2,
   "id": "be7a5637",
   "metadata": {},
   "outputs": [],
   "source": [
    "Exp_and_Imp = pd.read_csv('import_and_export.csv')"
   ]
  },
  {
   "cell_type": "code",
   "execution_count": 3,
   "id": "f3e201cb",
   "metadata": {},
   "outputs": [
    {
     "data": {
      "text/html": [
       "<div>\n",
       "<style scoped>\n",
       "    .dataframe tbody tr th:only-of-type {\n",
       "        vertical-align: middle;\n",
       "    }\n",
       "\n",
       "    .dataframe tbody tr th {\n",
       "        vertical-align: top;\n",
       "    }\n",
       "\n",
       "    .dataframe thead th {\n",
       "        text-align: right;\n",
       "    }\n",
       "</style>\n",
       "<table border=\"1\" class=\"dataframe\">\n",
       "  <thead>\n",
       "    <tr style=\"text-align: right;\">\n",
       "      <th></th>\n",
       "      <th>location</th>\n",
       "      <th>category</th>\n",
       "      <th>flow</th>\n",
       "      <th>measure</th>\n",
       "      <th>Unit</th>\n",
       "      <th>Date</th>\n",
       "      <th>Value</th>\n",
       "    </tr>\n",
       "  </thead>\n",
       "  <tbody>\n",
       "    <tr>\n",
       "      <th>0</th>\n",
       "      <td>Ireland</td>\n",
       "      <td>Construction</td>\n",
       "      <td>Exports</td>\n",
       "      <td>US Dollars at current prices in millions</td>\n",
       "      <td>Millions of U.S. dollars</td>\n",
       "      <td>2012</td>\n",
       "      <td>69.379</td>\n",
       "    </tr>\n",
       "    <tr>\n",
       "      <th>1</th>\n",
       "      <td>Ireland</td>\n",
       "      <td>Construction</td>\n",
       "      <td>Exports</td>\n",
       "      <td>US Dollars at current prices in millions</td>\n",
       "      <td>Millions of U.S. dollars</td>\n",
       "      <td>2013</td>\n",
       "      <td>67.734</td>\n",
       "    </tr>\n",
       "    <tr>\n",
       "      <th>2</th>\n",
       "      <td>Ireland</td>\n",
       "      <td>Construction</td>\n",
       "      <td>Exports</td>\n",
       "      <td>US Dollars at current prices in millions</td>\n",
       "      <td>Millions of U.S. dollars</td>\n",
       "      <td>2014</td>\n",
       "      <td>79.710</td>\n",
       "    </tr>\n",
       "    <tr>\n",
       "      <th>3</th>\n",
       "      <td>Ireland</td>\n",
       "      <td>Construction</td>\n",
       "      <td>Exports</td>\n",
       "      <td>US Dollars at current prices in millions</td>\n",
       "      <td>Millions of U.S. dollars</td>\n",
       "      <td>2015</td>\n",
       "      <td>77.666</td>\n",
       "    </tr>\n",
       "    <tr>\n",
       "      <th>4</th>\n",
       "      <td>Ireland</td>\n",
       "      <td>Construction</td>\n",
       "      <td>Exports</td>\n",
       "      <td>US Dollars at current prices in millions</td>\n",
       "      <td>Millions of U.S. dollars</td>\n",
       "      <td>2016</td>\n",
       "      <td>76.376</td>\n",
       "    </tr>\n",
       "  </tbody>\n",
       "</table>\n",
       "</div>"
      ],
      "text/plain": [
       "  location      category     flow                                   measure  \\\n",
       "0  Ireland  Construction  Exports  US Dollars at current prices in millions   \n",
       "1  Ireland  Construction  Exports  US Dollars at current prices in millions   \n",
       "2  Ireland  Construction  Exports  US Dollars at current prices in millions   \n",
       "3  Ireland  Construction  Exports  US Dollars at current prices in millions   \n",
       "4  Ireland  Construction  Exports  US Dollars at current prices in millions   \n",
       "\n",
       "                       Unit  Date   Value  \n",
       "0  Millions of U.S. dollars  2012  69.379  \n",
       "1  Millions of U.S. dollars  2013  67.734  \n",
       "2  Millions of U.S. dollars  2014  79.710  \n",
       "3  Millions of U.S. dollars  2015  77.666  \n",
       "4  Millions of U.S. dollars  2016  76.376  "
      ]
     },
     "execution_count": 3,
     "metadata": {},
     "output_type": "execute_result"
    }
   ],
   "source": [
    "Exp_and_Imp.head()"
   ]
  },
  {
   "cell_type": "code",
   "execution_count": 4,
   "id": "0d8646dc",
   "metadata": {},
   "outputs": [
    {
     "name": "stdout",
     "output_type": "stream",
     "text": [
      "<class 'pandas.core.frame.DataFrame'>\n",
      "RangeIndex: 60 entries, 0 to 59\n",
      "Data columns (total 7 columns):\n",
      " #   Column    Non-Null Count  Dtype  \n",
      "---  ------    --------------  -----  \n",
      " 0   location  60 non-null     object \n",
      " 1   category  60 non-null     object \n",
      " 2   flow      60 non-null     object \n",
      " 3   measure   60 non-null     object \n",
      " 4   Unit      60 non-null     object \n",
      " 5   Date      60 non-null     int64  \n",
      " 6   Value     60 non-null     float64\n",
      "dtypes: float64(1), int64(1), object(5)\n",
      "memory usage: 3.4+ KB\n"
     ]
    }
   ],
   "source": [
    "Exp_and_Imp.info()"
   ]
  },
  {
   "cell_type": "code",
   "execution_count": 5,
   "id": "12acc3b6",
   "metadata": {},
   "outputs": [
    {
     "data": {
      "text/plain": [
       "location     object\n",
       "category     object\n",
       "flow         object\n",
       "measure      object\n",
       "Unit         object\n",
       "Date          int64\n",
       "Value       float64\n",
       "dtype: object"
      ]
     },
     "execution_count": 5,
     "metadata": {},
     "output_type": "execute_result"
    }
   ],
   "source": [
    "Exp_and_Imp.dtypes"
   ]
  },
  {
   "cell_type": "code",
   "execution_count": 6,
   "id": "b4bf10fd",
   "metadata": {},
   "outputs": [
    {
     "data": {
      "text/html": [
       "<div>\n",
       "<style scoped>\n",
       "    .dataframe tbody tr th:only-of-type {\n",
       "        vertical-align: middle;\n",
       "    }\n",
       "\n",
       "    .dataframe tbody tr th {\n",
       "        vertical-align: top;\n",
       "    }\n",
       "\n",
       "    .dataframe thead th {\n",
       "        text-align: right;\n",
       "    }\n",
       "</style>\n",
       "<table border=\"1\" class=\"dataframe\">\n",
       "  <thead>\n",
       "    <tr style=\"text-align: right;\">\n",
       "      <th></th>\n",
       "      <th>location</th>\n",
       "      <th>category</th>\n",
       "      <th>flow</th>\n",
       "      <th>measure</th>\n",
       "      <th>Date</th>\n",
       "      <th>Value</th>\n",
       "    </tr>\n",
       "  </thead>\n",
       "  <tbody>\n",
       "    <tr>\n",
       "      <th>0</th>\n",
       "      <td>Ireland</td>\n",
       "      <td>Construction</td>\n",
       "      <td>Exports</td>\n",
       "      <td>US Dollars at current prices in millions</td>\n",
       "      <td>2012</td>\n",
       "      <td>69.379</td>\n",
       "    </tr>\n",
       "    <tr>\n",
       "      <th>1</th>\n",
       "      <td>Ireland</td>\n",
       "      <td>Construction</td>\n",
       "      <td>Exports</td>\n",
       "      <td>US Dollars at current prices in millions</td>\n",
       "      <td>2013</td>\n",
       "      <td>67.734</td>\n",
       "    </tr>\n",
       "    <tr>\n",
       "      <th>2</th>\n",
       "      <td>Ireland</td>\n",
       "      <td>Construction</td>\n",
       "      <td>Exports</td>\n",
       "      <td>US Dollars at current prices in millions</td>\n",
       "      <td>2014</td>\n",
       "      <td>79.710</td>\n",
       "    </tr>\n",
       "    <tr>\n",
       "      <th>3</th>\n",
       "      <td>Ireland</td>\n",
       "      <td>Construction</td>\n",
       "      <td>Exports</td>\n",
       "      <td>US Dollars at current prices in millions</td>\n",
       "      <td>2015</td>\n",
       "      <td>77.666</td>\n",
       "    </tr>\n",
       "    <tr>\n",
       "      <th>4</th>\n",
       "      <td>Ireland</td>\n",
       "      <td>Construction</td>\n",
       "      <td>Exports</td>\n",
       "      <td>US Dollars at current prices in millions</td>\n",
       "      <td>2016</td>\n",
       "      <td>76.376</td>\n",
       "    </tr>\n",
       "    <tr>\n",
       "      <th>5</th>\n",
       "      <td>Ireland</td>\n",
       "      <td>Construction</td>\n",
       "      <td>Exports</td>\n",
       "      <td>US Dollars at current prices in millions</td>\n",
       "      <td>2017</td>\n",
       "      <td>85.856</td>\n",
       "    </tr>\n",
       "    <tr>\n",
       "      <th>6</th>\n",
       "      <td>Ireland</td>\n",
       "      <td>Construction</td>\n",
       "      <td>Exports</td>\n",
       "      <td>US Dollars at current prices in millions</td>\n",
       "      <td>2018</td>\n",
       "      <td>932.954</td>\n",
       "    </tr>\n",
       "    <tr>\n",
       "      <th>7</th>\n",
       "      <td>Ireland</td>\n",
       "      <td>Construction</td>\n",
       "      <td>Exports</td>\n",
       "      <td>US Dollars at current prices in millions</td>\n",
       "      <td>2019</td>\n",
       "      <td>930.283</td>\n",
       "    </tr>\n",
       "    <tr>\n",
       "      <th>8</th>\n",
       "      <td>Ireland</td>\n",
       "      <td>Construction</td>\n",
       "      <td>Exports</td>\n",
       "      <td>US Dollars at current prices in millions</td>\n",
       "      <td>2020</td>\n",
       "      <td>871.496</td>\n",
       "    </tr>\n",
       "    <tr>\n",
       "      <th>9</th>\n",
       "      <td>Ireland</td>\n",
       "      <td>Construction</td>\n",
       "      <td>Exports</td>\n",
       "      <td>US Dollars at current prices in millions</td>\n",
       "      <td>2021</td>\n",
       "      <td>994.685</td>\n",
       "    </tr>\n",
       "    <tr>\n",
       "      <th>10</th>\n",
       "      <td>Ireland</td>\n",
       "      <td>Construction</td>\n",
       "      <td>Imports</td>\n",
       "      <td>US Dollars at current prices in millions</td>\n",
       "      <td>2012</td>\n",
       "      <td>143.896</td>\n",
       "    </tr>\n",
       "    <tr>\n",
       "      <th>11</th>\n",
       "      <td>Ireland</td>\n",
       "      <td>Construction</td>\n",
       "      <td>Imports</td>\n",
       "      <td>US Dollars at current prices in millions</td>\n",
       "      <td>2013</td>\n",
       "      <td>183.280</td>\n",
       "    </tr>\n",
       "    <tr>\n",
       "      <th>12</th>\n",
       "      <td>Ireland</td>\n",
       "      <td>Construction</td>\n",
       "      <td>Imports</td>\n",
       "      <td>US Dollars at current prices in millions</td>\n",
       "      <td>2014</td>\n",
       "      <td>265.700</td>\n",
       "    </tr>\n",
       "    <tr>\n",
       "      <th>13</th>\n",
       "      <td>Ireland</td>\n",
       "      <td>Construction</td>\n",
       "      <td>Imports</td>\n",
       "      <td>US Dollars at current prices in millions</td>\n",
       "      <td>2015</td>\n",
       "      <td>254.078</td>\n",
       "    </tr>\n",
       "    <tr>\n",
       "      <th>14</th>\n",
       "      <td>Ireland</td>\n",
       "      <td>Construction</td>\n",
       "      <td>Imports</td>\n",
       "      <td>US Dollars at current prices in millions</td>\n",
       "      <td>2016</td>\n",
       "      <td>280.046</td>\n",
       "    </tr>\n",
       "    <tr>\n",
       "      <th>15</th>\n",
       "      <td>Ireland</td>\n",
       "      <td>Construction</td>\n",
       "      <td>Imports</td>\n",
       "      <td>US Dollars at current prices in millions</td>\n",
       "      <td>2017</td>\n",
       "      <td>338.904</td>\n",
       "    </tr>\n",
       "    <tr>\n",
       "      <th>16</th>\n",
       "      <td>Ireland</td>\n",
       "      <td>Construction</td>\n",
       "      <td>Imports</td>\n",
       "      <td>US Dollars at current prices in millions</td>\n",
       "      <td>2018</td>\n",
       "      <td>1230.555</td>\n",
       "    </tr>\n",
       "    <tr>\n",
       "      <th>17</th>\n",
       "      <td>Ireland</td>\n",
       "      <td>Construction</td>\n",
       "      <td>Imports</td>\n",
       "      <td>US Dollars at current prices in millions</td>\n",
       "      <td>2019</td>\n",
       "      <td>1179.926</td>\n",
       "    </tr>\n",
       "    <tr>\n",
       "      <th>18</th>\n",
       "      <td>Ireland</td>\n",
       "      <td>Construction</td>\n",
       "      <td>Imports</td>\n",
       "      <td>US Dollars at current prices in millions</td>\n",
       "      <td>2020</td>\n",
       "      <td>1099.935</td>\n",
       "    </tr>\n",
       "    <tr>\n",
       "      <th>19</th>\n",
       "      <td>Ireland</td>\n",
       "      <td>Construction</td>\n",
       "      <td>Imports</td>\n",
       "      <td>US Dollars at current prices in millions</td>\n",
       "      <td>2021</td>\n",
       "      <td>1243.060</td>\n",
       "    </tr>\n",
       "    <tr>\n",
       "      <th>20</th>\n",
       "      <td>United Kingdom</td>\n",
       "      <td>Construction</td>\n",
       "      <td>Exports</td>\n",
       "      <td>US Dollars at current prices in millions</td>\n",
       "      <td>2012</td>\n",
       "      <td>2568.530</td>\n",
       "    </tr>\n",
       "    <tr>\n",
       "      <th>21</th>\n",
       "      <td>United Kingdom</td>\n",
       "      <td>Construction</td>\n",
       "      <td>Exports</td>\n",
       "      <td>US Dollars at current prices in millions</td>\n",
       "      <td>2013</td>\n",
       "      <td>3378.354</td>\n",
       "    </tr>\n",
       "    <tr>\n",
       "      <th>22</th>\n",
       "      <td>United Kingdom</td>\n",
       "      <td>Construction</td>\n",
       "      <td>Exports</td>\n",
       "      <td>US Dollars at current prices in millions</td>\n",
       "      <td>2014</td>\n",
       "      <td>4186.072</td>\n",
       "    </tr>\n",
       "    <tr>\n",
       "      <th>23</th>\n",
       "      <td>United Kingdom</td>\n",
       "      <td>Construction</td>\n",
       "      <td>Exports</td>\n",
       "      <td>US Dollars at current prices in millions</td>\n",
       "      <td>2015</td>\n",
       "      <td>2870.694</td>\n",
       "    </tr>\n",
       "    <tr>\n",
       "      <th>24</th>\n",
       "      <td>United Kingdom</td>\n",
       "      <td>Construction</td>\n",
       "      <td>Exports</td>\n",
       "      <td>US Dollars at current prices in millions</td>\n",
       "      <td>2016</td>\n",
       "      <td>3055.488</td>\n",
       "    </tr>\n",
       "    <tr>\n",
       "      <th>25</th>\n",
       "      <td>United Kingdom</td>\n",
       "      <td>Construction</td>\n",
       "      <td>Exports</td>\n",
       "      <td>US Dollars at current prices in millions</td>\n",
       "      <td>2017</td>\n",
       "      <td>3265.220</td>\n",
       "    </tr>\n",
       "    <tr>\n",
       "      <th>26</th>\n",
       "      <td>United Kingdom</td>\n",
       "      <td>Construction</td>\n",
       "      <td>Exports</td>\n",
       "      <td>US Dollars at current prices in millions</td>\n",
       "      <td>2018</td>\n",
       "      <td>3643.609</td>\n",
       "    </tr>\n",
       "    <tr>\n",
       "      <th>27</th>\n",
       "      <td>United Kingdom</td>\n",
       "      <td>Construction</td>\n",
       "      <td>Exports</td>\n",
       "      <td>US Dollars at current prices in millions</td>\n",
       "      <td>2019</td>\n",
       "      <td>3852.216</td>\n",
       "    </tr>\n",
       "    <tr>\n",
       "      <th>28</th>\n",
       "      <td>United Kingdom</td>\n",
       "      <td>Construction</td>\n",
       "      <td>Exports</td>\n",
       "      <td>US Dollars at current prices in millions</td>\n",
       "      <td>2020</td>\n",
       "      <td>4606.413</td>\n",
       "    </tr>\n",
       "    <tr>\n",
       "      <th>29</th>\n",
       "      <td>United Kingdom</td>\n",
       "      <td>Construction</td>\n",
       "      <td>Exports</td>\n",
       "      <td>US Dollars at current prices in millions</td>\n",
       "      <td>2021</td>\n",
       "      <td>4809.749</td>\n",
       "    </tr>\n",
       "    <tr>\n",
       "      <th>30</th>\n",
       "      <td>United Kingdom</td>\n",
       "      <td>Construction</td>\n",
       "      <td>Imports</td>\n",
       "      <td>US Dollars at current prices in millions</td>\n",
       "      <td>2012</td>\n",
       "      <td>2074.096</td>\n",
       "    </tr>\n",
       "    <tr>\n",
       "      <th>31</th>\n",
       "      <td>United Kingdom</td>\n",
       "      <td>Construction</td>\n",
       "      <td>Imports</td>\n",
       "      <td>US Dollars at current prices in millions</td>\n",
       "      <td>2013</td>\n",
       "      <td>2405.963</td>\n",
       "    </tr>\n",
       "    <tr>\n",
       "      <th>32</th>\n",
       "      <td>United Kingdom</td>\n",
       "      <td>Construction</td>\n",
       "      <td>Imports</td>\n",
       "      <td>US Dollars at current prices in millions</td>\n",
       "      <td>2014</td>\n",
       "      <td>2886.152</td>\n",
       "    </tr>\n",
       "    <tr>\n",
       "      <th>33</th>\n",
       "      <td>United Kingdom</td>\n",
       "      <td>Construction</td>\n",
       "      <td>Imports</td>\n",
       "      <td>US Dollars at current prices in millions</td>\n",
       "      <td>2015</td>\n",
       "      <td>1834.861</td>\n",
       "    </tr>\n",
       "    <tr>\n",
       "      <th>34</th>\n",
       "      <td>United Kingdom</td>\n",
       "      <td>Construction</td>\n",
       "      <td>Imports</td>\n",
       "      <td>US Dollars at current prices in millions</td>\n",
       "      <td>2016</td>\n",
       "      <td>1879.470</td>\n",
       "    </tr>\n",
       "    <tr>\n",
       "      <th>35</th>\n",
       "      <td>United Kingdom</td>\n",
       "      <td>Construction</td>\n",
       "      <td>Imports</td>\n",
       "      <td>US Dollars at current prices in millions</td>\n",
       "      <td>2017</td>\n",
       "      <td>2082.431</td>\n",
       "    </tr>\n",
       "    <tr>\n",
       "      <th>36</th>\n",
       "      <td>United Kingdom</td>\n",
       "      <td>Construction</td>\n",
       "      <td>Imports</td>\n",
       "      <td>US Dollars at current prices in millions</td>\n",
       "      <td>2018</td>\n",
       "      <td>2823.097</td>\n",
       "    </tr>\n",
       "    <tr>\n",
       "      <th>37</th>\n",
       "      <td>United Kingdom</td>\n",
       "      <td>Construction</td>\n",
       "      <td>Imports</td>\n",
       "      <td>US Dollars at current prices in millions</td>\n",
       "      <td>2019</td>\n",
       "      <td>3479.503</td>\n",
       "    </tr>\n",
       "    <tr>\n",
       "      <th>38</th>\n",
       "      <td>United Kingdom</td>\n",
       "      <td>Construction</td>\n",
       "      <td>Imports</td>\n",
       "      <td>US Dollars at current prices in millions</td>\n",
       "      <td>2020</td>\n",
       "      <td>4947.439</td>\n",
       "    </tr>\n",
       "    <tr>\n",
       "      <th>39</th>\n",
       "      <td>United Kingdom</td>\n",
       "      <td>Construction</td>\n",
       "      <td>Imports</td>\n",
       "      <td>US Dollars at current prices in millions</td>\n",
       "      <td>2021</td>\n",
       "      <td>4908.777</td>\n",
       "    </tr>\n",
       "    <tr>\n",
       "      <th>40</th>\n",
       "      <td>France</td>\n",
       "      <td>Construction</td>\n",
       "      <td>Exports</td>\n",
       "      <td>US Dollars at current prices in millions</td>\n",
       "      <td>2012</td>\n",
       "      <td>2956.299</td>\n",
       "    </tr>\n",
       "    <tr>\n",
       "      <th>41</th>\n",
       "      <td>France</td>\n",
       "      <td>Construction</td>\n",
       "      <td>Exports</td>\n",
       "      <td>US Dollars at current prices in millions</td>\n",
       "      <td>2013</td>\n",
       "      <td>3459.747</td>\n",
       "    </tr>\n",
       "    <tr>\n",
       "      <th>42</th>\n",
       "      <td>France</td>\n",
       "      <td>Construction</td>\n",
       "      <td>Exports</td>\n",
       "      <td>US Dollars at current prices in millions</td>\n",
       "      <td>2014</td>\n",
       "      <td>3491.300</td>\n",
       "    </tr>\n",
       "    <tr>\n",
       "      <th>43</th>\n",
       "      <td>France</td>\n",
       "      <td>Construction</td>\n",
       "      <td>Exports</td>\n",
       "      <td>US Dollars at current prices in millions</td>\n",
       "      <td>2015</td>\n",
       "      <td>3967.618</td>\n",
       "    </tr>\n",
       "    <tr>\n",
       "      <th>44</th>\n",
       "      <td>France</td>\n",
       "      <td>Construction</td>\n",
       "      <td>Exports</td>\n",
       "      <td>US Dollars at current prices in millions</td>\n",
       "      <td>2016</td>\n",
       "      <td>3318.496</td>\n",
       "    </tr>\n",
       "    <tr>\n",
       "      <th>45</th>\n",
       "      <td>France</td>\n",
       "      <td>Construction</td>\n",
       "      <td>Exports</td>\n",
       "      <td>US Dollars at current prices in millions</td>\n",
       "      <td>2017</td>\n",
       "      <td>5437.156</td>\n",
       "    </tr>\n",
       "    <tr>\n",
       "      <th>46</th>\n",
       "      <td>France</td>\n",
       "      <td>Construction</td>\n",
       "      <td>Exports</td>\n",
       "      <td>US Dollars at current prices in millions</td>\n",
       "      <td>2018</td>\n",
       "      <td>2279.242</td>\n",
       "    </tr>\n",
       "    <tr>\n",
       "      <th>47</th>\n",
       "      <td>France</td>\n",
       "      <td>Construction</td>\n",
       "      <td>Exports</td>\n",
       "      <td>US Dollars at current prices in millions</td>\n",
       "      <td>2019</td>\n",
       "      <td>2352.016</td>\n",
       "    </tr>\n",
       "    <tr>\n",
       "      <th>48</th>\n",
       "      <td>France</td>\n",
       "      <td>Construction</td>\n",
       "      <td>Exports</td>\n",
       "      <td>US Dollars at current prices in millions</td>\n",
       "      <td>2020</td>\n",
       "      <td>2447.726</td>\n",
       "    </tr>\n",
       "    <tr>\n",
       "      <th>49</th>\n",
       "      <td>France</td>\n",
       "      <td>Construction</td>\n",
       "      <td>Exports</td>\n",
       "      <td>US Dollars at current prices in millions</td>\n",
       "      <td>2021</td>\n",
       "      <td>1196.933</td>\n",
       "    </tr>\n",
       "    <tr>\n",
       "      <th>50</th>\n",
       "      <td>France</td>\n",
       "      <td>Construction</td>\n",
       "      <td>Imports</td>\n",
       "      <td>US Dollars at current prices in millions</td>\n",
       "      <td>2012</td>\n",
       "      <td>2778.998</td>\n",
       "    </tr>\n",
       "    <tr>\n",
       "      <th>51</th>\n",
       "      <td>France</td>\n",
       "      <td>Construction</td>\n",
       "      <td>Imports</td>\n",
       "      <td>US Dollars at current prices in millions</td>\n",
       "      <td>2013</td>\n",
       "      <td>3126.390</td>\n",
       "    </tr>\n",
       "    <tr>\n",
       "      <th>52</th>\n",
       "      <td>France</td>\n",
       "      <td>Construction</td>\n",
       "      <td>Imports</td>\n",
       "      <td>US Dollars at current prices in millions</td>\n",
       "      <td>2014</td>\n",
       "      <td>2914.731</td>\n",
       "    </tr>\n",
       "    <tr>\n",
       "      <th>53</th>\n",
       "      <td>France</td>\n",
       "      <td>Construction</td>\n",
       "      <td>Imports</td>\n",
       "      <td>US Dollars at current prices in millions</td>\n",
       "      <td>2015</td>\n",
       "      <td>2739.387</td>\n",
       "    </tr>\n",
       "    <tr>\n",
       "      <th>54</th>\n",
       "      <td>France</td>\n",
       "      <td>Construction</td>\n",
       "      <td>Imports</td>\n",
       "      <td>US Dollars at current prices in millions</td>\n",
       "      <td>2016</td>\n",
       "      <td>2376.521</td>\n",
       "    </tr>\n",
       "    <tr>\n",
       "      <th>55</th>\n",
       "      <td>France</td>\n",
       "      <td>Construction</td>\n",
       "      <td>Imports</td>\n",
       "      <td>US Dollars at current prices in millions</td>\n",
       "      <td>2017</td>\n",
       "      <td>2615.212</td>\n",
       "    </tr>\n",
       "    <tr>\n",
       "      <th>56</th>\n",
       "      <td>France</td>\n",
       "      <td>Construction</td>\n",
       "      <td>Imports</td>\n",
       "      <td>US Dollars at current prices in millions</td>\n",
       "      <td>2018</td>\n",
       "      <td>1756.079</td>\n",
       "    </tr>\n",
       "    <tr>\n",
       "      <th>57</th>\n",
       "      <td>France</td>\n",
       "      <td>Construction</td>\n",
       "      <td>Imports</td>\n",
       "      <td>US Dollars at current prices in millions</td>\n",
       "      <td>2019</td>\n",
       "      <td>1598.610</td>\n",
       "    </tr>\n",
       "    <tr>\n",
       "      <th>58</th>\n",
       "      <td>France</td>\n",
       "      <td>Construction</td>\n",
       "      <td>Imports</td>\n",
       "      <td>US Dollars at current prices in millions</td>\n",
       "      <td>2020</td>\n",
       "      <td>1998.843</td>\n",
       "    </tr>\n",
       "    <tr>\n",
       "      <th>59</th>\n",
       "      <td>France</td>\n",
       "      <td>Construction</td>\n",
       "      <td>Imports</td>\n",
       "      <td>US Dollars at current prices in millions</td>\n",
       "      <td>2021</td>\n",
       "      <td>2033.131</td>\n",
       "    </tr>\n",
       "  </tbody>\n",
       "</table>\n",
       "</div>"
      ],
      "text/plain": [
       "          location      category     flow  \\\n",
       "0          Ireland  Construction  Exports   \n",
       "1          Ireland  Construction  Exports   \n",
       "2          Ireland  Construction  Exports   \n",
       "3          Ireland  Construction  Exports   \n",
       "4          Ireland  Construction  Exports   \n",
       "5          Ireland  Construction  Exports   \n",
       "6          Ireland  Construction  Exports   \n",
       "7          Ireland  Construction  Exports   \n",
       "8          Ireland  Construction  Exports   \n",
       "9          Ireland  Construction  Exports   \n",
       "10         Ireland  Construction  Imports   \n",
       "11         Ireland  Construction  Imports   \n",
       "12         Ireland  Construction  Imports   \n",
       "13         Ireland  Construction  Imports   \n",
       "14         Ireland  Construction  Imports   \n",
       "15         Ireland  Construction  Imports   \n",
       "16         Ireland  Construction  Imports   \n",
       "17         Ireland  Construction  Imports   \n",
       "18         Ireland  Construction  Imports   \n",
       "19         Ireland  Construction  Imports   \n",
       "20  United Kingdom  Construction  Exports   \n",
       "21  United Kingdom  Construction  Exports   \n",
       "22  United Kingdom  Construction  Exports   \n",
       "23  United Kingdom  Construction  Exports   \n",
       "24  United Kingdom  Construction  Exports   \n",
       "25  United Kingdom  Construction  Exports   \n",
       "26  United Kingdom  Construction  Exports   \n",
       "27  United Kingdom  Construction  Exports   \n",
       "28  United Kingdom  Construction  Exports   \n",
       "29  United Kingdom  Construction  Exports   \n",
       "30  United Kingdom  Construction  Imports   \n",
       "31  United Kingdom  Construction  Imports   \n",
       "32  United Kingdom  Construction  Imports   \n",
       "33  United Kingdom  Construction  Imports   \n",
       "34  United Kingdom  Construction  Imports   \n",
       "35  United Kingdom  Construction  Imports   \n",
       "36  United Kingdom  Construction  Imports   \n",
       "37  United Kingdom  Construction  Imports   \n",
       "38  United Kingdom  Construction  Imports   \n",
       "39  United Kingdom  Construction  Imports   \n",
       "40          France  Construction  Exports   \n",
       "41          France  Construction  Exports   \n",
       "42          France  Construction  Exports   \n",
       "43          France  Construction  Exports   \n",
       "44          France  Construction  Exports   \n",
       "45          France  Construction  Exports   \n",
       "46          France  Construction  Exports   \n",
       "47          France  Construction  Exports   \n",
       "48          France  Construction  Exports   \n",
       "49          France  Construction  Exports   \n",
       "50          France  Construction  Imports   \n",
       "51          France  Construction  Imports   \n",
       "52          France  Construction  Imports   \n",
       "53          France  Construction  Imports   \n",
       "54          France  Construction  Imports   \n",
       "55          France  Construction  Imports   \n",
       "56          France  Construction  Imports   \n",
       "57          France  Construction  Imports   \n",
       "58          France  Construction  Imports   \n",
       "59          France  Construction  Imports   \n",
       "\n",
       "                                     measure  Date     Value  \n",
       "0   US Dollars at current prices in millions  2012    69.379  \n",
       "1   US Dollars at current prices in millions  2013    67.734  \n",
       "2   US Dollars at current prices in millions  2014    79.710  \n",
       "3   US Dollars at current prices in millions  2015    77.666  \n",
       "4   US Dollars at current prices in millions  2016    76.376  \n",
       "5   US Dollars at current prices in millions  2017    85.856  \n",
       "6   US Dollars at current prices in millions  2018   932.954  \n",
       "7   US Dollars at current prices in millions  2019   930.283  \n",
       "8   US Dollars at current prices in millions  2020   871.496  \n",
       "9   US Dollars at current prices in millions  2021   994.685  \n",
       "10  US Dollars at current prices in millions  2012   143.896  \n",
       "11  US Dollars at current prices in millions  2013   183.280  \n",
       "12  US Dollars at current prices in millions  2014   265.700  \n",
       "13  US Dollars at current prices in millions  2015   254.078  \n",
       "14  US Dollars at current prices in millions  2016   280.046  \n",
       "15  US Dollars at current prices in millions  2017   338.904  \n",
       "16  US Dollars at current prices in millions  2018  1230.555  \n",
       "17  US Dollars at current prices in millions  2019  1179.926  \n",
       "18  US Dollars at current prices in millions  2020  1099.935  \n",
       "19  US Dollars at current prices in millions  2021  1243.060  \n",
       "20  US Dollars at current prices in millions  2012  2568.530  \n",
       "21  US Dollars at current prices in millions  2013  3378.354  \n",
       "22  US Dollars at current prices in millions  2014  4186.072  \n",
       "23  US Dollars at current prices in millions  2015  2870.694  \n",
       "24  US Dollars at current prices in millions  2016  3055.488  \n",
       "25  US Dollars at current prices in millions  2017  3265.220  \n",
       "26  US Dollars at current prices in millions  2018  3643.609  \n",
       "27  US Dollars at current prices in millions  2019  3852.216  \n",
       "28  US Dollars at current prices in millions  2020  4606.413  \n",
       "29  US Dollars at current prices in millions  2021  4809.749  \n",
       "30  US Dollars at current prices in millions  2012  2074.096  \n",
       "31  US Dollars at current prices in millions  2013  2405.963  \n",
       "32  US Dollars at current prices in millions  2014  2886.152  \n",
       "33  US Dollars at current prices in millions  2015  1834.861  \n",
       "34  US Dollars at current prices in millions  2016  1879.470  \n",
       "35  US Dollars at current prices in millions  2017  2082.431  \n",
       "36  US Dollars at current prices in millions  2018  2823.097  \n",
       "37  US Dollars at current prices in millions  2019  3479.503  \n",
       "38  US Dollars at current prices in millions  2020  4947.439  \n",
       "39  US Dollars at current prices in millions  2021  4908.777  \n",
       "40  US Dollars at current prices in millions  2012  2956.299  \n",
       "41  US Dollars at current prices in millions  2013  3459.747  \n",
       "42  US Dollars at current prices in millions  2014  3491.300  \n",
       "43  US Dollars at current prices in millions  2015  3967.618  \n",
       "44  US Dollars at current prices in millions  2016  3318.496  \n",
       "45  US Dollars at current prices in millions  2017  5437.156  \n",
       "46  US Dollars at current prices in millions  2018  2279.242  \n",
       "47  US Dollars at current prices in millions  2019  2352.016  \n",
       "48  US Dollars at current prices in millions  2020  2447.726  \n",
       "49  US Dollars at current prices in millions  2021  1196.933  \n",
       "50  US Dollars at current prices in millions  2012  2778.998  \n",
       "51  US Dollars at current prices in millions  2013  3126.390  \n",
       "52  US Dollars at current prices in millions  2014  2914.731  \n",
       "53  US Dollars at current prices in millions  2015  2739.387  \n",
       "54  US Dollars at current prices in millions  2016  2376.521  \n",
       "55  US Dollars at current prices in millions  2017  2615.212  \n",
       "56  US Dollars at current prices in millions  2018  1756.079  \n",
       "57  US Dollars at current prices in millions  2019  1598.610  \n",
       "58  US Dollars at current prices in millions  2020  1998.843  \n",
       "59  US Dollars at current prices in millions  2021  2033.131  "
      ]
     },
     "execution_count": 6,
     "metadata": {},
     "output_type": "execute_result"
    }
   ],
   "source": [
    "Exp_and_Imp = Exp_and_Imp.drop(['Unit'],axis=1) \n",
    "Exp_and_Imp.head(60) \n"
   ]
  },
  {
   "cell_type": "code",
   "execution_count": 7,
   "id": "35d87b51",
   "metadata": {
    "scrolled": false
   },
   "outputs": [
    {
     "data": {
      "text/html": [
       "<div>\n",
       "<style scoped>\n",
       "    .dataframe tbody tr th:only-of-type {\n",
       "        vertical-align: middle;\n",
       "    }\n",
       "\n",
       "    .dataframe tbody tr th {\n",
       "        vertical-align: top;\n",
       "    }\n",
       "\n",
       "    .dataframe thead th {\n",
       "        text-align: right;\n",
       "    }\n",
       "</style>\n",
       "<table border=\"1\" class=\"dataframe\">\n",
       "  <thead>\n",
       "    <tr style=\"text-align: right;\">\n",
       "      <th></th>\n",
       "      <th>Country</th>\n",
       "      <th>category</th>\n",
       "      <th>flow</th>\n",
       "      <th>measure</th>\n",
       "      <th>Year</th>\n",
       "      <th>Value</th>\n",
       "    </tr>\n",
       "  </thead>\n",
       "  <tbody>\n",
       "    <tr>\n",
       "      <th>0</th>\n",
       "      <td>Ireland</td>\n",
       "      <td>Construction</td>\n",
       "      <td>Exports</td>\n",
       "      <td>US Dollars at current prices in millions</td>\n",
       "      <td>2012</td>\n",
       "      <td>69.379</td>\n",
       "    </tr>\n",
       "    <tr>\n",
       "      <th>1</th>\n",
       "      <td>Ireland</td>\n",
       "      <td>Construction</td>\n",
       "      <td>Exports</td>\n",
       "      <td>US Dollars at current prices in millions</td>\n",
       "      <td>2013</td>\n",
       "      <td>67.734</td>\n",
       "    </tr>\n",
       "    <tr>\n",
       "      <th>2</th>\n",
       "      <td>Ireland</td>\n",
       "      <td>Construction</td>\n",
       "      <td>Exports</td>\n",
       "      <td>US Dollars at current prices in millions</td>\n",
       "      <td>2014</td>\n",
       "      <td>79.710</td>\n",
       "    </tr>\n",
       "    <tr>\n",
       "      <th>3</th>\n",
       "      <td>Ireland</td>\n",
       "      <td>Construction</td>\n",
       "      <td>Exports</td>\n",
       "      <td>US Dollars at current prices in millions</td>\n",
       "      <td>2015</td>\n",
       "      <td>77.666</td>\n",
       "    </tr>\n",
       "    <tr>\n",
       "      <th>4</th>\n",
       "      <td>Ireland</td>\n",
       "      <td>Construction</td>\n",
       "      <td>Exports</td>\n",
       "      <td>US Dollars at current prices in millions</td>\n",
       "      <td>2016</td>\n",
       "      <td>76.376</td>\n",
       "    </tr>\n",
       "  </tbody>\n",
       "</table>\n",
       "</div>"
      ],
      "text/plain": [
       "   Country      category     flow                                   measure  \\\n",
       "0  Ireland  Construction  Exports  US Dollars at current prices in millions   \n",
       "1  Ireland  Construction  Exports  US Dollars at current prices in millions   \n",
       "2  Ireland  Construction  Exports  US Dollars at current prices in millions   \n",
       "3  Ireland  Construction  Exports  US Dollars at current prices in millions   \n",
       "4  Ireland  Construction  Exports  US Dollars at current prices in millions   \n",
       "\n",
       "   Year   Value  \n",
       "0  2012  69.379  \n",
       "1  2013  67.734  \n",
       "2  2014  79.710  \n",
       "3  2015  77.666  \n",
       "4  2016  76.376  "
      ]
     },
     "execution_count": 7,
     "metadata": {},
     "output_type": "execute_result"
    }
   ],
   "source": [
    "# Renaming the column names \n",
    "\n",
    "Exp_and_Imp = Exp_and_Imp.rename(columns={\"Date\":\"Year\",\"location\":\"Country\"})\n",
    "Exp_and_Imp.head()\n"
   ]
  },
  {
   "cell_type": "code",
   "execution_count": 8,
   "id": "c7c7403e",
   "metadata": {},
   "outputs": [
    {
     "data": {
      "text/plain": [
       "(60, 6)"
      ]
     },
     "execution_count": 8,
     "metadata": {},
     "output_type": "execute_result"
    }
   ],
   "source": [
    "Exp_and_Imp.shape "
   ]
  },
  {
   "cell_type": "code",
   "execution_count": 9,
   "id": "8f24787a",
   "metadata": {},
   "outputs": [
    {
     "name": "stdout",
     "output_type": "stream",
     "text": [
      "number of duplicate rows:  (0, 6)\n"
     ]
    }
   ],
   "source": [
    "duplicate_rows_df= Exp_and_Imp[Exp_and_Imp.duplicated()] \n",
    "print(\"number of duplicate rows: \", duplicate_rows_df.shape)"
   ]
  },
  {
   "cell_type": "code",
   "execution_count": 10,
   "id": "61b18d4f",
   "metadata": {},
   "outputs": [
    {
     "name": "stdout",
     "output_type": "stream",
     "text": [
      "Country     0\n",
      "category    0\n",
      "flow        0\n",
      "measure     0\n",
      "Year        0\n",
      "Value       0\n",
      "dtype: int64\n"
     ]
    }
   ],
   "source": [
    "print(Exp_and_Imp.isnull().sum()) \n"
   ]
  },
  {
   "cell_type": "markdown",
   "id": "b1338686",
   "metadata": {},
   "source": [
    "## Descriptive Statistics"
   ]
  },
  {
   "cell_type": "code",
   "execution_count": 11,
   "id": "a831ca24",
   "metadata": {},
   "outputs": [
    {
     "data": {
      "text/html": [
       "<div>\n",
       "<style scoped>\n",
       "    .dataframe tbody tr th:only-of-type {\n",
       "        vertical-align: middle;\n",
       "    }\n",
       "\n",
       "    .dataframe tbody tr th {\n",
       "        vertical-align: top;\n",
       "    }\n",
       "\n",
       "    .dataframe thead th {\n",
       "        text-align: right;\n",
       "    }\n",
       "</style>\n",
       "<table border=\"1\" class=\"dataframe\">\n",
       "  <thead>\n",
       "    <tr style=\"text-align: right;\">\n",
       "      <th></th>\n",
       "      <th>Year</th>\n",
       "      <th>Value</th>\n",
       "    </tr>\n",
       "  </thead>\n",
       "  <tbody>\n",
       "    <tr>\n",
       "      <th>count</th>\n",
       "      <td>60.00000</td>\n",
       "      <td>60.000000</td>\n",
       "    </tr>\n",
       "    <tr>\n",
       "      <th>mean</th>\n",
       "      <td>2016.50000</td>\n",
       "      <td>2180.134800</td>\n",
       "    </tr>\n",
       "    <tr>\n",
       "      <th>std</th>\n",
       "      <td>2.89652</td>\n",
       "      <td>1461.661048</td>\n",
       "    </tr>\n",
       "    <tr>\n",
       "      <th>min</th>\n",
       "      <td>2012.00000</td>\n",
       "      <td>67.734000</td>\n",
       "    </tr>\n",
       "    <tr>\n",
       "      <th>25%</th>\n",
       "      <td>2014.00000</td>\n",
       "      <td>979.252250</td>\n",
       "    </tr>\n",
       "    <tr>\n",
       "      <th>50%</th>\n",
       "      <td>2016.50000</td>\n",
       "      <td>2315.629000</td>\n",
       "    </tr>\n",
       "    <tr>\n",
       "      <th>75%</th>\n",
       "      <td>2019.00000</td>\n",
       "      <td>3161.097500</td>\n",
       "    </tr>\n",
       "    <tr>\n",
       "      <th>max</th>\n",
       "      <td>2021.00000</td>\n",
       "      <td>5437.156000</td>\n",
       "    </tr>\n",
       "  </tbody>\n",
       "</table>\n",
       "</div>"
      ],
      "text/plain": [
       "             Year        Value\n",
       "count    60.00000    60.000000\n",
       "mean   2016.50000  2180.134800\n",
       "std       2.89652  1461.661048\n",
       "min    2012.00000    67.734000\n",
       "25%    2014.00000   979.252250\n",
       "50%    2016.50000  2315.629000\n",
       "75%    2019.00000  3161.097500\n",
       "max    2021.00000  5437.156000"
      ]
     },
     "execution_count": 11,
     "metadata": {},
     "output_type": "execute_result"
    }
   ],
   "source": [
    "Exp_and_Imp.describe() # Why does it looks like this ??"
   ]
  },
  {
   "cell_type": "code",
   "execution_count": 12,
   "id": "03adf629",
   "metadata": {},
   "outputs": [
    {
     "data": {
      "text/html": [
       "<div>\n",
       "<style scoped>\n",
       "    .dataframe tbody tr th:only-of-type {\n",
       "        vertical-align: middle;\n",
       "    }\n",
       "\n",
       "    .dataframe tbody tr th {\n",
       "        vertical-align: top;\n",
       "    }\n",
       "\n",
       "    .dataframe thead th {\n",
       "        text-align: right;\n",
       "    }\n",
       "</style>\n",
       "<table border=\"1\" class=\"dataframe\">\n",
       "  <thead>\n",
       "    <tr style=\"text-align: right;\">\n",
       "      <th></th>\n",
       "      <th>Country</th>\n",
       "      <th>category</th>\n",
       "      <th>flow</th>\n",
       "      <th>measure</th>\n",
       "    </tr>\n",
       "  </thead>\n",
       "  <tbody>\n",
       "    <tr>\n",
       "      <th>count</th>\n",
       "      <td>60</td>\n",
       "      <td>60</td>\n",
       "      <td>60</td>\n",
       "      <td>60</td>\n",
       "    </tr>\n",
       "    <tr>\n",
       "      <th>unique</th>\n",
       "      <td>3</td>\n",
       "      <td>1</td>\n",
       "      <td>2</td>\n",
       "      <td>1</td>\n",
       "    </tr>\n",
       "    <tr>\n",
       "      <th>top</th>\n",
       "      <td>Ireland</td>\n",
       "      <td>Construction</td>\n",
       "      <td>Exports</td>\n",
       "      <td>US Dollars at current prices in millions</td>\n",
       "    </tr>\n",
       "    <tr>\n",
       "      <th>freq</th>\n",
       "      <td>20</td>\n",
       "      <td>60</td>\n",
       "      <td>30</td>\n",
       "      <td>60</td>\n",
       "    </tr>\n",
       "  </tbody>\n",
       "</table>\n",
       "</div>"
      ],
      "text/plain": [
       "        Country      category     flow  \\\n",
       "count        60            60       60   \n",
       "unique        3             1        2   \n",
       "top     Ireland  Construction  Exports   \n",
       "freq         20            60       30   \n",
       "\n",
       "                                         measure  \n",
       "count                                         60  \n",
       "unique                                         1  \n",
       "top     US Dollars at current prices in millions  \n",
       "freq                                          60  "
      ]
     },
     "execution_count": 12,
     "metadata": {},
     "output_type": "execute_result"
    }
   ],
   "source": [
    "# Summary of my categorical data \n",
    "Exp_and_Imp.describe(include=object) "
   ]
  },
  {
   "cell_type": "code",
   "execution_count": 13,
   "id": "507042d3",
   "metadata": {},
   "outputs": [
    {
     "name": "stdout",
     "output_type": "stream",
     "text": [
      "0            France\n",
      "1           Ireland\n",
      "2    United Kingdom\n",
      "Name: Country, dtype: object\n"
     ]
    }
   ],
   "source": [
    "# mode of the categorical feature\n",
    "mode = Exp_and_Imp['Country'].mode()\n",
    "print(mode)"
   ]
  },
  {
   "cell_type": "code",
   "execution_count": 14,
   "id": "3087b0bd",
   "metadata": {},
   "outputs": [
    {
     "name": "stdout",
     "output_type": "stream",
     "text": [
      "2315.629\n"
     ]
    }
   ],
   "source": [
    "# median of the numerical feature\n",
    "median = Exp_and_Imp['Value'].median()\n",
    "print(median)"
   ]
  },
  {
   "cell_type": "markdown",
   "id": "0c90001e",
   "metadata": {},
   "source": [
    "## Plots to illustrate  findings "
   ]
  },
  {
   "cell_type": "code",
   "execution_count": 15,
   "id": "43cac36f",
   "metadata": {},
   "outputs": [
    {
     "data": {
      "text/plain": [
       "Text(0.5, 1.0, 'Box plot Value')"
      ]
     },
     "execution_count": 15,
     "metadata": {},
     "output_type": "execute_result"
    },
    {
     "data": {
      "image/png": "[encoded data removed]",
      "text/plain": [
       "<Figure size 640x480 with 1 Axes>"
      ]
     },
     "metadata": {},
     "output_type": "display_data"
    }
   ],
   "source": [
    "# Boxplot of the Column \"Country\"\n",
    "sns.boxplot(x = 'Country', y ='Value',\n",
    "            data=Exp_and_Imp, hue = 'Country')\n",
    "plt.title('Box plot Value',\n",
    "          fontsize=15)"
   ]
  },
  {
   "cell_type": "code",
   "execution_count": 16,
   "id": "99b625e1",
   "metadata": {},
   "outputs": [],
   "source": [
    "# Filter the data to only include imports and exports\n",
    "data = Exp_and_Imp[Exp_and_Imp['flow'].isin(['Imports', 'Exports'])]"
   ]
  },
  {
   "cell_type": "code",
   "execution_count": 17,
   "id": "20ed3b43",
   "metadata": {
    "scrolled": true
   },
   "outputs": [
    {
     "data": {
      "text/plain": [
       "<AxesSubplot:ylabel='Year'>"
      ]
     },
     "execution_count": 17,
     "metadata": {},
     "output_type": "execute_result"
    },
    {
     "data": {
      "image/png": "[encoded data removed]",
      "text/plain": [
       "<Figure size 640x480 with 1 Axes>"
      ]
     },
     "metadata": {},
     "output_type": "display_data"
    }
   ],
   "source": [
    "# Pivot the data to create a new DataFrame with years as columns and flows as rows\n",
    "pivot_data = data.pivot_table(index='Year', columns= ['flow'], values='Value')\n",
    "pivot_data['Total'] = pivot_data['Imports'] + pivot_data['Exports'] \n",
    "pivot_data['Imports %'] = pivot_data['Imports'] / pivot_data['Total'] * 100\n",
    "pivot_data['Exports %'] = pivot_data['Exports'] / pivot_data['Total'] * 100\n",
    "\n",
    "pivot_data = data.pivot_table(index='Year', columns='flow', values='Value')\n",
    "pivot_data['Total'] = pivot_data['Imports'] + pivot_data['Exports']\n",
    "pivot_data['Imports %'] = pivot_data['Imports'] / pivot_data['Total'] * 100\n",
    "pivot_data['Exports %'] = pivot_data['Exports'] / pivot_data['Total'] * 100\n",
    "\n",
    "# Create a horizontal stacked bar chart\n",
    "pivot_data[['Imports %', 'Exports %']].plot(kind='barh', stacked=True)"
   ]
  },
  {
   "cell_type": "markdown",
   "id": "119463b2",
   "metadata": {},
   "source": [
    "## Normal distribution "
   ]
  },
  {
   "cell_type": "code",
   "execution_count": 18,
   "id": "975ca2cb",
   "metadata": {},
   "outputs": [
    {
     "name": "stdout",
     "output_type": "stream",
     "text": [
      "Shapiro-Wilk Test: Statistics=0.956, p=0.029\n",
      "The data does not come from a normal distribution\n"
     ]
    }
   ],
   "source": [
    "#Extracting the column 'Value'\n",
    "values = Exp_and_Imp['Value']\n",
    "# check if the data comes from a normal distribution using the Shapiro-Wilk test\n",
    "stat, p = shapiro(values)\n",
    "print('Shapiro-Wilk Test: Statistics=%.3f, p=%.3f' % (stat, p))\n",
    "alpha = 0.05\n",
    "if p > alpha:\n",
    "    print('The data comes from a normal distribution')\n",
    "else:\n",
    "    print('The data does not come from a normal distribution')\n"
   ]
  },
  {
   "cell_type": "code",
   "execution_count": 19,
   "id": "d47431b1",
   "metadata": {},
   "outputs": [
    {
     "name": "stdout",
     "output_type": "stream",
     "text": [
      "Mean: 2180.13, Standard Deviation: 1449.43\n"
     ]
    }
   ],
   "source": [
    "# generate a normal distribution with the same mean and standard deviation as the dat \n",
    "mu, std = norm.fit(values)\n",
    "print('Mean: %.2f, Standard Deviation: %.2f' % (mu, std))"
   ]
  },
  {
   "cell_type": "code",
   "execution_count": 20,
   "id": "4a56f8af",
   "metadata": {},
   "outputs": [
    {
     "data": {
      "image/png": "[encoded data removed]",
      "text/plain": [
       "<Figure size 640x480 with 1 Axes>"
      ]
     },
     "metadata": {},
     "output_type": "display_data"
    }
   ],
   "source": [
    "#  Histogram of the data and the probability density function of the normal distribution\n",
    "plt.hist(values, bins=20, density=True, edgecolor='black', color='c', alpha=0.50)\n",
    "xmin, xmax = plt.xlim()\n",
    "x = np.linspace(xmin, xmax, 100)\n",
    "p = norm.pdf(x, mu, std)\n",
    "plt.plot(x, p, 'k', linewidth=2)\n",
    "plt.xlabel('Value')\n",
    "plt.ylabel('Density')\n",
    "plt.show()"
   ]
  },
  {
   "cell_type": "markdown",
   "id": "82167ade",
   "metadata": {},
   "source": [
    "## Non parametric "
   ]
  },
  {
   "cell_type": "markdown",
   "id": "4287b23f",
   "metadata": {},
   "source": [
    "## Wilcoxon."
   ]
  },
  {
   "cell_type": "code",
   "execution_count": 21,
   "id": "8bcc0146",
   "metadata": {},
   "outputs": [
    {
     "name": "stdout",
     "output_type": "stream",
     "text": [
      "France\n",
      "2017-2018: p = 0.5\n",
      "2018-2019: p = 1.0\n",
      "2019-2020: p = 0.5\n",
      "2020-2021: p = 1.0\n",
      "\n",
      "\n",
      "Ireland\n",
      "2017-2018: p = 0.5\n",
      "2018-2019: p = 0.5\n",
      "2019-2020: p = 0.5\n",
      "2020-2021: p = 0.5\n",
      "\n",
      "\n",
      "United Kingdom\n",
      "2017-2018: p = 0.5\n",
      "2018-2019: p = 0.5\n",
      "2019-2020: p = 0.5\n",
      "2020-2021: p = 1.0\n",
      "\n",
      "\n"
     ]
    }
   ],
   "source": [
    "# Group the data by country\n",
    "grouped_data = data.groupby(\"Country\")\n",
    "\n",
    "# Perform the Wilcoxon signed-rank test for each country\n",
    "for country, group in grouped_data:\n",
    "    # Extract the construction export values for each year\n",
    "    values_2017 = group[group[\"Year\"] == 2017][\"Value\"]\n",
    "    values_2018 = group[group[\"Year\"] == 2018][\"Value\"]\n",
    "    values_2019 = group[group[\"Year\"] == 2019][\"Value\"]\n",
    "    values_2020 = group[group[\"Year\"] == 2020][\"Value\"]\n",
    "    values_2021 = group[group[\"Year\"] == 2021][\"Value\"]\n",
    "    \n",
    "    # Perform the Wilcoxon signed-rank test for each pair of years\n",
    "    _, p_value_2017_2018 = wilcoxon(values_2017, values_2018)\n",
    "    _, p_value_2018_2019 = wilcoxon(values_2018, values_2019)\n",
    "    _, p_value_2019_2020 = wilcoxon(values_2019, values_2020)\n",
    "    _, p_value_2020_2021 = wilcoxon(values_2020, values_2021)\n",
    "    \n",
    "    # Print the p-values for each pair of years\n",
    "    print(country)\n",
    "    print(\"2017-2018: p =\", p_value_2017_2018)\n",
    "    print(\"2018-2019: p =\", p_value_2018_2019)\n",
    "    print(\"2019-2020: p =\", p_value_2019_2020)\n",
    "    print(\"2020-2021: p =\", p_value_2020_2021)\n",
    "    print(\"\\n\")\n"
   ]
  },
  {
   "cell_type": "code",
   "execution_count": 22,
   "id": "f4752f0b",
   "metadata": {},
   "outputs": [
    {
     "data": {
      "image/png": "[encoded data removed]",
      "text/plain": [
       "<Figure size 640x480 with 1 Axes>"
      ]
     },
     "metadata": {},
     "output_type": "display_data"
    }
   ],
   "source": [
    "# Graph of the results\n",
    "# Define x-axis values (years)\n",
    "years = [2017, 2018, 2019, 2020]\n",
    "\n",
    "# Set the x-axis ticks to display as whole numbers\n",
    "plt.xticks(years, [int(year) for year in years])\n",
    "\n",
    "# Define y-axis values for each country\n",
    "france = [0.5, 1.0, 0.5, 1.0]\n",
    "ireland = [0.5, 0.5, 0.5, 0.5]\n",
    "uk = [0.5, 0.5, 0.5, 1.0]\n",
    "\n",
    "# Create the line graph\n",
    "plt.plot(years, france, label='France')\n",
    "plt.plot(years, ireland, label='Ireland')\n",
    "plt.plot(years, uk, label='United Kingdom')\n",
    "\n",
    "# Add labels and legend\n",
    "plt.xlabel('Year')\n",
    "plt.ylabel('p-value')\n",
    "plt.title('Wilcoxon Test Results')\n",
    "plt.legend()\n",
    "\n",
    "# Show the graph\n",
    "plt.show()\n"
   ]
  },
  {
   "cell_type": "markdown",
   "id": "7d8a38d2",
   "metadata": {},
   "source": [
    "## Wilcoxon Imports"
   ]
  },
  {
   "cell_type": "code",
   "execution_count": 23,
   "id": "868aa1d4",
   "metadata": {},
   "outputs": [],
   "source": [
    "# Subset the data to only include construction imports\n",
    "imports_of_construction = Exp_and_Imp[Exp_and_Imp['category'] == 'Construction'][Exp_and_Imp['flow'] == 'Imports']\n",
    "\n",
    "# Subset the data to only include Ireland and the United Kingdom\n",
    "ie_uk_importsonly = imports_of_construction[(imports_of_construction['Country'] == 'Ireland') | (imports_of_construction['Country'] == 'United Kingdom')]\n",
    "\n",
    "# Pivot the data to have Ireland and the United Kingdom as columns and years as rows\n",
    "uk_ie_table = pd.pivot_table(ie_uk_importsonly, values='Value', index='Year', columns='Country')\n"
   ]
  },
  {
   "cell_type": "code",
   "execution_count": 24,
   "id": "392db3a5",
   "metadata": {},
   "outputs": [
    {
     "name": "stdout",
     "output_type": "stream",
     "text": [
      "Wilcoxon test results:\n",
      "Statistical test statistic: 0.0\n",
      "p-value: 0.001953125\n"
     ]
    }
   ],
   "source": [
    "# Run the Wilcoxon test\n",
    "stat, p = wilcoxon(uk_ie_table['Ireland'], uk_ie_table['United Kingdom'])\n",
    "\n",
    "print(\"Wilcoxon test results:\")\n",
    "print(\"Statistical test statistic:\", stat)\n",
    "print(\"p-value:\", p)"
   ]
  },
  {
   "cell_type": "code",
   "execution_count": 25,
   "id": "ed40b4eb",
   "metadata": {},
   "outputs": [
    {
     "data": {
      "image/png": "[encoded data removed]",
      "text/plain": [
       "<Figure size 1000x500 with 2 Axes>"
      ]
     },
     "metadata": {},
     "output_type": "display_data"
    }
   ],
   "source": [
    "import matplotlib.gridspec as gridspec\n",
    "\n",
    "# Create a 1x2 grid with the widths ratio of 4:1\n",
    "fig, (ax1, ax2) = plt.subplots(ncols=2, figsize=(10, 5), gridspec_kw={'width_ratios': [4, 1]})\n",
    "\n",
    "# Plot the data on the first subplot\n",
    "ax1.plot(uk_ie_table.index, uk_ie_table['Ireland'], label='Ireland')\n",
    "ax1.plot(uk_ie_table.index, uk_ie_table['United Kingdom'], label='United Kingdom')\n",
    "\n",
    "# Add labels and annotations\n",
    "ax1.set_xlabel('Year')\n",
    "ax1.set_ylabel('Construction Imports')\n",
    "ax1.set_title('Trend of Construction Imports for Ireland and the United Kingdom')\n",
    "ax1.legend()\n",
    "\n",
    "# Add the text box on the second subplot\n",
    "ax2.text(0, 0.5, 'Wilcoxon test\\np-value: {:.3f}'.format(p), bbox=dict(facecolor='c', alpha=0.50))\n",
    "ax2.axis('off')\n",
    "\n",
    "# Adjust the spacing between the subplots\n",
    "fig.subplots_adjust(wspace=0.05)\n",
    "\n",
    "# Show the plot\n",
    "plt.show()\n"
   ]
  },
  {
   "cell_type": "markdown",
   "id": "f42c5167",
   "metadata": {},
   "source": [
    "## The Kruskal-Wallis Test"
   ]
  },
  {
   "cell_type": "code",
   "execution_count": 26,
   "id": "ba2ceb6d",
   "metadata": {},
   "outputs": [],
   "source": [
    "group1 = Exp_and_Imp[Exp_and_Imp['Country'] == 'Ireland']['Value']\n",
    "group2 = Exp_and_Imp[Exp_and_Imp['Country'] == 'France']['Value']\n",
    "group3 = Exp_and_Imp[Exp_and_Imp['Country'] == 'United Kingdom']['Value']"
   ]
  },
  {
   "cell_type": "code",
   "execution_count": 27,
   "id": "014d175e",
   "metadata": {},
   "outputs": [
    {
     "data": {
      "text/plain": [
       "F_onewayResult(statistic=60.142825868875015, pvalue=9.020614453578871e-15)"
      ]
     },
     "execution_count": 27,
     "metadata": {},
     "output_type": "execute_result"
    }
   ],
   "source": [
    "import scipy.stats as stats\n",
    "\n",
    "# Perform the one-way ANOVA test:\n",
    "stats.f_oneway(group1, group2, group3)"
   ]
  },
  {
   "cell_type": "markdown",
   "id": "6299c884",
   "metadata": {},
   "source": [
    "## Turkey-Kramer"
   ]
  },
  {
   "cell_type": "code",
   "execution_count": 28,
   "id": "1f98f837",
   "metadata": {},
   "outputs": [
    {
     "name": "stdout",
     "output_type": "stream",
     "text": [
      "         Multiple Comparison of Means - Tukey HSD, FWER=0.05         \n",
      "=====================================================================\n",
      " group1     group2      meandiff  p-adj    lower      upper    reject\n",
      "---------------------------------------------------------------------\n",
      " France        Ireland -2221.9458    0.0 -2863.6088 -1580.2828   True\n",
      " France United Kingdom   535.6849 0.1193   -105.978  1177.3479  False\n",
      "Ireland United Kingdom  2757.6307    0.0  2115.9678  3399.2937   True\n",
      "---------------------------------------------------------------------\n"
     ]
    }
   ],
   "source": [
    "# Perform Tukey-Kramer Analysis:\n",
    "tukey = pairwise_tukeyhsd(endog=Exp_and_Imp['Value'],\n",
    "                          groups=Exp_and_Imp['Country'],\n",
    "                          alpha=0.05)\n",
    "\n",
    "#display results\n",
    "print(tukey)"
   ]
  },
  {
   "cell_type": "markdown",
   "id": "d2d7f366",
   "metadata": {},
   "source": [
    "## Parametric test"
   ]
  },
  {
   "cell_type": "code",
   "execution_count": 29,
   "id": "b357f392",
   "metadata": {},
   "outputs": [
    {
     "name": "stderr",
     "output_type": "stream",
     "text": [
      "C:\\Users\\Sandr\\AppData\\Local\\Temp\\ipykernel_17796\\2110892389.py:1: FutureWarning: ['Country', 'category', 'flow', 'measure'] did not aggregate successfully. If any error is raised this will raise in a future version of pandas. Drop these columns/ops to avoid this warning.\n",
      "  Exp_and_Imp.agg(['skew', 'kurtosis']).transpose()\n"
     ]
    },
    {
     "data": {
      "text/html": [
       "<div>\n",
       "<style scoped>\n",
       "    .dataframe tbody tr th:only-of-type {\n",
       "        vertical-align: middle;\n",
       "    }\n",
       "\n",
       "    .dataframe tbody tr th {\n",
       "        vertical-align: top;\n",
       "    }\n",
       "\n",
       "    .dataframe thead th {\n",
       "        text-align: right;\n",
       "    }\n",
       "</style>\n",
       "<table border=\"1\" class=\"dataframe\">\n",
       "  <thead>\n",
       "    <tr style=\"text-align: right;\">\n",
       "      <th></th>\n",
       "      <th>skew</th>\n",
       "      <th>kurtosis</th>\n",
       "    </tr>\n",
       "  </thead>\n",
       "  <tbody>\n",
       "    <tr>\n",
       "      <th>Year</th>\n",
       "      <td>0.000000</td>\n",
       "      <td>-1.225665</td>\n",
       "    </tr>\n",
       "    <tr>\n",
       "      <th>Value</th>\n",
       "      <td>0.182142</td>\n",
       "      <td>-0.767445</td>\n",
       "    </tr>\n",
       "  </tbody>\n",
       "</table>\n",
       "</div>"
      ],
      "text/plain": [
       "           skew  kurtosis\n",
       "Year   0.000000 -1.225665\n",
       "Value  0.182142 -0.767445"
      ]
     },
     "execution_count": 29,
     "metadata": {},
     "output_type": "execute_result"
    }
   ],
   "source": [
    "Exp_and_Imp.agg(['skew', 'kurtosis']).transpose()"
   ]
  },
  {
   "cell_type": "code",
   "execution_count": 30,
   "id": "1241aea9",
   "metadata": {},
   "outputs": [],
   "source": [
    "from scipy.stats import boxcox\n",
    "\n",
    "# Box-Cox Transformation in Python\n",
    "transformed_data, lambda_value = boxcox(Exp_and_Imp.iloc[:, 5])\n",
    "Exp_and_Imp.insert(len(Exp_and_Imp.columns), 'A_Boxcox', transformed_data)\n"
   ]
  },
  {
   "cell_type": "code",
   "execution_count": 31,
   "id": "de705147",
   "metadata": {},
   "outputs": [
    {
     "data": {
      "image/png": "[encoded data removed]",
      "text/plain": [
       "<Figure size 640x480 with 1 Axes>"
      ]
     },
     "metadata": {},
     "output_type": "display_data"
    }
   ],
   "source": [
    "\n",
    "# Plot histogram\n",
    "plt.hist(Exp_and_Imp['A_Boxcox'], bins=10, edgecolor='black', color='c',alpha=0.50)\n",
    "\n",
    "# Add labels and title\n",
    "plt.xlabel('A_Boxcox')\n",
    "plt.ylabel('Frequency')\n",
    "plt.title('Histogram of A_Boxcox')\n",
    "\n",
    "# Show the plot\n",
    "plt.show()\n"
   ]
  },
  {
   "cell_type": "code",
   "execution_count": 32,
   "id": "8aad3eb8",
   "metadata": {},
   "outputs": [
    {
     "name": "stdout",
     "output_type": "stream",
     "text": [
      "Shapiro-Wilk Test: Statistics=0.942, p=0.007\n",
      "The data does not come from a normal distribution\n"
     ]
    }
   ],
   "source": [
    "\n",
    "# Apply Shapiro-Wilk test\n",
    "stat, p = shapiro(Exp_and_Imp['A_Boxcox'])\n",
    "print('Shapiro-Wilk Test: Statistics=%.3f, p=%.3f' % (stat, p))\n",
    "\n",
    "alpha = 0.05\n",
    "if p > alpha:\n",
    "    print('The data comes from a normal distribution')\n",
    "else:\n",
    "    print('The data does not come from a normal distribution')\n"
   ]
  },
  {
   "cell_type": "code",
   "execution_count": 33,
   "id": "d79ec85b",
   "metadata": {},
   "outputs": [
    {
     "name": "stdout",
     "output_type": "stream",
     "text": [
      "Normalized data (Z-score scaling):\n",
      " [[-1.45626676]\n",
      " [-1.45740169]\n",
      " [-1.44913913]\n",
      " [-1.45054934]\n",
      " [-1.45143934]\n",
      " [-1.44489884]\n",
      " [-0.86046332]\n",
      " [-0.86230611]\n",
      " [-0.90286483]\n",
      " [-0.81787346]\n",
      " [-1.40485549]\n",
      " [-1.37768342]\n",
      " [-1.32081966]\n",
      " [-1.32883799]\n",
      " [-1.31092198]\n",
      " [-1.27031427]\n",
      " [-0.65514045]\n",
      " [-0.69007075]\n",
      " [-0.74525867]\n",
      " [-0.64651291]\n",
      " [ 0.26796421]\n",
      " [ 0.82668341]\n",
      " [ 1.38394961]\n",
      " [ 0.47643522]\n",
      " [ 0.60392954]\n",
      " [ 0.74862924]\n",
      " [ 1.00968991]\n",
      " [ 1.15361345]\n",
      " [ 1.67395409]\n",
      " [ 1.81424102]\n",
      " [-0.073159  ]\n",
      " [ 0.1558049 ]\n",
      " [ 0.48710011]\n",
      " [-0.23821361]\n",
      " [-0.20743667]\n",
      " [-0.06740846]\n",
      " [ 0.44359678]\n",
      " [ 0.8964688 ]\n",
      " [ 1.90923703]\n",
      " [ 1.88256308]\n",
      " [ 0.5354964 ]\n",
      " [ 0.88283861]\n",
      " [ 0.90460787]\n",
      " [ 1.23323237]\n",
      " [ 0.78538577]\n",
      " [ 2.24710585]\n",
      " [ 0.0683767 ]\n",
      " [ 0.11858543]\n",
      " [ 0.18461831]\n",
      " [-0.67833716]\n",
      " [ 0.4131717 ]\n",
      " [ 0.65284672]\n",
      " [ 0.50681752]\n",
      " [ 0.38584302]\n",
      " [ 0.13549208]\n",
      " [ 0.30017137]\n",
      " [-0.29256741]\n",
      " [-0.40120948]\n",
      " [-0.12507805]\n",
      " [-0.10142185]]\n"
     ]
    }
   ],
   "source": [
    "\n",
    "# Perform Z-score scaling (Standardization)\n",
    "scaler = StandardScaler()\n",
    "normalized_data_zscore = scaler.fit_transform(Exp_and_Imp[['Value']])\n",
    "\n",
    "# Print the normalized data\n",
    "print(\"Normalized data (Z-score scaling):\\n\", normalized_data_zscore)\n"
   ]
  },
  {
   "cell_type": "code",
   "execution_count": 34,
   "id": "c1472264",
   "metadata": {},
   "outputs": [
    {
     "data": {
      "image/png": "[encoded data removed]",
      "text/plain": [
       "<Figure size 640x480 with 1 Axes>"
      ]
     },
     "metadata": {},
     "output_type": "display_data"
    }
   ],
   "source": [
    "\n",
    "# Plot histogram\n",
    "plt.hist(normalized_data_zscore, bins=10, color='c', edgecolor='k', alpha=0.50)\n",
    "\n",
    "# Add labels and title\n",
    "plt.xlabel('Normalized data (Z-score scaling)')\n",
    "plt.ylabel('Frequency')\n",
    "plt.title('Histogram of Normalized Data (Z-score scaling)')\n",
    "\n",
    "# Show the plot\n",
    "plt.show()\n"
   ]
  },
  {
   "cell_type": "code",
   "execution_count": 35,
   "id": "eeb92b79",
   "metadata": {},
   "outputs": [
    {
     "name": "stdout",
     "output_type": "stream",
     "text": [
      "Shapiro-Wilk Test: Statistics=0.956, p=0.029\n",
      "The data does not follow a normal distribution after Z-score scaling\n"
     ]
    }
   ],
   "source": [
    "# Apply Shapiro-Wilk test\n",
    "stat, p = shapiro(normalized_data_zscore)\n",
    "print('Shapiro-Wilk Test: Statistics=%.3f, p=%.3f' % (stat, p))\n",
    "\n",
    "alpha = 0.05\n",
    "if p > alpha:\n",
    "    print('The data follows a normal distribution after Z-score scaling')\n",
    "else:\n",
    "    print('The data does not follow a normal distribution after Z-score scaling')"
   ]
  },
  {
   "cell_type": "markdown",
   "id": "13984566",
   "metadata": {},
   "source": [
    "## One-sample t-test"
   ]
  },
  {
   "cell_type": "code",
   "execution_count": 36,
   "id": "570b25b6",
   "metadata": {},
   "outputs": [
    {
     "name": "stdout",
     "output_type": "stream",
     "text": [
      "Data is significantly different from zero (the null hypothesis can be rejected).\n"
     ]
    }
   ],
   "source": [
    "\n",
    "# Perform one-sample t-test\n",
    "t_stat, p_val = ttest_1samp(Exp_and_Imp['Value'], 0)\n",
    "\n",
    "alpha = 0.05\n",
    "if p_val > alpha:\n",
    "    print(\"Data is not significantly from zero(the null hypothes cannot be rejected).\")\n",
    "else:\n",
    "    print(\"Data is significantly different from zero (the null hypothesis can be rejected).\")\n"
   ]
  },
  {
   "cell_type": "code",
   "execution_count": 37,
   "id": "79e087d5",
   "metadata": {},
   "outputs": [
    {
     "data": {
      "text/plain": [
       "Text(0.5, 1.0, 'Histogram of Values')"
      ]
     },
     "execution_count": 37,
     "metadata": {},
     "output_type": "execute_result"
    },
    {
     "data": {
      "image/png": "[encoded data removed]",
      "text/plain": [
       "<Figure size 640x480 with 1 Axes>"
      ]
     },
     "metadata": {},
     "output_type": "display_data"
    }
   ],
   "source": [
    "# Plotting the histogram\n",
    "plt.hist(values, bins=7, color='c', edgecolor='k', alpha=0.50)\n",
    "plt.axvline(values.mean(), color='k', linestyle='dashed', linewidth=2)  # Sample mean\n",
    "plt.axvline(mu, color='red', linestyle='solid', linewidth=2)  # Population mean\n",
    "\n",
    "# Adding labels and title\n",
    "plt.xlabel('Value')\n",
    "plt.ylabel('Frequency')\n",
    "plt.title('Histogram of Values')"
   ]
  },
  {
   "cell_type": "markdown",
   "id": "4cb162c5",
   "metadata": {},
   "source": [
    "## Interactive Visualization "
   ]
  },
  {
   "cell_type": "code",
   "execution_count": 41,
   "id": "fccd0f8e",
   "metadata": {},
   "outputs": [],
   "source": [
    "country_codes = pd.read_csv(\"iso3.csv\") "
   ]
  },
  {
   "cell_type": "code",
   "execution_count": 42,
   "id": "d346a614",
   "metadata": {},
   "outputs": [
    {
     "data": {
      "text/html": [
       "<div>\n",
       "<style scoped>\n",
       "    .dataframe tbody tr th:only-of-type {\n",
       "        vertical-align: middle;\n",
       "    }\n",
       "\n",
       "    .dataframe tbody tr th {\n",
       "        vertical-align: top;\n",
       "    }\n",
       "\n",
       "    .dataframe thead th {\n",
       "        text-align: right;\n",
       "    }\n",
       "</style>\n",
       "<table border=\"1\" class=\"dataframe\">\n",
       "  <thead>\n",
       "    <tr style=\"text-align: right;\">\n",
       "      <th></th>\n",
       "      <th>iso3</th>\n",
       "      <th>name</th>\n",
       "    </tr>\n",
       "  </thead>\n",
       "  <tbody>\n",
       "    <tr>\n",
       "      <th>0</th>\n",
       "      <td>BEL</td>\n",
       "      <td>Belgium</td>\n",
       "    </tr>\n",
       "    <tr>\n",
       "      <th>1</th>\n",
       "      <td>CH_</td>\n",
       "      <td>China, mainland</td>\n",
       "    </tr>\n",
       "    <tr>\n",
       "      <th>2</th>\n",
       "      <td>GGY</td>\n",
       "      <td>Guernsey</td>\n",
       "    </tr>\n",
       "    <tr>\n",
       "      <th>3</th>\n",
       "      <td>LUX</td>\n",
       "      <td>Luxembourg</td>\n",
       "    </tr>\n",
       "    <tr>\n",
       "      <th>4</th>\n",
       "      <td>TWN</td>\n",
       "      <td>China, Taiwan Province of</td>\n",
       "    </tr>\n",
       "  </tbody>\n",
       "</table>\n",
       "</div>"
      ],
      "text/plain": [
       "  iso3                       name\n",
       "0  BEL                    Belgium\n",
       "1  CH_            China, mainland\n",
       "2  GGY                   Guernsey\n",
       "3  LUX                 Luxembourg\n",
       "4  TWN  China, Taiwan Province of"
      ]
     },
     "execution_count": 42,
     "metadata": {},
     "output_type": "execute_result"
    }
   ],
   "source": [
    "country_codes.head() \n"
   ]
  },
  {
   "cell_type": "code",
   "execution_count": 43,
   "id": "07ae0e39",
   "metadata": {},
   "outputs": [
    {
     "name": "stdout",
     "output_type": "stream",
     "text": [
      "          location      category     flow  \\\n",
      "0          Ireland  Construction  Exports   \n",
      "1          Ireland  Construction  Exports   \n",
      "2          Ireland  Construction  Exports   \n",
      "3          Ireland  Construction  Exports   \n",
      "4          Ireland  Construction  Exports   \n",
      "5          Ireland  Construction  Exports   \n",
      "6          Ireland  Construction  Exports   \n",
      "7          Ireland  Construction  Exports   \n",
      "8          Ireland  Construction  Exports   \n",
      "9          Ireland  Construction  Exports   \n",
      "10         Ireland  Construction  Imports   \n",
      "11         Ireland  Construction  Imports   \n",
      "12         Ireland  Construction  Imports   \n",
      "13         Ireland  Construction  Imports   \n",
      "14         Ireland  Construction  Imports   \n",
      "15         Ireland  Construction  Imports   \n",
      "16         Ireland  Construction  Imports   \n",
      "17         Ireland  Construction  Imports   \n",
      "18         Ireland  Construction  Imports   \n",
      "19         Ireland  Construction  Imports   \n",
      "20  United Kingdom  Construction  Exports   \n",
      "21  United Kingdom  Construction  Exports   \n",
      "22  United Kingdom  Construction  Exports   \n",
      "23  United Kingdom  Construction  Exports   \n",
      "24  United Kingdom  Construction  Exports   \n",
      "25  United Kingdom  Construction  Exports   \n",
      "26  United Kingdom  Construction  Exports   \n",
      "27  United Kingdom  Construction  Exports   \n",
      "28  United Kingdom  Construction  Exports   \n",
      "29  United Kingdom  Construction  Exports   \n",
      "30  United Kingdom  Construction  Imports   \n",
      "31  United Kingdom  Construction  Imports   \n",
      "32  United Kingdom  Construction  Imports   \n",
      "33  United Kingdom  Construction  Imports   \n",
      "34  United Kingdom  Construction  Imports   \n",
      "35  United Kingdom  Construction  Imports   \n",
      "36  United Kingdom  Construction  Imports   \n",
      "37  United Kingdom  Construction  Imports   \n",
      "38  United Kingdom  Construction  Imports   \n",
      "39  United Kingdom  Construction  Imports   \n",
      "40          France  Construction  Exports   \n",
      "41          France  Construction  Exports   \n",
      "42          France  Construction  Exports   \n",
      "43          France  Construction  Exports   \n",
      "44          France  Construction  Exports   \n",
      "45          France  Construction  Exports   \n",
      "46          France  Construction  Exports   \n",
      "47          France  Construction  Exports   \n",
      "48          France  Construction  Exports   \n",
      "49          France  Construction  Exports   \n",
      "50          France  Construction  Imports   \n",
      "51          France  Construction  Imports   \n",
      "52          France  Construction  Imports   \n",
      "53          France  Construction  Imports   \n",
      "54          France  Construction  Imports   \n",
      "55          France  Construction  Imports   \n",
      "56          France  Construction  Imports   \n",
      "57          France  Construction  Imports   \n",
      "58          France  Construction  Imports   \n",
      "59          France  Construction  Imports   \n",
      "\n",
      "                                     measure                      Unit  Date  \\\n",
      "0   US Dollars at current prices in millions  Millions of U.S. dollars  2012   \n",
      "1   US Dollars at current prices in millions  Millions of U.S. dollars  2013   \n",
      "2   US Dollars at current prices in millions  Millions of U.S. dollars  2014   \n",
      "3   US Dollars at current prices in millions  Millions of U.S. dollars  2015   \n",
      "4   US Dollars at current prices in millions  Millions of U.S. dollars  2016   \n",
      "5   US Dollars at current prices in millions  Millions of U.S. dollars  2017   \n",
      "6   US Dollars at current prices in millions  Millions of U.S. dollars  2018   \n",
      "7   US Dollars at current prices in millions  Millions of U.S. dollars  2019   \n",
      "8   US Dollars at current prices in millions  Millions of U.S. dollars  2020   \n",
      "9   US Dollars at current prices in millions  Millions of U.S. dollars  2021   \n",
      "10  US Dollars at current prices in millions  Millions of U.S. dollars  2012   \n",
      "11  US Dollars at current prices in millions  Millions of U.S. dollars  2013   \n",
      "12  US Dollars at current prices in millions  Millions of U.S. dollars  2014   \n",
      "13  US Dollars at current prices in millions  Millions of U.S. dollars  2015   \n",
      "14  US Dollars at current prices in millions  Millions of U.S. dollars  2016   \n",
      "15  US Dollars at current prices in millions  Millions of U.S. dollars  2017   \n",
      "16  US Dollars at current prices in millions  Millions of U.S. dollars  2018   \n",
      "17  US Dollars at current prices in millions  Millions of U.S. dollars  2019   \n",
      "18  US Dollars at current prices in millions  Millions of U.S. dollars  2020   \n",
      "19  US Dollars at current prices in millions  Millions of U.S. dollars  2021   \n",
      "20  US Dollars at current prices in millions  Millions of U.S. dollars  2012   \n",
      "21  US Dollars at current prices in millions  Millions of U.S. dollars  2013   \n",
      "22  US Dollars at current prices in millions  Millions of U.S. dollars  2014   \n",
      "23  US Dollars at current prices in millions  Millions of U.S. dollars  2015   \n",
      "24  US Dollars at current prices in millions  Millions of U.S. dollars  2016   \n",
      "25  US Dollars at current prices in millions  Millions of U.S. dollars  2017   \n",
      "26  US Dollars at current prices in millions  Millions of U.S. dollars  2018   \n",
      "27  US Dollars at current prices in millions  Millions of U.S. dollars  2019   \n",
      "28  US Dollars at current prices in millions  Millions of U.S. dollars  2020   \n",
      "29  US Dollars at current prices in millions  Millions of U.S. dollars  2021   \n",
      "30  US Dollars at current prices in millions  Millions of U.S. dollars  2012   \n",
      "31  US Dollars at current prices in millions  Millions of U.S. dollars  2013   \n",
      "32  US Dollars at current prices in millions  Millions of U.S. dollars  2014   \n",
      "33  US Dollars at current prices in millions  Millions of U.S. dollars  2015   \n",
      "34  US Dollars at current prices in millions  Millions of U.S. dollars  2016   \n",
      "35  US Dollars at current prices in millions  Millions of U.S. dollars  2017   \n",
      "36  US Dollars at current prices in millions  Millions of U.S. dollars  2018   \n",
      "37  US Dollars at current prices in millions  Millions of U.S. dollars  2019   \n",
      "38  US Dollars at current prices in millions  Millions of U.S. dollars  2020   \n",
      "39  US Dollars at current prices in millions  Millions of U.S. dollars  2021   \n",
      "40  US Dollars at current prices in millions  Millions of U.S. dollars  2012   \n",
      "41  US Dollars at current prices in millions  Millions of U.S. dollars  2013   \n",
      "42  US Dollars at current prices in millions  Millions of U.S. dollars  2014   \n",
      "43  US Dollars at current prices in millions  Millions of U.S. dollars  2015   \n",
      "44  US Dollars at current prices in millions  Millions of U.S. dollars  2016   \n",
      "45  US Dollars at current prices in millions  Millions of U.S. dollars  2017   \n",
      "46  US Dollars at current prices in millions  Millions of U.S. dollars  2018   \n",
      "47  US Dollars at current prices in millions  Millions of U.S. dollars  2019   \n",
      "48  US Dollars at current prices in millions  Millions of U.S. dollars  2020   \n",
      "49  US Dollars at current prices in millions  Millions of U.S. dollars  2021   \n",
      "50  US Dollars at current prices in millions  Millions of U.S. dollars  2012   \n",
      "51  US Dollars at current prices in millions  Millions of U.S. dollars  2013   \n",
      "52  US Dollars at current prices in millions  Millions of U.S. dollars  2014   \n",
      "53  US Dollars at current prices in millions  Millions of U.S. dollars  2015   \n",
      "54  US Dollars at current prices in millions  Millions of U.S. dollars  2016   \n",
      "55  US Dollars at current prices in millions  Millions of U.S. dollars  2017   \n",
      "56  US Dollars at current prices in millions  Millions of U.S. dollars  2018   \n",
      "57  US Dollars at current prices in millions  Millions of U.S. dollars  2019   \n",
      "58  US Dollars at current prices in millions  Millions of U.S. dollars  2020   \n",
      "59  US Dollars at current prices in millions  Millions of U.S. dollars  2021   \n",
      "\n",
      "       Value iso3            name  \n",
      "0     69.379  IRL         Ireland  \n",
      "1     67.734  IRL         Ireland  \n",
      "2     79.710  IRL         Ireland  \n",
      "3     77.666  IRL         Ireland  \n",
      "4     76.376  IRL         Ireland  \n",
      "5     85.856  IRL         Ireland  \n",
      "6    932.954  IRL         Ireland  \n",
      "7    930.283  IRL         Ireland  \n",
      "8    871.496  IRL         Ireland  \n",
      "9    994.685  IRL         Ireland  \n",
      "10   143.896  IRL         Ireland  \n",
      "11   183.280  IRL         Ireland  \n",
      "12   265.700  IRL         Ireland  \n",
      "13   254.078  IRL         Ireland  \n",
      "14   280.046  IRL         Ireland  \n",
      "15   338.904  IRL         Ireland  \n",
      "16  1230.555  IRL         Ireland  \n",
      "17  1179.926  IRL         Ireland  \n",
      "18  1099.935  IRL         Ireland  \n",
      "19  1243.060  IRL         Ireland  \n",
      "20  2568.530  GBR  United Kingdom  \n",
      "21  3378.354  GBR  United Kingdom  \n",
      "22  4186.072  GBR  United Kingdom  \n",
      "23  2870.694  GBR  United Kingdom  \n",
      "24  3055.488  GBR  United Kingdom  \n",
      "25  3265.220  GBR  United Kingdom  \n",
      "26  3643.609  GBR  United Kingdom  \n",
      "27  3852.216  GBR  United Kingdom  \n",
      "28  4606.413  GBR  United Kingdom  \n",
      "29  4809.749  GBR  United Kingdom  \n",
      "30  2074.096  GBR  United Kingdom  \n",
      "31  2405.963  GBR  United Kingdom  \n",
      "32  2886.152  GBR  United Kingdom  \n",
      "33  1834.861  GBR  United Kingdom  \n",
      "34  1879.470  GBR  United Kingdom  \n",
      "35  2082.431  GBR  United Kingdom  \n",
      "36  2823.097  GBR  United Kingdom  \n",
      "37  3479.503  GBR  United Kingdom  \n",
      "38  4947.439  GBR  United Kingdom  \n",
      "39  4908.777  GBR  United Kingdom  \n",
      "40  2956.299  FRA          France  \n",
      "41  3459.747  FRA          France  \n",
      "42  3491.300  FRA          France  \n",
      "43  3967.618  FRA          France  \n",
      "44  3318.496  FRA          France  \n",
      "45  5437.156  FRA          France  \n",
      "46  2279.242  FRA          France  \n",
      "47  2352.016  FRA          France  \n",
      "48  2447.726  FRA          France  \n",
      "49  1196.933  FRA          France  \n",
      "50  2778.998  FRA          France  \n",
      "51  3126.390  FRA          France  \n",
      "52  2914.731  FRA          France  \n",
      "53  2739.387  FRA          France  \n",
      "54  2376.521  FRA          France  \n",
      "55  2615.212  FRA          France  \n",
      "56  1756.079  FRA          France  \n",
      "57  1598.610  FRA          France  \n",
      "58  1998.843  FRA          France  \n",
      "59  2033.131  FRA          France  \n"
     ]
    }
   ],
   "source": [
    "# Read the datasets\n",
    "Exp_and_Imp = pd.read_csv('import_and_export.csv')\n",
    "country_codes = pd.read_csv('iso3.csv')\n",
    "\n",
    "# Merge the datasets based on the 'location' column in Exp_and_Imp and the 'name' column in country_codes\n",
    "merged_datasets = pd.merge(Exp_and_Imp, country_codes, left_on='location', right_on='name')\n",
    "\n",
    "# Print the merged dataset\n",
    "print(merged_datasets)\n"
   ]
  },
  {
   "cell_type": "code",
   "execution_count": 44,
   "id": "e3cab99f",
   "metadata": {},
   "outputs": [
    {
     "data": {
      "text/html": [
       "<div>\n",
       "<style scoped>\n",
       "    .dataframe tbody tr th:only-of-type {\n",
       "        vertical-align: middle;\n",
       "    }\n",
       "\n",
       "    .dataframe tbody tr th {\n",
       "        vertical-align: top;\n",
       "    }\n",
       "\n",
       "    .dataframe thead th {\n",
       "        text-align: right;\n",
       "    }\n",
       "</style>\n",
       "<table border=\"1\" class=\"dataframe\">\n",
       "  <thead>\n",
       "    <tr style=\"text-align: right;\">\n",
       "      <th></th>\n",
       "      <th>location</th>\n",
       "      <th>category</th>\n",
       "      <th>flow</th>\n",
       "      <th>measure</th>\n",
       "      <th>Unit</th>\n",
       "      <th>Date</th>\n",
       "      <th>Value</th>\n",
       "      <th>iso3</th>\n",
       "      <th>name</th>\n",
       "    </tr>\n",
       "  </thead>\n",
       "  <tbody>\n",
       "    <tr>\n",
       "      <th>0</th>\n",
       "      <td>Ireland</td>\n",
       "      <td>Construction</td>\n",
       "      <td>Exports</td>\n",
       "      <td>US Dollars at current prices in millions</td>\n",
       "      <td>Millions of U.S. dollars</td>\n",
       "      <td>2012</td>\n",
       "      <td>69.379</td>\n",
       "      <td>IRL</td>\n",
       "      <td>Ireland</td>\n",
       "    </tr>\n",
       "    <tr>\n",
       "      <th>1</th>\n",
       "      <td>Ireland</td>\n",
       "      <td>Construction</td>\n",
       "      <td>Exports</td>\n",
       "      <td>US Dollars at current prices in millions</td>\n",
       "      <td>Millions of U.S. dollars</td>\n",
       "      <td>2013</td>\n",
       "      <td>67.734</td>\n",
       "      <td>IRL</td>\n",
       "      <td>Ireland</td>\n",
       "    </tr>\n",
       "    <tr>\n",
       "      <th>2</th>\n",
       "      <td>Ireland</td>\n",
       "      <td>Construction</td>\n",
       "      <td>Exports</td>\n",
       "      <td>US Dollars at current prices in millions</td>\n",
       "      <td>Millions of U.S. dollars</td>\n",
       "      <td>2014</td>\n",
       "      <td>79.710</td>\n",
       "      <td>IRL</td>\n",
       "      <td>Ireland</td>\n",
       "    </tr>\n",
       "    <tr>\n",
       "      <th>3</th>\n",
       "      <td>Ireland</td>\n",
       "      <td>Construction</td>\n",
       "      <td>Exports</td>\n",
       "      <td>US Dollars at current prices in millions</td>\n",
       "      <td>Millions of U.S. dollars</td>\n",
       "      <td>2015</td>\n",
       "      <td>77.666</td>\n",
       "      <td>IRL</td>\n",
       "      <td>Ireland</td>\n",
       "    </tr>\n",
       "    <tr>\n",
       "      <th>4</th>\n",
       "      <td>Ireland</td>\n",
       "      <td>Construction</td>\n",
       "      <td>Exports</td>\n",
       "      <td>US Dollars at current prices in millions</td>\n",
       "      <td>Millions of U.S. dollars</td>\n",
       "      <td>2016</td>\n",
       "      <td>76.376</td>\n",
       "      <td>IRL</td>\n",
       "      <td>Ireland</td>\n",
       "    </tr>\n",
       "  </tbody>\n",
       "</table>\n",
       "</div>"
      ],
      "text/plain": [
       "  location      category     flow                                   measure  \\\n",
       "0  Ireland  Construction  Exports  US Dollars at current prices in millions   \n",
       "1  Ireland  Construction  Exports  US Dollars at current prices in millions   \n",
       "2  Ireland  Construction  Exports  US Dollars at current prices in millions   \n",
       "3  Ireland  Construction  Exports  US Dollars at current prices in millions   \n",
       "4  Ireland  Construction  Exports  US Dollars at current prices in millions   \n",
       "\n",
       "                       Unit  Date   Value iso3     name  \n",
       "0  Millions of U.S. dollars  2012  69.379  IRL  Ireland  \n",
       "1  Millions of U.S. dollars  2013  67.734  IRL  Ireland  \n",
       "2  Millions of U.S. dollars  2014  79.710  IRL  Ireland  \n",
       "3  Millions of U.S. dollars  2015  77.666  IRL  Ireland  \n",
       "4  Millions of U.S. dollars  2016  76.376  IRL  Ireland  "
      ]
     },
     "execution_count": 44,
     "metadata": {},
     "output_type": "execute_result"
    }
   ],
   "source": [
    "#view the first 5 values\n",
    "merged_datasets.head()"
   ]
  },
  {
   "cell_type": "code",
   "execution_count": 45,
   "id": "6e2cd6b8",
   "metadata": {},
   "outputs": [
    {
     "data": {
      "text/html": [
       "<div>\n",
       "<style scoped>\n",
       "    .dataframe tbody tr th:only-of-type {\n",
       "        vertical-align: middle;\n",
       "    }\n",
       "\n",
       "    .dataframe tbody tr th {\n",
       "        vertical-align: top;\n",
       "    }\n",
       "\n",
       "    .dataframe thead th {\n",
       "        text-align: right;\n",
       "    }\n",
       "</style>\n",
       "<table border=\"1\" class=\"dataframe\">\n",
       "  <thead>\n",
       "    <tr style=\"text-align: right;\">\n",
       "      <th></th>\n",
       "      <th>location</th>\n",
       "      <th>category</th>\n",
       "      <th>flow</th>\n",
       "      <th>measure</th>\n",
       "      <th>Date</th>\n",
       "      <th>Value</th>\n",
       "      <th>iso3</th>\n",
       "    </tr>\n",
       "  </thead>\n",
       "  <tbody>\n",
       "    <tr>\n",
       "      <th>0</th>\n",
       "      <td>Ireland</td>\n",
       "      <td>Construction</td>\n",
       "      <td>Exports</td>\n",
       "      <td>US Dollars at current prices in millions</td>\n",
       "      <td>2012</td>\n",
       "      <td>69.379</td>\n",
       "      <td>IRL</td>\n",
       "    </tr>\n",
       "    <tr>\n",
       "      <th>1</th>\n",
       "      <td>Ireland</td>\n",
       "      <td>Construction</td>\n",
       "      <td>Exports</td>\n",
       "      <td>US Dollars at current prices in millions</td>\n",
       "      <td>2013</td>\n",
       "      <td>67.734</td>\n",
       "      <td>IRL</td>\n",
       "    </tr>\n",
       "    <tr>\n",
       "      <th>2</th>\n",
       "      <td>Ireland</td>\n",
       "      <td>Construction</td>\n",
       "      <td>Exports</td>\n",
       "      <td>US Dollars at current prices in millions</td>\n",
       "      <td>2014</td>\n",
       "      <td>79.710</td>\n",
       "      <td>IRL</td>\n",
       "    </tr>\n",
       "    <tr>\n",
       "      <th>3</th>\n",
       "      <td>Ireland</td>\n",
       "      <td>Construction</td>\n",
       "      <td>Exports</td>\n",
       "      <td>US Dollars at current prices in millions</td>\n",
       "      <td>2015</td>\n",
       "      <td>77.666</td>\n",
       "      <td>IRL</td>\n",
       "    </tr>\n",
       "    <tr>\n",
       "      <th>4</th>\n",
       "      <td>Ireland</td>\n",
       "      <td>Construction</td>\n",
       "      <td>Exports</td>\n",
       "      <td>US Dollars at current prices in millions</td>\n",
       "      <td>2016</td>\n",
       "      <td>76.376</td>\n",
       "      <td>IRL</td>\n",
       "    </tr>\n",
       "  </tbody>\n",
       "</table>\n",
       "</div>"
      ],
      "text/plain": [
       "  location      category     flow                                   measure  \\\n",
       "0  Ireland  Construction  Exports  US Dollars at current prices in millions   \n",
       "1  Ireland  Construction  Exports  US Dollars at current prices in millions   \n",
       "2  Ireland  Construction  Exports  US Dollars at current prices in millions   \n",
       "3  Ireland  Construction  Exports  US Dollars at current prices in millions   \n",
       "4  Ireland  Construction  Exports  US Dollars at current prices in millions   \n",
       "\n",
       "   Date   Value iso3  \n",
       "0  2012  69.379  IRL  \n",
       "1  2013  67.734  IRL  \n",
       "2  2014  79.710  IRL  \n",
       "3  2015  77.666  IRL  \n",
       "4  2016  76.376  IRL  "
      ]
     },
     "execution_count": 45,
     "metadata": {},
     "output_type": "execute_result"
    }
   ],
   "source": [
    "# Drop the columns \n",
    "merged_datasets = merged_datasets.drop(['Unit','name'],axis=1) \n",
    "merged_datasets.head() \n"
   ]
  },
  {
   "cell_type": "code",
   "execution_count": 46,
   "id": "48e282c1",
   "metadata": {},
   "outputs": [
    {
     "data": {
      "text/html": [
       "<div>\n",
       "<style scoped>\n",
       "    .dataframe tbody tr th:only-of-type {\n",
       "        vertical-align: middle;\n",
       "    }\n",
       "\n",
       "    .dataframe tbody tr th {\n",
       "        vertical-align: top;\n",
       "    }\n",
       "\n",
       "    .dataframe thead th {\n",
       "        text-align: right;\n",
       "    }\n",
       "</style>\n",
       "<table border=\"1\" class=\"dataframe\">\n",
       "  <thead>\n",
       "    <tr style=\"text-align: right;\">\n",
       "      <th></th>\n",
       "      <th>Country</th>\n",
       "      <th>category</th>\n",
       "      <th>flow</th>\n",
       "      <th>measure</th>\n",
       "      <th>Year</th>\n",
       "      <th>Value</th>\n",
       "      <th>code</th>\n",
       "    </tr>\n",
       "  </thead>\n",
       "  <tbody>\n",
       "    <tr>\n",
       "      <th>0</th>\n",
       "      <td>Ireland</td>\n",
       "      <td>Construction</td>\n",
       "      <td>Exports</td>\n",
       "      <td>US Dollars at current prices in millions</td>\n",
       "      <td>2012</td>\n",
       "      <td>69.379</td>\n",
       "      <td>IRL</td>\n",
       "    </tr>\n",
       "    <tr>\n",
       "      <th>1</th>\n",
       "      <td>Ireland</td>\n",
       "      <td>Construction</td>\n",
       "      <td>Exports</td>\n",
       "      <td>US Dollars at current prices in millions</td>\n",
       "      <td>2013</td>\n",
       "      <td>67.734</td>\n",
       "      <td>IRL</td>\n",
       "    </tr>\n",
       "    <tr>\n",
       "      <th>2</th>\n",
       "      <td>Ireland</td>\n",
       "      <td>Construction</td>\n",
       "      <td>Exports</td>\n",
       "      <td>US Dollars at current prices in millions</td>\n",
       "      <td>2014</td>\n",
       "      <td>79.710</td>\n",
       "      <td>IRL</td>\n",
       "    </tr>\n",
       "    <tr>\n",
       "      <th>3</th>\n",
       "      <td>Ireland</td>\n",
       "      <td>Construction</td>\n",
       "      <td>Exports</td>\n",
       "      <td>US Dollars at current prices in millions</td>\n",
       "      <td>2015</td>\n",
       "      <td>77.666</td>\n",
       "      <td>IRL</td>\n",
       "    </tr>\n",
       "    <tr>\n",
       "      <th>4</th>\n",
       "      <td>Ireland</td>\n",
       "      <td>Construction</td>\n",
       "      <td>Exports</td>\n",
       "      <td>US Dollars at current prices in millions</td>\n",
       "      <td>2016</td>\n",
       "      <td>76.376</td>\n",
       "      <td>IRL</td>\n",
       "    </tr>\n",
       "  </tbody>\n",
       "</table>\n",
       "</div>"
      ],
      "text/plain": [
       "   Country      category     flow                                   measure  \\\n",
       "0  Ireland  Construction  Exports  US Dollars at current prices in millions   \n",
       "1  Ireland  Construction  Exports  US Dollars at current prices in millions   \n",
       "2  Ireland  Construction  Exports  US Dollars at current prices in millions   \n",
       "3  Ireland  Construction  Exports  US Dollars at current prices in millions   \n",
       "4  Ireland  Construction  Exports  US Dollars at current prices in millions   \n",
       "\n",
       "   Year   Value code  \n",
       "0  2012  69.379  IRL  \n",
       "1  2013  67.734  IRL  \n",
       "2  2014  79.710  IRL  \n",
       "3  2015  77.666  IRL  \n",
       "4  2016  76.376  IRL  "
      ]
     },
     "execution_count": 46,
     "metadata": {},
     "output_type": "execute_result"
    }
   ],
   "source": [
    "# Renaming the column names \n",
    "\n",
    "merged_datasets = merged_datasets.rename(columns={\"Date\":\"Year\",\"location\":\"Country\",\"iso3\":\"code\"})\n",
    "merged_datasets.head()"
   ]
  },
  {
   "cell_type": "code",
   "execution_count": 47,
   "id": "d7bafcb3",
   "metadata": {},
   "outputs": [
    {
     "data": {
      "application/vnd.plotly.v1+json": {
       "config": {
        "plotlyServerURL": "https://plot.ly"
       },
       "data": [
        {
         "coloraxis": "coloraxis",
         "geo": "geo",
         "hovertemplate": "<b>%{hovertext}</b><br><br>Year=2012<br>code=%{location}<br>Value=%{z}<extra></extra>",
         "hovertext": [
          "Ireland",
          "Ireland",
          "United Kingdom",
          "United Kingdom",
          "France",
          "France"
         ],
         "locations": [
          "IRL",
          "IRL",
          "GBR",
          "GBR",
          "FRA",
          "FRA"
         ],
         "name": "",
         "type": "choropleth",
         "z": [
          69.379,
          143.896,
          2568.53,
          2074.096,
          2956.299,
          2778.998
         ]
        }
       ],
       "frames": [
        {
         "data": [
          {
           "coloraxis": "coloraxis",
           "geo": "geo",
           "hovertemplate": "<b>%{hovertext}</b><br><br>Year=2012<br>code=%{location}<br>Value=%{z}<extra></extra>",
           "hovertext": [
            "Ireland",
            "Ireland",
            "United Kingdom",
            "United Kingdom",
            "France",
            "France"
           ],
           "locations": [
            "IRL",
            "IRL",
            "GBR",
            "GBR",
            "FRA",
            "FRA"
           ],
           "name": "",
           "type": "choropleth",
           "z": [
            69.379,
            143.896,
            2568.53,
            2074.096,
            2956.299,
            2778.998
           ]
          }
         ],
         "name": "2012"
        },
        {
         "data": [
          {
           "coloraxis": "coloraxis",
           "geo": "geo",
           "hovertemplate": "<b>%{hovertext}</b><br><br>Year=2013<br>code=%{location}<br>Value=%{z}<extra></extra>",
           "hovertext": [
            "Ireland",
            "Ireland",
            "United Kingdom",
            "United Kingdom",
            "France",
            "France"
           ],
           "locations": [
            "IRL",
            "IRL",
            "GBR",
            "GBR",
            "FRA",
            "FRA"
           ],
           "name": "",
           "type": "choropleth",
           "z": [
            67.734,
            183.28,
            3378.354,
            2405.963,
            3459.747,
            3126.39
           ]
          }
         ],
         "name": "2013"
        },
        {
         "data": [
          {
           "coloraxis": "coloraxis",
           "geo": "geo",
           "hovertemplate": "<b>%{hovertext}</b><br><br>Year=2014<br>code=%{location}<br>Value=%{z}<extra></extra>",
           "hovertext": [
            "Ireland",
            "Ireland",
            "United Kingdom",
            "United Kingdom",
            "France",
            "France"
           ],
           "locations": [
            "IRL",
            "IRL",
            "GBR",
            "GBR",
            "FRA",
            "FRA"
           ],
           "name": "",
           "type": "choropleth",
           "z": [
            79.71,
            265.7,
            4186.072,
            2886.152,
            3491.3,
            2914.731
           ]
          }
         ],
         "name": "2014"
        },
        {
         "data": [
          {
           "coloraxis": "coloraxis",
           "geo": "geo",
           "hovertemplate": "<b>%{hovertext}</b><br><br>Year=2015<br>code=%{location}<br>Value=%{z}<extra></extra>",
           "hovertext": [
            "Ireland",
            "Ireland",
            "United Kingdom",
            "United Kingdom",
            "France",
            "France"
           ],
           "locations": [
            "IRL",
            "IRL",
            "GBR",
            "GBR",
            "FRA",
            "FRA"
           ],
           "name": "",
           "type": "choropleth",
           "z": [
            77.666,
            254.078,
            2870.694,
            1834.861,
            3967.618,
            2739.387
           ]
          }
         ],
         "name": "2015"
        },
        {
         "data": [
          {
           "coloraxis": "coloraxis",
           "geo": "geo",
           "hovertemplate": "<b>%{hovertext}</b><br><br>Year=2016<br>code=%{location}<br>Value=%{z}<extra></extra>",
           "hovertext": [
            "Ireland",
            "Ireland",
            "United Kingdom",
            "United Kingdom",
            "France",
            "France"
           ],
           "locations": [
            "IRL",
            "IRL",
            "GBR",
            "GBR",
            "FRA",
            "FRA"
           ],
           "name": "",
           "type": "choropleth",
           "z": [
            76.376,
            280.046,
            3055.488,
            1879.47,
            3318.496,
            2376.521
           ]
          }
         ],
         "name": "2016"
        },
        {
         "data": [
          {
           "coloraxis": "coloraxis",
           "geo": "geo",
           "hovertemplate": "<b>%{hovertext}</b><br><br>Year=2017<br>code=%{location}<br>Value=%{z}<extra></extra>",
           "hovertext": [
            "Ireland",
            "Ireland",
            "United Kingdom",
            "United Kingdom",
            "France",
            "France"
           ],
           "locations": [
            "IRL",
            "IRL",
            "GBR",
            "GBR",
            "FRA",
            "FRA"
           ],
           "name": "",
           "type": "choropleth",
           "z": [
            85.856,
            338.904,
            3265.22,
            2082.431,
            5437.156,
            2615.212
           ]
          }
         ],
         "name": "2017"
        },
        {
         "data": [
          {
           "coloraxis": "coloraxis",
           "geo": "geo",
           "hovertemplate": "<b>%{hovertext}</b><br><br>Year=2018<br>code=%{location}<br>Value=%{z}<extra></extra>",
           "hovertext": [
            "Ireland",
            "Ireland",
            "United Kingdom",
            "United Kingdom",
            "France",
            "France"
           ],
           "locations": [
            "IRL",
            "IRL",
            "GBR",
            "GBR",
            "FRA",
            "FRA"
           ],
           "name": "",
           "type": "choropleth",
           "z": [
            932.954,
            1230.555,
            3643.609,
            2823.097,
            2279.242,
            1756.079
           ]
          }
         ],
         "name": "2018"
        },
        {
         "data": [
          {
           "coloraxis": "coloraxis",
           "geo": "geo",
           "hovertemplate": "<b>%{hovertext}</b><br><br>Year=2019<br>code=%{location}<br>Value=%{z}<extra></extra>",
           "hovertext": [
            "Ireland",
            "Ireland",
            "United Kingdom",
            "United Kingdom",
            "France",
            "France"
           ],
           "locations": [
            "IRL",
            "IRL",
            "GBR",
            "GBR",
            "FRA",
            "FRA"
           ],
           "name": "",
           "type": "choropleth",
           "z": [
            930.283,
            1179.926,
            3852.216,
            3479.503,
            2352.016,
            1598.61
           ]
          }
         ],
         "name": "2019"
        },
        {
         "data": [
          {
           "coloraxis": "coloraxis",
           "geo": "geo",
           "hovertemplate": "<b>%{hovertext}</b><br><br>Year=2020<br>code=%{location}<br>Value=%{z}<extra></extra>",
           "hovertext": [
            "Ireland",
            "Ireland",
            "United Kingdom",
            "United Kingdom",
            "France",
            "France"
           ],
           "locations": [
            "IRL",
            "IRL",
            "GBR",
            "GBR",
            "FRA",
            "FRA"
           ],
           "name": "",
           "type": "choropleth",
           "z": [
            871.496,
            1099.935,
            4606.413,
            4947.439,
            2447.726,
            1998.843
           ]
          }
         ],
         "name": "2020"
        },
        {
         "data": [
          {
           "coloraxis": "coloraxis",
           "geo": "geo",
           "hovertemplate": "<b>%{hovertext}</b><br><br>Year=2021<br>code=%{location}<br>Value=%{z}<extra></extra>",
           "hovertext": [
            "Ireland",
            "Ireland",
            "United Kingdom",
            "United Kingdom",
            "France",
            "France"
           ],
           "locations": [
            "IRL",
            "IRL",
            "GBR",
            "GBR",
            "FRA",
            "FRA"
           ],
           "name": "",
           "type": "choropleth",
           "z": [
            994.685,
            1243.06,
            4809.749,
            4908.777,
            1196.933,
            2033.131
           ]
          }
         ],
         "name": "2021"
        }
       ],
       "layout": {
        "coloraxis": {
         "colorbar": {
          "title": {
           "text": "Value"
          }
         },
         "colorscale": [
          [
           0,
           "#0d0887"
          ],
          [
           0.1111111111111111,
           "#46039f"
          ],
          [
           0.2222222222222222,
           "#7201a8"
          ],
          [
           0.3333333333333333,
           "#9c179e"
          ],
          [
           0.4444444444444444,
           "#bd3786"
          ],
          [
           0.5555555555555556,
           "#d8576b"
          ],
          [
           0.6666666666666666,
           "#ed7953"
          ],
          [
           0.7777777777777778,
           "#fb9f3a"
          ],
          [
           0.8888888888888888,
           "#fdca26"
          ],
          [
           1,
           "#f0f921"
          ]
         ]
        },
        "geo": {
         "center": {},
         "domain": {
          "x": [
           0,
           1
          ],
          "y": [
           0,
           1
          ]
         },
         "projection": {
          "type": "natural earth"
         }
        },
        "legend": {
         "tracegroupgap": 0
        },
        "margin": {
         "t": 60
        },
        "sliders": [
         {
          "active": 0,
          "currentvalue": {
           "prefix": "Year="
          },
          "len": 0.9,
          "pad": {
           "b": 10,
           "t": 60
          },
          "steps": [
           {
            "args": [
             [
              "2012"
             ],
             {
              "frame": {
               "duration": 0,
               "redraw": true
              },
              "fromcurrent": true,
              "mode": "immediate",
              "transition": {
               "duration": 0,
               "easing": "linear"
              }
             }
            ],
            "label": "2012",
            "method": "animate"
           },
           {
            "args": [
             [
              "2013"
             ],
             {
              "frame": {
               "duration": 0,
               "redraw": true
              },
              "fromcurrent": true,
              "mode": "immediate",
              "transition": {
               "duration": 0,
               "easing": "linear"
              }
             }
            ],
            "label": "2013",
            "method": "animate"
           },
           {
            "args": [
             [
              "2014"
             ],
             {
              "frame": {
               "duration": 0,
               "redraw": true
              },
              "fromcurrent": true,
              "mode": "immediate",
              "transition": {
               "duration": 0,
               "easing": "linear"
              }
             }
            ],
            "label": "2014",
            "method": "animate"
           },
           {
            "args": [
             [
              "2015"
             ],
             {
              "frame": {
               "duration": 0,
               "redraw": true
              },
              "fromcurrent": true,
              "mode": "immediate",
              "transition": {
               "duration": 0,
               "easing": "linear"
              }
             }
            ],
            "label": "2015",
            "method": "animate"
           },
           {
            "args": [
             [
              "2016"
             ],
             {
              "frame": {
               "duration": 0,
               "redraw": true
              },
              "fromcurrent": true,
              "mode": "immediate",
              "transition": {
               "duration": 0,
               "easing": "linear"
              }
             }
            ],
            "label": "2016",
            "method": "animate"
           },
           {
            "args": [
             [
              "2017"
             ],
             {
              "frame": {
               "duration": 0,
               "redraw": true
              },
              "fromcurrent": true,
              "mode": "immediate",
              "transition": {
               "duration": 0,
               "easing": "linear"
              }
             }
            ],
            "label": "2017",
            "method": "animate"
           },
           {
            "args": [
             [
              "2018"
             ],
             {
              "frame": {
               "duration": 0,
               "redraw": true
              },
              "fromcurrent": true,
              "mode": "immediate",
              "transition": {
               "duration": 0,
               "easing": "linear"
              }
             }
            ],
            "label": "2018",
            "method": "animate"
           },
           {
            "args": [
             [
              "2019"
             ],
             {
              "frame": {
               "duration": 0,
               "redraw": true
              },
              "fromcurrent": true,
              "mode": "immediate",
              "transition": {
               "duration": 0,
               "easing": "linear"
              }
             }
            ],
            "label": "2019",
            "method": "animate"
           },
           {
            "args": [
             [
              "2020"
             ],
             {
              "frame": {
               "duration": 0,
               "redraw": true
              },
              "fromcurrent": true,
              "mode": "immediate",
              "transition": {
               "duration": 0,
               "easing": "linear"
              }
             }
            ],
            "label": "2020",
            "method": "animate"
           },
           {
            "args": [
             [
              "2021"
             ],
             {
              "frame": {
               "duration": 0,
               "redraw": true
              },
              "fromcurrent": true,
              "mode": "immediate",
              "transition": {
               "duration": 0,
               "easing": "linear"
              }
             }
            ],
            "label": "2021",
            "method": "animate"
           }
          ],
          "x": 0.1,
          "xanchor": "left",
          "y": 0,
          "yanchor": "top"
         }
        ],
        "template": {
         "data": {
          "bar": [
           {
            "error_x": {
             "color": "#2a3f5f"
            },
            "error_y": {
             "color": "#2a3f5f"
            },
            "marker": {
             "line": {
              "color": "#E5ECF6",
              "width": 0.5
             },
             "pattern": {
              "fillmode": "overlay",
              "size": 10,
              "solidity": 0.2
             }
            },
            "type": "bar"
           }
          ],
          "barpolar": [
           {
            "marker": {
             "line": {
              "color": "#E5ECF6",
              "width": 0.5
             },
             "pattern": {
              "fillmode": "overlay",
              "size": 10,
              "solidity": 0.2
             }
            },
            "type": "barpolar"
           }
          ],
          "carpet": [
           {
            "aaxis": {
             "endlinecolor": "#2a3f5f",
             "gridcolor": "white",
             "linecolor": "white",
             "minorgridcolor": "white",
             "startlinecolor": "#2a3f5f"
            },
            "baxis": {
             "endlinecolor": "#2a3f5f",
             "gridcolor": "white",
             "linecolor": "white",
             "minorgridcolor": "white",
             "startlinecolor": "#2a3f5f"
            },
            "type": "carpet"
           }
          ],
          "choropleth": [
           {
            "colorbar": {
             "outlinewidth": 0,
             "ticks": ""
            },
            "type": "choropleth"
           }
          ],
          "contour": [
           {
            "colorbar": {
             "outlinewidth": 0,
             "ticks": ""
            },
            "colorscale": [
             [
              0,
              "#0d0887"
             ],
             [
              0.1111111111111111,
              "#46039f"
             ],
             [
              0.2222222222222222,
              "#7201a8"
             ],
             [
              0.3333333333333333,
              "#9c179e"
             ],
             [
              0.4444444444444444,
              "#bd3786"
             ],
             [
              0.5555555555555556,
              "#d8576b"
             ],
             [
              0.6666666666666666,
              "#ed7953"
             ],
             [
              0.7777777777777778,
              "#fb9f3a"
             ],
             [
              0.8888888888888888,
              "#fdca26"
             ],
             [
              1,
              "#f0f921"
             ]
            ],
            "type": "contour"
           }
          ],
          "contourcarpet": [
           {
            "colorbar": {
             "outlinewidth": 0,
             "ticks": ""
            },
            "type": "contourcarpet"
           }
          ],
          "heatmap": [
           {
            "colorbar": {
             "outlinewidth": 0,
             "ticks": ""
            },
            "colorscale": [
             [
              0,
              "#0d0887"
             ],
             [
              0.1111111111111111,
              "#46039f"
             ],
             [
              0.2222222222222222,
              "#7201a8"
             ],
             [
              0.3333333333333333,
              "#9c179e"
             ],
             [
              0.4444444444444444,
              "#bd3786"
             ],
             [
              0.5555555555555556,
              "#d8576b"
             ],
             [
              0.6666666666666666,
              "#ed7953"
             ],
             [
              0.7777777777777778,
              "#fb9f3a"
             ],
             [
              0.8888888888888888,
              "#fdca26"
             ],
             [
              1,
              "#f0f921"
             ]
            ],
            "type": "heatmap"
           }
          ],
          "heatmapgl": [
           {
            "colorbar": {
             "outlinewidth": 0,
             "ticks": ""
            },
            "colorscale": [
             [
              0,
              "#0d0887"
             ],
             [
              0.1111111111111111,
              "#46039f"
             ],
             [
              0.2222222222222222,
              "#7201a8"
             ],
             [
              0.3333333333333333,
              "#9c179e"
             ],
             [
              0.4444444444444444,
              "#bd3786"
             ],
             [
              0.5555555555555556,
              "#d8576b"
             ],
             [
              0.6666666666666666,
              "#ed7953"
             ],
             [
              0.7777777777777778,
              "#fb9f3a"
             ],
             [
              0.8888888888888888,
              "#fdca26"
             ],
             [
              1,
              "#f0f921"
             ]
            ],
            "type": "heatmapgl"
           }
          ],
          "histogram": [
           {
            "marker": {
             "pattern": {
              "fillmode": "overlay",
              "size": 10,
              "solidity": 0.2
             }
            },
            "type": "histogram"
           }
          ],
          "histogram2d": [
           {
            "colorbar": {
             "outlinewidth": 0,
             "ticks": ""
            },
            "colorscale": [
             [
              0,
              "#0d0887"
             ],
             [
              0.1111111111111111,
              "#46039f"
             ],
             [
              0.2222222222222222,
              "#7201a8"
             ],
             [
              0.3333333333333333,
              "#9c179e"
             ],
             [
              0.4444444444444444,
              "#bd3786"
             ],
             [
              0.5555555555555556,
              "#d8576b"
             ],
             [
              0.6666666666666666,
              "#ed7953"
             ],
             [
              0.7777777777777778,
              "#fb9f3a"
             ],
             [
              0.8888888888888888,
              "#fdca26"
             ],
             [
              1,
              "#f0f921"
             ]
            ],
            "type": "histogram2d"
           }
          ],
          "histogram2dcontour": [
           {
            "colorbar": {
             "outlinewidth": 0,
             "ticks": ""
            },
            "colorscale": [
             [
              0,
              "#0d0887"
             ],
             [
              0.1111111111111111,
              "#46039f"
             ],
             [
              0.2222222222222222,
              "#7201a8"
             ],
             [
              0.3333333333333333,
              "#9c179e"
             ],
             [
              0.4444444444444444,
              "#bd3786"
             ],
             [
              0.5555555555555556,
              "#d8576b"
             ],
             [
              0.6666666666666666,
              "#ed7953"
             ],
             [
              0.7777777777777778,
              "#fb9f3a"
             ],
             [
              0.8888888888888888,
              "#fdca26"
             ],
             [
              1,
              "#f0f921"
             ]
            ],
            "type": "histogram2dcontour"
           }
          ],
          "mesh3d": [
           {
            "colorbar": {
             "outlinewidth": 0,
             "ticks": ""
            },
            "type": "mesh3d"
           }
          ],
          "parcoords": [
           {
            "line": {
             "colorbar": {
              "outlinewidth": 0,
              "ticks": ""
             }
            },
            "type": "parcoords"
           }
          ],
          "pie": [
           {
            "automargin": true,
            "type": "pie"
           }
          ],
          "scatter": [
           {
            "fillpattern": {
             "fillmode": "overlay",
             "size": 10,
             "solidity": 0.2
            },
            "type": "scatter"
           }
          ],
          "scatter3d": [
           {
            "line": {
             "colorbar": {
              "outlinewidth": 0,
              "ticks": ""
             }
            },
            "marker": {
             "colorbar": {
              "outlinewidth": 0,
              "ticks": ""
             }
            },
            "type": "scatter3d"
           }
          ],
          "scattercarpet": [
           {
            "marker": {
             "colorbar": {
              "outlinewidth": 0,
              "ticks": ""
             }
            },
            "type": "scattercarpet"
           }
          ],
          "scattergeo": [
           {
            "marker": {
             "colorbar": {
              "outlinewidth": 0,
              "ticks": ""
             }
            },
            "type": "scattergeo"
           }
          ],
          "scattergl": [
           {
            "marker": {
             "colorbar": {
              "outlinewidth": 0,
              "ticks": ""
             }
            },
            "type": "scattergl"
           }
          ],
          "scattermapbox": [
           {
            "marker": {
             "colorbar": {
              "outlinewidth": 0,
              "ticks": ""
             }
            },
            "type": "scattermapbox"
           }
          ],
          "scatterpolar": [
           {
            "marker": {
             "colorbar": {
              "outlinewidth": 0,
              "ticks": ""
             }
            },
            "type": "scatterpolar"
           }
          ],
          "scatterpolargl": [
           {
            "marker": {
             "colorbar": {
              "outlinewidth": 0,
              "ticks": ""
             }
            },
            "type": "scatterpolargl"
           }
          ],
          "scatterternary": [
           {
            "marker": {
             "colorbar": {
              "outlinewidth": 0,
              "ticks": ""
             }
            },
            "type": "scatterternary"
           }
          ],
          "surface": [
           {
            "colorbar": {
             "outlinewidth": 0,
             "ticks": ""
            },
            "colorscale": [
             [
              0,
              "#0d0887"
             ],
             [
              0.1111111111111111,
              "#46039f"
             ],
             [
              0.2222222222222222,
              "#7201a8"
             ],
             [
              0.3333333333333333,
              "#9c179e"
             ],
             [
              0.4444444444444444,
              "#bd3786"
             ],
             [
              0.5555555555555556,
              "#d8576b"
             ],
             [
              0.6666666666666666,
              "#ed7953"
             ],
             [
              0.7777777777777778,
              "#fb9f3a"
             ],
             [
              0.8888888888888888,
              "#fdca26"
             ],
             [
              1,
              "#f0f921"
             ]
            ],
            "type": "surface"
           }
          ],
          "table": [
           {
            "cells": {
             "fill": {
              "color": "#EBF0F8"
             },
             "line": {
              "color": "white"
             }
            },
            "header": {
             "fill": {
              "color": "#C8D4E3"
             },
             "line": {
              "color": "white"
             }
            },
            "type": "table"
           }
          ]
         },
         "layout": {
          "annotationdefaults": {
           "arrowcolor": "#2a3f5f",
           "arrowhead": 0,
           "arrowwidth": 1
          },
          "autotypenumbers": "strict",
          "coloraxis": {
           "colorbar": {
            "outlinewidth": 0,
            "ticks": ""
           }
          },
          "colorscale": {
           "diverging": [
            [
             0,
             "#8e0152"
            ],
            [
             0.1,
             "#c51b7d"
            ],
            [
             0.2,
             "#de77ae"
            ],
            [
             0.3,
             "#f1b6da"
            ],
            [
             0.4,
             "#fde0ef"
            ],
            [
             0.5,
             "#f7f7f7"
            ],
            [
             0.6,
             "#e6f5d0"
            ],
            [
             0.7,
             "#b8e186"
            ],
            [
             0.8,
             "#7fbc41"
            ],
            [
             0.9,
             "#4d9221"
            ],
            [
             1,
             "#276419"
            ]
           ],
           "sequential": [
            [
             0,
             "#0d0887"
            ],
            [
             0.1111111111111111,
             "#46039f"
            ],
            [
             0.2222222222222222,
             "#7201a8"
            ],
            [
             0.3333333333333333,
             "#9c179e"
            ],
            [
             0.4444444444444444,
             "#bd3786"
            ],
            [
             0.5555555555555556,
             "#d8576b"
            ],
            [
             0.6666666666666666,
             "#ed7953"
            ],
            [
             0.7777777777777778,
             "#fb9f3a"
            ],
            [
             0.8888888888888888,
             "#fdca26"
            ],
            [
             1,
             "#f0f921"
            ]
           ],
           "sequentialminus": [
            [
             0,
             "#0d0887"
            ],
            [
             0.1111111111111111,
             "#46039f"
            ],
            [
             0.2222222222222222,
             "#7201a8"
            ],
            [
             0.3333333333333333,
             "#9c179e"
            ],
            [
             0.4444444444444444,
             "#bd3786"
            ],
            [
             0.5555555555555556,
             "#d8576b"
            ],
            [
             0.6666666666666666,
             "#ed7953"
            ],
            [
             0.7777777777777778,
             "#fb9f3a"
            ],
            [
             0.8888888888888888,
             "#fdca26"
            ],
            [
             1,
             "#f0f921"
            ]
           ]
          },
          "colorway": [
           "#636efa",
           "#EF553B",
           "#00cc96",
           "#ab63fa",
           "#FFA15A",
           "#19d3f3",
           "#FF6692",
           "#B6E880",
           "#FF97FF",
           "#FECB52"
          ],
          "font": {
           "color": "#2a3f5f"
          },
          "geo": {
           "bgcolor": "white",
           "lakecolor": "white",
           "landcolor": "#E5ECF6",
           "showlakes": true,
           "showland": true,
           "subunitcolor": "white"
          },
          "hoverlabel": {
           "align": "left"
          },
          "hovermode": "closest",
          "mapbox": {
           "style": "light"
          },
          "paper_bgcolor": "white",
          "plot_bgcolor": "#E5ECF6",
          "polar": {
           "angularaxis": {
            "gridcolor": "white",
            "linecolor": "white",
            "ticks": ""
           },
           "bgcolor": "#E5ECF6",
           "radialaxis": {
            "gridcolor": "white",
            "linecolor": "white",
            "ticks": ""
           }
          },
          "scene": {
           "xaxis": {
            "backgroundcolor": "#E5ECF6",
            "gridcolor": "white",
            "gridwidth": 2,
            "linecolor": "white",
            "showbackground": true,
            "ticks": "",
            "zerolinecolor": "white"
           },
           "yaxis": {
            "backgroundcolor": "#E5ECF6",
            "gridcolor": "white",
            "gridwidth": 2,
            "linecolor": "white",
            "showbackground": true,
            "ticks": "",
            "zerolinecolor": "white"
           },
           "zaxis": {
            "backgroundcolor": "#E5ECF6",
            "gridcolor": "white",
            "gridwidth": 2,
            "linecolor": "white",
            "showbackground": true,
            "ticks": "",
            "zerolinecolor": "white"
           }
          },
          "shapedefaults": {
           "line": {
            "color": "#2a3f5f"
           }
          },
          "ternary": {
           "aaxis": {
            "gridcolor": "white",
            "linecolor": "white",
            "ticks": ""
           },
           "baxis": {
            "gridcolor": "white",
            "linecolor": "white",
            "ticks": ""
           },
           "bgcolor": "#E5ECF6",
           "caxis": {
            "gridcolor": "white",
            "linecolor": "white",
            "ticks": ""
           }
          },
          "title": {
           "x": 0.05
          },
          "xaxis": {
           "automargin": true,
           "gridcolor": "white",
           "linecolor": "white",
           "ticks": "",
           "title": {
            "standoff": 15
           },
           "zerolinecolor": "white",
           "zerolinewidth": 2
          },
          "yaxis": {
           "automargin": true,
           "gridcolor": "white",
           "linecolor": "white",
           "ticks": "",
           "title": {
            "standoff": 15
           },
           "zerolinecolor": "white",
           "zerolinewidth": 2
          }
         }
        },
        "title": {
         "text": "Exports and Imports in the Construction Sector by Country from 2012 to 2021 (US Dollars in millions)",
         "x": 0.5,
         "xanchor": "center",
         "y": 0.95,
         "yanchor": "top"
        },
        "updatemenus": [
         {
          "buttons": [
           {
            "args": [
             null,
             {
              "frame": {
               "duration": 500,
               "redraw": true
              },
              "fromcurrent": true,
              "mode": "immediate",
              "transition": {
               "duration": 500,
               "easing": "linear"
              }
             }
            ],
            "label": "&#9654;",
            "method": "animate"
           },
           {
            "args": [
             [
              null
             ],
             {
              "frame": {
               "duration": 0,
               "redraw": true
              },
              "fromcurrent": true,
              "mode": "immediate",
              "transition": {
               "duration": 0,
               "easing": "linear"
              }
             }
            ],
            "label": "&#9724;",
            "method": "animate"
           }
          ],
          "direction": "left",
          "pad": {
           "r": 10,
           "t": 70
          },
          "showactive": false,
          "type": "buttons",
          "x": 0.1,
          "xanchor": "right",
          "y": 0,
          "yanchor": "top"
         }
        ]
       }
      },
      "text/html": [
       "<div>                            <div id=\"14c18e55-9723-420d-aac3-049ae1fb00c6\" class=\"plotly-graph-div\" style=\"height:525px; width:100%;\"></div>            <script type=\"text/javascript\">                require([\"plotly\"], function(Plotly) {                    window.PLOTLYENV=window.PLOTLYENV || {};                                    if (document.getElementById(\"14c18e55-9723-420d-aac3-049ae1fb00c6\")) {                    Plotly.newPlot(                        \"14c18e55-9723-420d-aac3-049ae1fb00c6\",                        [{\"coloraxis\":\"coloraxis\",\"geo\":\"geo\",\"hovertemplate\":\"<b>%{hovertext}</b><br><br>Year=2012<br>code=%{location}<br>Value=%{z}<extra></extra>\",\"hovertext\":[\"Ireland\",\"Ireland\",\"United Kingdom\",\"United Kingdom\",\"France\",\"France\"],\"locations\":[\"IRL\",\"IRL\",\"GBR\",\"GBR\",\"FRA\",\"FRA\"],\"name\":\"\",\"z\":[69.379,143.896,2568.53,2074.096,2956.299,2778.998],\"type\":\"choropleth\"}],                        {\"template\":{\"data\":{\"histogram2dcontour\":[{\"type\":\"histogram2dcontour\",\"colorbar\":{\"outlinewidth\":0,\"ticks\":\"\"},\"colorscale\":[[0.0,\"#0d0887\"],[0.1111111111111111,\"#46039f\"],[0.2222222222222222,\"#7201a8\"],[0.3333333333333333,\"#9c179e\"],[0.4444444444444444,\"#bd3786\"],[0.5555555555555556,\"#d8576b\"],[0.6666666666666666,\"#ed7953\"],[0.7777777777777778,\"#fb9f3a\"],[0.8888888888888888,\"#fdca26\"],[1.0,\"#f0f921\"]]}],\"choropleth\":[{\"type\":\"choropleth\",\"colorbar\":{\"outlinewidth\":0,\"ticks\":\"\"}}],\"histogram2d\":[{\"type\":\"histogram2d\",\"colorbar\":{\"outlinewidth\":0,\"ticks\":\"\"},\"colorscale\":[[0.0,\"#0d0887\"],[0.1111111111111111,\"#46039f\"],[0.2222222222222222,\"#7201a8\"],[0.3333333333333333,\"#9c179e\"],[0.4444444444444444,\"#bd3786\"],[0.5555555555555556,\"#d8576b\"],[0.6666666666666666,\"#ed7953\"],[0.7777777777777778,\"#fb9f3a\"],[0.8888888888888888,\"#fdca26\"],[1.0,\"#f0f921\"]]}],\"heatmap\":[{\"type\":\"heatmap\",\"colorbar\":{\"outlinewidth\":0,\"ticks\":\"\"},\"colorscale\":[[0.0,\"#0d0887\"],[0.1111111111111111,\"#46039f\"],[0.2222222222222222,\"#7201a8\"],[0.3333333333333333,\"#9c179e\"],[0.4444444444444444,\"#bd3786\"],[0.5555555555555556,\"#d8576b\"],[0.6666666666666666,\"#ed7953\"],[0.7777777777777778,\"#fb9f3a\"],[0.8888888888888888,\"#fdca26\"],[1.0,\"#f0f921\"]]}],\"heatmapgl\":[{\"type\":\"heatmapgl\",\"colorbar\":{\"outlinewidth\":0,\"ticks\":\"\"},\"colorscale\":[[0.0,\"#0d0887\"],[0.1111111111111111,\"#46039f\"],[0.2222222222222222,\"#7201a8\"],[0.3333333333333333,\"#9c179e\"],[0.4444444444444444,\"#bd3786\"],[0.5555555555555556,\"#d8576b\"],[0.6666666666666666,\"#ed7953\"],[0.7777777777777778,\"#fb9f3a\"],[0.8888888888888888,\"#fdca26\"],[1.0,\"#f0f921\"]]}],\"contourcarpet\":[{\"type\":\"contourcarpet\",\"colorbar\":{\"outlinewidth\":0,\"ticks\":\"\"}}],\"contour\":[{\"type\":\"contour\",\"colorbar\":{\"outlinewidth\":0,\"ticks\":\"\"},\"colorscale\":[[0.0,\"#0d0887\"],[0.1111111111111111,\"#46039f\"],[0.2222222222222222,\"#7201a8\"],[0.3333333333333333,\"#9c179e\"],[0.4444444444444444,\"#bd3786\"],[0.5555555555555556,\"#d8576b\"],[0.6666666666666666,\"#ed7953\"],[0.7777777777777778,\"#fb9f3a\"],[0.8888888888888888,\"#fdca26\"],[1.0,\"#f0f921\"]]}],\"surface\":[{\"type\":\"surface\",\"colorbar\":{\"outlinewidth\":0,\"ticks\":\"\"},\"colorscale\":[[0.0,\"#0d0887\"],[0.1111111111111111,\"#46039f\"],[0.2222222222222222,\"#7201a8\"],[0.3333333333333333,\"#9c179e\"],[0.4444444444444444,\"#bd3786\"],[0.5555555555555556,\"#d8576b\"],[0.6666666666666666,\"#ed7953\"],[0.7777777777777778,\"#fb9f3a\"],[0.8888888888888888,\"#fdca26\"],[1.0,\"#f0f921\"]]}],\"mesh3d\":[{\"type\":\"mesh3d\",\"colorbar\":{\"outlinewidth\":0,\"ticks\":\"\"}}],\"scatter\":[{\"fillpattern\":{\"fillmode\":\"overlay\",\"size\":10,\"solidity\":0.2},\"type\":\"scatter\"}],\"parcoords\":[{\"type\":\"parcoords\",\"line\":{\"colorbar\":{\"outlinewidth\":0,\"ticks\":\"\"}}}],\"scatterpolargl\":[{\"type\":\"scatterpolargl\",\"marker\":{\"colorbar\":{\"outlinewidth\":0,\"ticks\":\"\"}}}],\"bar\":[{\"error_x\":{\"color\":\"#2a3f5f\"},\"error_y\":{\"color\":\"#2a3f5f\"},\"marker\":{\"line\":{\"color\":\"#E5ECF6\",\"width\":0.5},\"pattern\":{\"fillmode\":\"overlay\",\"size\":10,\"solidity\":0.2}},\"type\":\"bar\"}],\"scattergeo\":[{\"type\":\"scattergeo\",\"marker\":{\"colorbar\":{\"outlinewidth\":0,\"ticks\":\"\"}}}],\"scatterpolar\":[{\"type\":\"scatterpolar\",\"marker\":{\"colorbar\":{\"outlinewidth\":0,\"ticks\":\"\"}}}],\"histogram\":[{\"marker\":{\"pattern\":{\"fillmode\":\"overlay\",\"size\":10,\"solidity\":0.2}},\"type\":\"histogram\"}],\"scattergl\":[{\"type\":\"scattergl\",\"marker\":{\"colorbar\":{\"outlinewidth\":0,\"ticks\":\"\"}}}],\"scatter3d\":[{\"type\":\"scatter3d\",\"line\":{\"colorbar\":{\"outlinewidth\":0,\"ticks\":\"\"}},\"marker\":{\"colorbar\":{\"outlinewidth\":0,\"ticks\":\"\"}}}],\"scattermapbox\":[{\"type\":\"scattermapbox\",\"marker\":{\"colorbar\":{\"outlinewidth\":0,\"ticks\":\"\"}}}],\"scatterternary\":[{\"type\":\"scatterternary\",\"marker\":{\"colorbar\":{\"outlinewidth\":0,\"ticks\":\"\"}}}],\"scattercarpet\":[{\"type\":\"scattercarpet\",\"marker\":{\"colorbar\":{\"outlinewidth\":0,\"ticks\":\"\"}}}],\"carpet\":[{\"aaxis\":{\"endlinecolor\":\"#2a3f5f\",\"gridcolor\":\"white\",\"linecolor\":\"white\",\"minorgridcolor\":\"white\",\"startlinecolor\":\"#2a3f5f\"},\"baxis\":{\"endlinecolor\":\"#2a3f5f\",\"gridcolor\":\"white\",\"linecolor\":\"white\",\"minorgridcolor\":\"white\",\"startlinecolor\":\"#2a3f5f\"},\"type\":\"carpet\"}],\"table\":[{\"cells\":{\"fill\":{\"color\":\"#EBF0F8\"},\"line\":{\"color\":\"white\"}},\"header\":{\"fill\":{\"color\":\"#C8D4E3\"},\"line\":{\"color\":\"white\"}},\"type\":\"table\"}],\"barpolar\":[{\"marker\":{\"line\":{\"color\":\"#E5ECF6\",\"width\":0.5},\"pattern\":{\"fillmode\":\"overlay\",\"size\":10,\"solidity\":0.2}},\"type\":\"barpolar\"}],\"pie\":[{\"automargin\":true,\"type\":\"pie\"}]},\"layout\":{\"autotypenumbers\":\"strict\",\"colorway\":[\"#636efa\",\"#EF553B\",\"#00cc96\",\"#ab63fa\",\"#FFA15A\",\"#19d3f3\",\"#FF6692\",\"#B6E880\",\"#FF97FF\",\"#FECB52\"],\"font\":{\"color\":\"#2a3f5f\"},\"hovermode\":\"closest\",\"hoverlabel\":{\"align\":\"left\"},\"paper_bgcolor\":\"white\",\"plot_bgcolor\":\"#E5ECF6\",\"polar\":{\"bgcolor\":\"#E5ECF6\",\"angularaxis\":{\"gridcolor\":\"white\",\"linecolor\":\"white\",\"ticks\":\"\"},\"radialaxis\":{\"gridcolor\":\"white\",\"linecolor\":\"white\",\"ticks\":\"\"}},\"ternary\":{\"bgcolor\":\"#E5ECF6\",\"aaxis\":{\"gridcolor\":\"white\",\"linecolor\":\"white\",\"ticks\":\"\"},\"baxis\":{\"gridcolor\":\"white\",\"linecolor\":\"white\",\"ticks\":\"\"},\"caxis\":{\"gridcolor\":\"white\",\"linecolor\":\"white\",\"ticks\":\"\"}},\"coloraxis\":{\"colorbar\":{\"outlinewidth\":0,\"ticks\":\"\"}},\"colorscale\":{\"sequential\":[[0.0,\"#0d0887\"],[0.1111111111111111,\"#46039f\"],[0.2222222222222222,\"#7201a8\"],[0.3333333333333333,\"#9c179e\"],[0.4444444444444444,\"#bd3786\"],[0.5555555555555556,\"#d8576b\"],[0.6666666666666666,\"#ed7953\"],[0.7777777777777778,\"#fb9f3a\"],[0.8888888888888888,\"#fdca26\"],[1.0,\"#f0f921\"]],\"sequentialminus\":[[0.0,\"#0d0887\"],[0.1111111111111111,\"#46039f\"],[0.2222222222222222,\"#7201a8\"],[0.3333333333333333,\"#9c179e\"],[0.4444444444444444,\"#bd3786\"],[0.5555555555555556,\"#d8576b\"],[0.6666666666666666,\"#ed7953\"],[0.7777777777777778,\"#fb9f3a\"],[0.8888888888888888,\"#fdca26\"],[1.0,\"#f0f921\"]],\"diverging\":[[0,\"#8e0152\"],[0.1,\"#c51b7d\"],[0.2,\"#de77ae\"],[0.3,\"#f1b6da\"],[0.4,\"#fde0ef\"],[0.5,\"#f7f7f7\"],[0.6,\"#e6f5d0\"],[0.7,\"#b8e186\"],[0.8,\"#7fbc41\"],[0.9,\"#4d9221\"],[1,\"#276419\"]]},\"xaxis\":{\"gridcolor\":\"white\",\"linecolor\":\"white\",\"ticks\":\"\",\"title\":{\"standoff\":15},\"zerolinecolor\":\"white\",\"automargin\":true,\"zerolinewidth\":2},\"yaxis\":{\"gridcolor\":\"white\",\"linecolor\":\"white\",\"ticks\":\"\",\"title\":{\"standoff\":15},\"zerolinecolor\":\"white\",\"automargin\":true,\"zerolinewidth\":2},\"scene\":{\"xaxis\":{\"backgroundcolor\":\"#E5ECF6\",\"gridcolor\":\"white\",\"linecolor\":\"white\",\"showbackground\":true,\"ticks\":\"\",\"zerolinecolor\":\"white\",\"gridwidth\":2},\"yaxis\":{\"backgroundcolor\":\"#E5ECF6\",\"gridcolor\":\"white\",\"linecolor\":\"white\",\"showbackground\":true,\"ticks\":\"\",\"zerolinecolor\":\"white\",\"gridwidth\":2},\"zaxis\":{\"backgroundcolor\":\"#E5ECF6\",\"gridcolor\":\"white\",\"linecolor\":\"white\",\"showbackground\":true,\"ticks\":\"\",\"zerolinecolor\":\"white\",\"gridwidth\":2}},\"shapedefaults\":{\"line\":{\"color\":\"#2a3f5f\"}},\"annotationdefaults\":{\"arrowcolor\":\"#2a3f5f\",\"arrowhead\":0,\"arrowwidth\":1},\"geo\":{\"bgcolor\":\"white\",\"landcolor\":\"#E5ECF6\",\"subunitcolor\":\"white\",\"showland\":true,\"showlakes\":true,\"lakecolor\":\"white\"},\"title\":{\"x\":0.05},\"mapbox\":{\"style\":\"light\"}}},\"geo\":{\"domain\":{\"x\":[0.0,1.0],\"y\":[0.0,1.0]},\"center\":{},\"projection\":{\"type\":\"natural earth\"}},\"coloraxis\":{\"colorbar\":{\"title\":{\"text\":\"Value\"}},\"colorscale\":[[0.0,\"#0d0887\"],[0.1111111111111111,\"#46039f\"],[0.2222222222222222,\"#7201a8\"],[0.3333333333333333,\"#9c179e\"],[0.4444444444444444,\"#bd3786\"],[0.5555555555555556,\"#d8576b\"],[0.6666666666666666,\"#ed7953\"],[0.7777777777777778,\"#fb9f3a\"],[0.8888888888888888,\"#fdca26\"],[1.0,\"#f0f921\"]]},\"legend\":{\"tracegroupgap\":0},\"margin\":{\"t\":60},\"updatemenus\":[{\"buttons\":[{\"args\":[null,{\"frame\":{\"duration\":500,\"redraw\":true},\"mode\":\"immediate\",\"fromcurrent\":true,\"transition\":{\"duration\":500,\"easing\":\"linear\"}}],\"label\":\"&#9654;\",\"method\":\"animate\"},{\"args\":[[null],{\"frame\":{\"duration\":0,\"redraw\":true},\"mode\":\"immediate\",\"fromcurrent\":true,\"transition\":{\"duration\":0,\"easing\":\"linear\"}}],\"label\":\"&#9724;\",\"method\":\"animate\"}],\"direction\":\"left\",\"pad\":{\"r\":10,\"t\":70},\"showactive\":false,\"type\":\"buttons\",\"x\":0.1,\"xanchor\":\"right\",\"y\":0,\"yanchor\":\"top\"}],\"sliders\":[{\"active\":0,\"currentvalue\":{\"prefix\":\"Year=\"},\"len\":0.9,\"pad\":{\"b\":10,\"t\":60},\"steps\":[{\"args\":[[\"2012\"],{\"frame\":{\"duration\":0,\"redraw\":true},\"mode\":\"immediate\",\"fromcurrent\":true,\"transition\":{\"duration\":0,\"easing\":\"linear\"}}],\"label\":\"2012\",\"method\":\"animate\"},{\"args\":[[\"2013\"],{\"frame\":{\"duration\":0,\"redraw\":true},\"mode\":\"immediate\",\"fromcurrent\":true,\"transition\":{\"duration\":0,\"easing\":\"linear\"}}],\"label\":\"2013\",\"method\":\"animate\"},{\"args\":[[\"2014\"],{\"frame\":{\"duration\":0,\"redraw\":true},\"mode\":\"immediate\",\"fromcurrent\":true,\"transition\":{\"duration\":0,\"easing\":\"linear\"}}],\"label\":\"2014\",\"method\":\"animate\"},{\"args\":[[\"2015\"],{\"frame\":{\"duration\":0,\"redraw\":true},\"mode\":\"immediate\",\"fromcurrent\":true,\"transition\":{\"duration\":0,\"easing\":\"linear\"}}],\"label\":\"2015\",\"method\":\"animate\"},{\"args\":[[\"2016\"],{\"frame\":{\"duration\":0,\"redraw\":true},\"mode\":\"immediate\",\"fromcurrent\":true,\"transition\":{\"duration\":0,\"easing\":\"linear\"}}],\"label\":\"2016\",\"method\":\"animate\"},{\"args\":[[\"2017\"],{\"frame\":{\"duration\":0,\"redraw\":true},\"mode\":\"immediate\",\"fromcurrent\":true,\"transition\":{\"duration\":0,\"easing\":\"linear\"}}],\"label\":\"2017\",\"method\":\"animate\"},{\"args\":[[\"2018\"],{\"frame\":{\"duration\":0,\"redraw\":true},\"mode\":\"immediate\",\"fromcurrent\":true,\"transition\":{\"duration\":0,\"easing\":\"linear\"}}],\"label\":\"2018\",\"method\":\"animate\"},{\"args\":[[\"2019\"],{\"frame\":{\"duration\":0,\"redraw\":true},\"mode\":\"immediate\",\"fromcurrent\":true,\"transition\":{\"duration\":0,\"easing\":\"linear\"}}],\"label\":\"2019\",\"method\":\"animate\"},{\"args\":[[\"2020\"],{\"frame\":{\"duration\":0,\"redraw\":true},\"mode\":\"immediate\",\"fromcurrent\":true,\"transition\":{\"duration\":0,\"easing\":\"linear\"}}],\"label\":\"2020\",\"method\":\"animate\"},{\"args\":[[\"2021\"],{\"frame\":{\"duration\":0,\"redraw\":true},\"mode\":\"immediate\",\"fromcurrent\":true,\"transition\":{\"duration\":0,\"easing\":\"linear\"}}],\"label\":\"2021\",\"method\":\"animate\"}],\"x\":0.1,\"xanchor\":\"left\",\"y\":0,\"yanchor\":\"top\"}],\"title\":{\"text\":\"Exports and Imports in the Construction Sector by Country from 2012 to 2021 (US Dollars in millions)\",\"x\":0.5,\"y\":0.95,\"xanchor\":\"center\",\"yanchor\":\"top\"}},                        {\"responsive\": true}                    ).then(function(){\n",
       "                            Plotly.addFrames('14c18e55-9723-420d-aac3-049ae1fb00c6', [{\"data\":[{\"coloraxis\":\"coloraxis\",\"geo\":\"geo\",\"hovertemplate\":\"<b>%{hovertext}</b><br><br>Year=2012<br>code=%{location}<br>Value=%{z}<extra></extra>\",\"hovertext\":[\"Ireland\",\"Ireland\",\"United Kingdom\",\"United Kingdom\",\"France\",\"France\"],\"locations\":[\"IRL\",\"IRL\",\"GBR\",\"GBR\",\"FRA\",\"FRA\"],\"name\":\"\",\"z\":[69.379,143.896,2568.53,2074.096,2956.299,2778.998],\"type\":\"choropleth\"}],\"name\":\"2012\"},{\"data\":[{\"coloraxis\":\"coloraxis\",\"geo\":\"geo\",\"hovertemplate\":\"<b>%{hovertext}</b><br><br>Year=2013<br>code=%{location}<br>Value=%{z}<extra></extra>\",\"hovertext\":[\"Ireland\",\"Ireland\",\"United Kingdom\",\"United Kingdom\",\"France\",\"France\"],\"locations\":[\"IRL\",\"IRL\",\"GBR\",\"GBR\",\"FRA\",\"FRA\"],\"name\":\"\",\"z\":[67.734,183.28,3378.354,2405.963,3459.747,3126.39],\"type\":\"choropleth\"}],\"name\":\"2013\"},{\"data\":[{\"coloraxis\":\"coloraxis\",\"geo\":\"geo\",\"hovertemplate\":\"<b>%{hovertext}</b><br><br>Year=2014<br>code=%{location}<br>Value=%{z}<extra></extra>\",\"hovertext\":[\"Ireland\",\"Ireland\",\"United Kingdom\",\"United Kingdom\",\"France\",\"France\"],\"locations\":[\"IRL\",\"IRL\",\"GBR\",\"GBR\",\"FRA\",\"FRA\"],\"name\":\"\",\"z\":[79.71,265.7,4186.072,2886.152,3491.3,2914.731],\"type\":\"choropleth\"}],\"name\":\"2014\"},{\"data\":[{\"coloraxis\":\"coloraxis\",\"geo\":\"geo\",\"hovertemplate\":\"<b>%{hovertext}</b><br><br>Year=2015<br>code=%{location}<br>Value=%{z}<extra></extra>\",\"hovertext\":[\"Ireland\",\"Ireland\",\"United Kingdom\",\"United Kingdom\",\"France\",\"France\"],\"locations\":[\"IRL\",\"IRL\",\"GBR\",\"GBR\",\"FRA\",\"FRA\"],\"name\":\"\",\"z\":[77.666,254.078,2870.694,1834.861,3967.618,2739.387],\"type\":\"choropleth\"}],\"name\":\"2015\"},{\"data\":[{\"coloraxis\":\"coloraxis\",\"geo\":\"geo\",\"hovertemplate\":\"<b>%{hovertext}</b><br><br>Year=2016<br>code=%{location}<br>Value=%{z}<extra></extra>\",\"hovertext\":[\"Ireland\",\"Ireland\",\"United Kingdom\",\"United Kingdom\",\"France\",\"France\"],\"locations\":[\"IRL\",\"IRL\",\"GBR\",\"GBR\",\"FRA\",\"FRA\"],\"name\":\"\",\"z\":[76.376,280.046,3055.488,1879.47,3318.496,2376.521],\"type\":\"choropleth\"}],\"name\":\"2016\"},{\"data\":[{\"coloraxis\":\"coloraxis\",\"geo\":\"geo\",\"hovertemplate\":\"<b>%{hovertext}</b><br><br>Year=2017<br>code=%{location}<br>Value=%{z}<extra></extra>\",\"hovertext\":[\"Ireland\",\"Ireland\",\"United Kingdom\",\"United Kingdom\",\"France\",\"France\"],\"locations\":[\"IRL\",\"IRL\",\"GBR\",\"GBR\",\"FRA\",\"FRA\"],\"name\":\"\",\"z\":[85.856,338.904,3265.22,2082.431,5437.156,2615.212],\"type\":\"choropleth\"}],\"name\":\"2017\"},{\"data\":[{\"coloraxis\":\"coloraxis\",\"geo\":\"geo\",\"hovertemplate\":\"<b>%{hovertext}</b><br><br>Year=2018<br>code=%{location}<br>Value=%{z}<extra></extra>\",\"hovertext\":[\"Ireland\",\"Ireland\",\"United Kingdom\",\"United Kingdom\",\"France\",\"France\"],\"locations\":[\"IRL\",\"IRL\",\"GBR\",\"GBR\",\"FRA\",\"FRA\"],\"name\":\"\",\"z\":[932.954,1230.555,3643.609,2823.097,2279.242,1756.079],\"type\":\"choropleth\"}],\"name\":\"2018\"},{\"data\":[{\"coloraxis\":\"coloraxis\",\"geo\":\"geo\",\"hovertemplate\":\"<b>%{hovertext}</b><br><br>Year=2019<br>code=%{location}<br>Value=%{z}<extra></extra>\",\"hovertext\":[\"Ireland\",\"Ireland\",\"United Kingdom\",\"United Kingdom\",\"France\",\"France\"],\"locations\":[\"IRL\",\"IRL\",\"GBR\",\"GBR\",\"FRA\",\"FRA\"],\"name\":\"\",\"z\":[930.283,1179.926,3852.216,3479.503,2352.016,1598.61],\"type\":\"choropleth\"}],\"name\":\"2019\"},{\"data\":[{\"coloraxis\":\"coloraxis\",\"geo\":\"geo\",\"hovertemplate\":\"<b>%{hovertext}</b><br><br>Year=2020<br>code=%{location}<br>Value=%{z}<extra></extra>\",\"hovertext\":[\"Ireland\",\"Ireland\",\"United Kingdom\",\"United Kingdom\",\"France\",\"France\"],\"locations\":[\"IRL\",\"IRL\",\"GBR\",\"GBR\",\"FRA\",\"FRA\"],\"name\":\"\",\"z\":[871.496,1099.935,4606.413,4947.439,2447.726,1998.843],\"type\":\"choropleth\"}],\"name\":\"2020\"},{\"data\":[{\"coloraxis\":\"coloraxis\",\"geo\":\"geo\",\"hovertemplate\":\"<b>%{hovertext}</b><br><br>Year=2021<br>code=%{location}<br>Value=%{z}<extra></extra>\",\"hovertext\":[\"Ireland\",\"Ireland\",\"United Kingdom\",\"United Kingdom\",\"France\",\"France\"],\"locations\":[\"IRL\",\"IRL\",\"GBR\",\"GBR\",\"FRA\",\"FRA\"],\"name\":\"\",\"z\":[994.685,1243.06,4809.749,4908.777,1196.933,2033.131],\"type\":\"choropleth\"}],\"name\":\"2021\"}]);\n",
       "                        }).then(function(){\n",
       "                            \n",
       "var gd = document.getElementById('14c18e55-9723-420d-aac3-049ae1fb00c6');\n",
       "var x = new MutationObserver(function (mutations, observer) {{\n",
       "        var display = window.getComputedStyle(gd).display;\n",
       "        if (!display || display === 'none') {{\n",
       "            console.log([gd, 'removed!']);\n",
       "            Plotly.purge(gd);\n",
       "            observer.disconnect();\n",
       "        }}\n",
       "}});\n",
       "\n",
       "// Listen for the removal of the full notebook cells\n",
       "var notebookContainer = gd.closest('#notebook-container');\n",
       "if (notebookContainer) {{\n",
       "    x.observe(notebookContainer, {childList: true});\n",
       "}}\n",
       "\n",
       "// Listen for the clearing of the current output cell\n",
       "var outputEl = gd.closest('.output');\n",
       "if (outputEl) {{\n",
       "    x.observe(outputEl, {childList: true});\n",
       "}}\n",
       "\n",
       "                        })                };                });            </script>        </div>"
      ]
     },
     "metadata": {},
     "output_type": "display_data"
    }
   ],
   "source": [
    "fig = px.choropleth(merged_datasets, \n",
    "                    locations=\"code\",  # column containing country names\n",
    "                    color=\"Value\",  # column by which to color-code\n",
    "                    hover_name=\"Country\",  # column to display in hover information\n",
    "                    animation_frame=\"Year\", # column on which to animate \n",
    "                    color_continuous_scale=px.colors.sequential.Plasma)\n",
    "fig.update_geos(projection_type=\"natural earth\")\n",
    "fig.update_layout(\n",
    "    title={\n",
    "        'text': 'Exports and Imports in the Construction Sector by Country from 2012 to 2021 (US Dollars in millions)',\n",
    "        'x': 0.5,\n",
    "        'y': 0.95,\n",
    "        'xanchor': 'center',\n",
    "        'yanchor': 'top',  \n",
    "    }  \n",
    ")\n",
    "\n",
    "fig.show()"
   ]
  },
  {
   "cell_type": "code",
   "execution_count": null,
   "id": "b3958021",
   "metadata": {},
   "outputs": [],
   "source": []
  }
 ],
 "metadata": {
  "kernelspec": {
   "display_name": "Python 3 (ipykernel)",
   "language": "python",
   "name": "python3"
  },
  "language_info": {
   "codemirror_mode": {
    "name": "ipython",
    "version": 3
   },
   "file_extension": ".py",
   "mimetype": "text/x-python",
   "name": "python",
   "nbconvert_exporter": "python",
   "pygments_lexer": "ipython3",
   "version": "3.9.13"
  }
 },
 "nbformat": 4,
 "nbformat_minor": 5
}
